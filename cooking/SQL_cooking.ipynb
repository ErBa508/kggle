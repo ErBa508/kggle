{
 "cells": [
  {
   "cell_type": "code",
   "execution_count": 2,
   "metadata": {
    "collapsed": true
   },
   "outputs": [],
   "source": [
    "import pandas as pd\n",
    "import psycopg2 as psql"
   ]
  },
  {
   "cell_type": "code",
   "execution_count": 3,
   "metadata": {
    "collapsed": true
   },
   "outputs": [],
   "source": [
    "# Load in the Data\n",
    "train = pd.read_json('train.json')\n",
    "test = pd.read_json('test.json')"
   ]
  },
  {
   "cell_type": "code",
   "execution_count": 43,
   "metadata": {
    "collapsed": false
   },
   "outputs": [
    {
     "data": {
      "text/plain": [
       "39774"
      ]
     },
     "execution_count": 43,
     "metadata": {},
     "output_type": "execute_result"
    }
   ],
   "source": [
    "len(train)"
   ]
  },
  {
   "cell_type": "code",
   "execution_count": 41,
   "metadata": {
    "collapsed": false
   },
   "outputs": [],
   "source": [
    "def dbPut(table, data, db = 'postgres', user = 'postgres'):\n",
    "    \n",
    "    \"\"\" Connect to postgres database, create table (drop if exists), add column with n-rows to database.\n",
    "    Train is expected to be a pandas dataframe. \"\"\"\n",
    "    \n",
    "    colNames = list(data.columns.values)\n",
    "\n",
    "    connect_text = \"dbname=%s user=%s\" % (db, user)\n",
    "    conn = psql.connect(connect_text)\n",
    "    \n",
    "    cur = conn.cursor()\n",
    "    \n",
    "    drop_text = \"DROP TABLE IF EXISTS %s;\" % (table, )\n",
    "    cur.execute(drop_text)\n",
    "\n",
    "    create_text = 'CREATE TABLE %s (%s TEXT, %s INTEGER, %s TEXT); ' % (table, colNames[0], colNames[1], colNames[2])\n",
    "    \n",
    "    cur.execute(create_text)\n",
    "    \n",
    "    addthis = 'INSERT INTO %s (%s, %s, %s)' \\\n",
    "            ' VALUES (%%s, %%s, %%s);' \\\n",
    "            % (table, colNames[0], colNames[1], colNames[2])\n",
    "\n",
    "    for i in range(len(data)):\n",
    "        cur.execute(addthis, (data.iloc[i][0], int(data.iloc[i][1]), data.iloc[i][2]))\n",
    "    \n",
    "    conn.commit()\n",
    "    \n",
    "    cur.close()\n",
    "    conn.close()"
   ]
  },
  {
   "cell_type": "code",
   "execution_count": 42,
   "metadata": {
    "collapsed": true
   },
   "outputs": [],
   "source": [
    "db = 'postgres'\n",
    "user = 'postgres'\n",
    "table = 'cookingTrain'\n",
    "dbPut(table, train, db, user)"
   ]
  },
  {
   "cell_type": "markdown",
   "metadata": {},
   "source": [
    "# Explore data"
   ]
  },
  {
   "cell_type": "code",
   "execution_count": null,
   "metadata": {
    "collapsed": true
   },
   "outputs": [],
   "source": [
    "# select * from cookingtrain\n",
    "# where ingredients like '%fresh%';\n",
    "\n",
    "# 13658 rows"
   ]
  },
  {
   "cell_type": "code",
   "execution_count": null,
   "metadata": {
    "collapsed": true
   },
   "outputs": [],
   "source": [
    "# select * from cookingtrain\n",
    "# where ingredients like '%large%';\n",
    "\n",
    "# 4902 rows"
   ]
  }
 ],
 "metadata": {
  "kernelspec": {
   "display_name": "Python 3",
   "language": "python",
   "name": "python3"
  },
  "language_info": {
   "codemirror_mode": {
    "name": "ipython",
    "version": 3
   },
   "file_extension": ".py",
   "mimetype": "text/x-python",
   "name": "python",
   "nbconvert_exporter": "python",
   "pygments_lexer": "ipython3",
   "version": "3.4.3"
  }
 },
 "nbformat": 4,
 "nbformat_minor": 0
}

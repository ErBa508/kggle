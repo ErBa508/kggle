{
 "cells": [
  {
   "cell_type": "code",
   "execution_count": 1,
   "metadata": {
    "collapsed": true
   },
   "outputs": [],
   "source": [
    "import pandas as pd\n",
    "import psycopg2 as psql"
   ]
  },
  {
   "cell_type": "code",
   "execution_count": 2,
   "metadata": {
    "collapsed": false
   },
   "outputs": [],
   "source": [
    "# Load in the Data\n",
    "train = pd.read_json('train.json')\n",
    "test = pd.read_json('test.json')"
   ]
  },
  {
   "cell_type": "markdown",
   "metadata": {},
   "source": [
    "# createSql class"
   ]
  },
  {
   "cell_type": "code",
   "execution_count": 3,
   "metadata": {
    "collapsed": true
   },
   "outputs": [],
   "source": [
    "class createSql(object):\n",
    "    \"\"\" \n",
    "    createSqlTable will 1. connect to postgres, 2. drop table if exists, \n",
    "    3. build new table, 4. close connection. Note, data is added to table\n",
    "    outside of class and not included as a method here.\n",
    "    \n",
    "    Example usage:\n",
    "        # instantiate\n",
    "        postgr = createSql('cookingTrain', train, 'postgres', 'postgres')\n",
    "        # connect\n",
    "        conn, cur = postgr.connectSql()\n",
    "        # drop table if exists\n",
    "        postgr.dropTbl(cur)\n",
    "        # build new table\n",
    "        labels = (postgr.table,) + tuple(postgr.colNames)\n",
    "        create_text = 'CREATE TABLE %s (%s TEXT, %s INTEGER PRIMARY KEY, %s TEXT); ' % labels\n",
    "        postgr.buildTbl(create_text)\n",
    "        # add data to table for each row\n",
    "        rows_text = 'INSERT INTO %s (%s, %s, %s) VALUES (%%s, %%s, %%s);'  % labels\n",
    "        for i in range(len(postgr.data)):\n",
    "            cur.execute(rows_text, (postgr.data.iloc[i][0], int(postgr.data.iloc[i][1]), postgr.data.iloc[i][2]))\n",
    "        # close connection\n",
    "        postgr.closeSql(conn, cur)\n",
    "    \n",
    "    \"\"\"\n",
    "    \n",
    "    def __init__(self, table, data, db, user):\n",
    "        \"\"\"Assign raw data. Assumes dataframe \"\"\"\n",
    "        self.table = table\n",
    "        self.data = data\n",
    "        self.db = db\n",
    "        self.user = user\n",
    "        self.colNames = data.columns.values\n",
    "    \n",
    "    def connectSql(self):\n",
    "        connect_text = \"dbname=%s user=%s\" % (self.db, self.user)\n",
    "        conn = psql.connect(connect_text)\n",
    "        cur = conn.cursor()\n",
    "        return conn, cur\n",
    "    \n",
    "    def dropTbl(self, cur):\n",
    "        drop_text = \"DROP TABLE IF EXISTS %s;\" % (self.table, )\n",
    "        cur.execute(drop_text)\n",
    "        \n",
    "    def buildTbl(self, create_text):\n",
    "        cur.execute(create_text)\n",
    "        \n",
    "    def closeSql(self, conn, cur):\n",
    "        conn.commit()\n",
    "        cur.close()\n",
    "        conn.close()"
   ]
  },
  {
   "cell_type": "code",
   "execution_count": 6,
   "metadata": {
    "collapsed": false
   },
   "outputs": [],
   "source": [
    "# instantiate\n",
    "postgr = createSql('cookingTrain', train, 'postgres', 'postgres')\n",
    "# connect\n",
    "conn, cur = postgr.connectSql()\n",
    "# drop table if exists\n",
    "postgr.dropTbl(cur)\n",
    "# build new table\n",
    "labels = (postgr.table,) + tuple(postgr.colNames)\n",
    "create_text = 'CREATE TABLE %s (%s TEXT, %s INTEGER PRIMARY KEY, %s TEXT); ' % labels\n",
    "postgr.buildTbl(create_text)\n",
    "# add data to table for each row\n",
    "rows_text = 'INSERT INTO %s (%s, %s, %s) VALUES (%%s, %%s, %%s);'  % labels\n",
    "for i in range(len(postgr.data)):\n",
    "    cur.execute(rows_text, (postgr.data.iloc[i][0], int(postgr.data.iloc[i][1]), postgr.data.iloc[i][2]))\n",
    "# close connection\n",
    "postgr.closeSql(conn, cur)"
   ]
  },
  {
   "cell_type": "markdown",
   "metadata": {},
   "source": [
    "# Old version as one function"
   ]
  },
  {
   "cell_type": "code",
   "execution_count": 5,
   "metadata": {
    "collapsed": false
   },
   "outputs": [],
   "source": [
    "# creates table in database with data\n",
    "def dbPut(table, data, db = 'postgres', user = 'postgres'):\n",
    "    \n",
    "    \"\"\" Connect to postgres database, create table (drop if exists), add column with n-rows to database.\n",
    "    Train is expected to be a pandas dataframe. \"\"\"\n",
    "    \n",
    "    colNames = list(data.columns.values)\n",
    "\n",
    "    connect_text = \"dbname=%s user=%s\" % (db, user)\n",
    "    conn = psql.connect(connect_text)\n",
    "    \n",
    "    cur = conn.cursor()\n",
    "    \n",
    "    drop_text = \"DROP TABLE IF EXISTS %s;\" % (table, )\n",
    "    cur.execute(drop_text)\n",
    "\n",
    "    create_text = 'CREATE TABLE %s (%s TEXT, %s INTEGER, %s TEXT); ' % (table, colNames[0], colNames[1], colNames[2])\n",
    "    \n",
    "    cur.execute(create_text)\n",
    "    \n",
    "    addthis = 'INSERT INTO %s (%s, %s, %s)' \\\n",
    "            ' VALUES (%%s, %%s, %%s);' \\\n",
    "            % (table, colNames[0], colNames[1], colNames[2])\n",
    "\n",
    "    for i in range(len(data)):\n",
    "        cur.execute(addthis, (data.iloc[i][0], int(data.iloc[i][1]), data.iloc[i][2]))\n",
    "    \n",
    "    conn.commit()\n",
    "    \n",
    "    cur.close()\n",
    "    conn.close()"
   ]
  },
  {
   "cell_type": "code",
   "execution_count": 6,
   "metadata": {
    "collapsed": true
   },
   "outputs": [],
   "source": [
    "db = 'postgres'\n",
    "user = 'postgres'\n",
    "table = 'cookingTrain'\n",
    "dbPut(table, train, db, user)"
   ]
  },
  {
   "cell_type": "markdown",
   "metadata": {},
   "source": [
    "# Explore data"
   ]
  },
  {
   "cell_type": "code",
   "execution_count": null,
   "metadata": {
    "collapsed": true
   },
   "outputs": [],
   "source": [
    "# select * from cookingtrain\n",
    "# where ingredients like '%fresh%';\n",
    "\n",
    "# 13658 rows"
   ]
  },
  {
   "cell_type": "code",
   "execution_count": 8,
   "metadata": {
    "collapsed": false
   },
   "outputs": [],
   "source": [
    "# select * from cookingtrain\n",
    "# where ingredients like '%large%';\n",
    "\n",
    "# 4902 rows"
   ]
  },
  {
   "cell_type": "code",
   "execution_count": null,
   "metadata": {
    "collapsed": true
   },
   "outputs": [],
   "source": []
  }
 ],
 "metadata": {
  "kernelspec": {
   "display_name": "Python 3",
   "language": "python",
   "name": "python3"
  },
  "language_info": {
   "codemirror_mode": {
    "name": "ipython",
    "version": 3
   },
   "file_extension": ".py",
   "mimetype": "text/x-python",
   "name": "python",
   "nbconvert_exporter": "python",
   "pygments_lexer": "ipython3",
   "version": "3.4.3"
  }
 },
 "nbformat": 4,
 "nbformat_minor": 0
}

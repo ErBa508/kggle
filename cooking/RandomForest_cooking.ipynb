{
 "cells": [
  {
   "cell_type": "code",
   "execution_count": 1,
   "metadata": {
    "collapsed": true
   },
   "outputs": [],
   "source": [
    "# Standard Imports\n",
    "from pandas import Series, DataFrame\n",
    "import pandas as pd\n",
    "import numpy as np\n",
    "import matplotlib.pylab as plt\n",
    "plt.rcParams['font.size'] = 14\n",
    "import seaborn as sns\n",
    "%matplotlib inline"
   ]
  },
  {
   "cell_type": "code",
   "execution_count": 2,
   "metadata": {
    "collapsed": true
   },
   "outputs": [],
   "source": [
    "# Performance\n",
    "from time import time"
   ]
  },
  {
   "cell_type": "code",
   "execution_count": 3,
   "metadata": {
    "collapsed": true
   },
   "outputs": [],
   "source": [
    "# Machine Learning\n",
    "from sklearn.ensemble import RandomForestClassifier\n",
    "from sklearn.linear_model import LogisticRegression"
   ]
  },
  {
   "cell_type": "code",
   "execution_count": 26,
   "metadata": {
    "collapsed": false
   },
   "outputs": [],
   "source": [
    "# Helper\n",
    "from sklearn.cross_validation import cross_val_predict, cross_val_score, train_test_split\n",
    "from sklearn.metrics import accuracy_score\n",
    "from sklearn.feature_extraction.text import CountVectorizer, TfidfVectorizer\n",
    "from nltk.stem.snowball import SnowballStemmer\n",
    "stemmer = SnowballStemmer(\"english\")\n",
    "from sklearn.feature_selection import SelectPercentile, f_classif\n",
    "from sklearn.grid_search import GridSearchCV, RandomizedSearchCV"
   ]
  },
  {
   "cell_type": "markdown",
   "metadata": {},
   "source": [
    "# Preliminaries"
   ]
  },
  {
   "cell_type": "code",
   "execution_count": 5,
   "metadata": {
    "collapsed": false
   },
   "outputs": [],
   "source": [
    "# Load in the Data\n",
    "train = pd.read_json('train.json')\n",
    "test = pd.read_json('test.json')"
   ]
  },
  {
   "cell_type": "code",
   "execution_count": 6,
   "metadata": {
    "collapsed": false
   },
   "outputs": [
    {
     "data": {
      "text/html": [
       "<div style=\"max-height:1000px;max-width:1500px;overflow:auto;\">\n",
       "<table border=\"1\" class=\"dataframe\">\n",
       "  <thead>\n",
       "    <tr style=\"text-align: right;\">\n",
       "      <th></th>\n",
       "      <th>cuisine</th>\n",
       "      <th>id</th>\n",
       "      <th>ingredients</th>\n",
       "    </tr>\n",
       "  </thead>\n",
       "  <tbody>\n",
       "    <tr>\n",
       "      <th>0</th>\n",
       "      <td>       greek</td>\n",
       "      <td> 10259</td>\n",
       "      <td> [romaine lettuce, black olives, grape tomatoes...</td>\n",
       "    </tr>\n",
       "    <tr>\n",
       "      <th>1</th>\n",
       "      <td> southern_us</td>\n",
       "      <td> 25693</td>\n",
       "      <td> [plain flour, ground pepper, salt, tomatoes, g...</td>\n",
       "    </tr>\n",
       "    <tr>\n",
       "      <th>2</th>\n",
       "      <td>    filipino</td>\n",
       "      <td> 20130</td>\n",
       "      <td> [eggs, pepper, salt, mayonaise, cooking oil, g...</td>\n",
       "    </tr>\n",
       "    <tr>\n",
       "      <th>3</th>\n",
       "      <td>      indian</td>\n",
       "      <td> 22213</td>\n",
       "      <td>               [water, vegetable oil, wheat, salt]</td>\n",
       "    </tr>\n",
       "    <tr>\n",
       "      <th>4</th>\n",
       "      <td>      indian</td>\n",
       "      <td> 13162</td>\n",
       "      <td> [black pepper, shallots, cornflour, cayenne pe...</td>\n",
       "    </tr>\n",
       "  </tbody>\n",
       "</table>\n",
       "</div>"
      ],
      "text/plain": [
       "       cuisine     id                                        ingredients\n",
       "0        greek  10259  [romaine lettuce, black olives, grape tomatoes...\n",
       "1  southern_us  25693  [plain flour, ground pepper, salt, tomatoes, g...\n",
       "2     filipino  20130  [eggs, pepper, salt, mayonaise, cooking oil, g...\n",
       "3       indian  22213                [water, vegetable oil, wheat, salt]\n",
       "4       indian  13162  [black pepper, shallots, cornflour, cayenne pe..."
      ]
     },
     "execution_count": 6,
     "metadata": {},
     "output_type": "execute_result"
    }
   ],
   "source": [
    "train.head()"
   ]
  },
  {
   "cell_type": "code",
   "execution_count": 7,
   "metadata": {
    "collapsed": false
   },
   "outputs": [
    {
     "data": {
      "text/html": [
       "<div style=\"max-height:1000px;max-width:1500px;overflow:auto;\">\n",
       "<table border=\"1\" class=\"dataframe\">\n",
       "  <thead>\n",
       "    <tr style=\"text-align: right;\">\n",
       "      <th></th>\n",
       "      <th>id</th>\n",
       "      <th>ingredients</th>\n",
       "    </tr>\n",
       "  </thead>\n",
       "  <tbody>\n",
       "    <tr>\n",
       "      <th>0</th>\n",
       "      <td> 18009</td>\n",
       "      <td> [baking powder, eggs, all-purpose flour, raisi...</td>\n",
       "    </tr>\n",
       "    <tr>\n",
       "      <th>1</th>\n",
       "      <td> 28583</td>\n",
       "      <td> [sugar, egg yolks, corn starch, cream of tarta...</td>\n",
       "    </tr>\n",
       "    <tr>\n",
       "      <th>2</th>\n",
       "      <td> 41580</td>\n",
       "      <td> [sausage links, fennel bulb, fronds, olive oil...</td>\n",
       "    </tr>\n",
       "    <tr>\n",
       "      <th>3</th>\n",
       "      <td> 29752</td>\n",
       "      <td> [meat cuts, file powder, smoked sausage, okra,...</td>\n",
       "    </tr>\n",
       "    <tr>\n",
       "      <th>4</th>\n",
       "      <td> 35687</td>\n",
       "      <td> [ground black pepper, salt, sausage casings, l...</td>\n",
       "    </tr>\n",
       "  </tbody>\n",
       "</table>\n",
       "</div>"
      ],
      "text/plain": [
       "      id                                        ingredients\n",
       "0  18009  [baking powder, eggs, all-purpose flour, raisi...\n",
       "1  28583  [sugar, egg yolks, corn starch, cream of tarta...\n",
       "2  41580  [sausage links, fennel bulb, fronds, olive oil...\n",
       "3  29752  [meat cuts, file powder, smoked sausage, okra,...\n",
       "4  35687  [ground black pepper, salt, sausage casings, l..."
      ]
     },
     "execution_count": 7,
     "metadata": {},
     "output_type": "execute_result"
    }
   ],
   "source": [
    "test.head()"
   ]
  },
  {
   "cell_type": "code",
   "execution_count": 8,
   "metadata": {
    "collapsed": false
   },
   "outputs": [
    {
     "data": {
      "text/plain": [
       "<matplotlib.axes._subplots.AxesSubplot at 0x107facc0>"
      ]
     },
     "execution_count": 8,
     "metadata": {},
     "output_type": "execute_result"
    },
    {
     "data": {
      "image/png": "[encoded data removed]",
      "text/plain": [
       "<matplotlib.figure.Figure at 0x107fae80>"
      ]
     },
     "metadata": {},
     "output_type": "display_data"
    }
   ],
   "source": [
    "train.cuisine.value_counts().plot(kind = 'bar')"
   ]
  },
  {
   "cell_type": "code",
   "execution_count": 9,
   "metadata": {
    "collapsed": false
   },
   "outputs": [
    {
     "name": "stdout",
     "output_type": "stream",
     "text": [
      "Null accuracy is 0.197063408257\n"
     ]
    }
   ],
   "source": [
    "# null accuracy \n",
    "\n",
    "null_accuracy = train.cuisine.value_counts().max()/train.cuisine.count()\n",
    "\n",
    "print(\"Null accuracy is\", null_accuracy)"
   ]
  },
  {
   "cell_type": "code",
   "execution_count": 10,
   "metadata": {
    "collapsed": false
   },
   "outputs": [],
   "source": [
    "# create hold-out set to determine accuracy of random forest\n",
    "X_supvtrain, X_supvtest, y_supvtrain, y_supvtest = train_test_split(train[\"ingredients\"], train[\"cuisine\"])"
   ]
  },
  {
   "cell_type": "markdown",
   "metadata": {},
   "source": [
    "## Feature extraction (text) ##"
   ]
  },
  {
   "cell_type": "code",
   "execution_count": 11,
   "metadata": {
    "collapsed": false
   },
   "outputs": [],
   "source": [
    "class featureExtraction(object):\n",
    "    \"\"\"\n",
    "    cleanedText represents the text data that will be processed \n",
    "    \"\"\"\n",
    "    \n",
    "    def __init__(self, data):\n",
    "        \"\"\"Assign raw data. Assumes dataframe \"\"\"\n",
    "        self.data = data\n",
    "        \n",
    "    def extractWords(self):\n",
    "        \"\"\"Extract the unique ingredients\"\"\"\n",
    "        words = [' '.join(item) for item in self.data]\n",
    "        return words\n",
    "    \n",
    "    def stem(self, words):\n",
    "        stemmedTokens = [stemmer.stem(w) for w in words] \n",
    "        return stemmedTokens\n",
    "    \n",
    "    def vectorize(self, stemmedTokens, max_features=2500, ngram_range=(1,1), \\\n",
    "                  lowercase=True, stop_words=None, max_df=0.5, min_df= 10):\n",
    "        \"\"\"Tokenize, count, and weight the words\"\"\"\n",
    "        vec = TfidfVectorizer(max_features=max_features, ngram_range=ngram_range, \\\n",
    "                              lowercase=lowercase, stop_words=stop_words, max_df=max_df, min_df= min_df)\n",
    "        vec.fit(stemmedTokens)\n",
    "        return vec\n",
    "    \n",
    "    def bag_of_words(self, vec, stemmedTokens):\n",
    "        bag_of_words = vec.transform(stemmedTokens).toarray()\n",
    "        return bag_of_words"
   ]
  },
  {
   "cell_type": "code",
   "execution_count": 12,
   "metadata": {
    "collapsed": false
   },
   "outputs": [
    {
     "data": {
      "text/plain": [
       "(29830, 1837)"
      ]
     },
     "execution_count": 12,
     "metadata": {},
     "output_type": "execute_result"
    }
   ],
   "source": [
    "# clean training data\n",
    "text = featureExtraction(X_supvtrain)\n",
    "words_train = text.extractWords()\n",
    "stemmed_train = text.stem(words_train)\n",
    "vec = text.vectorize(stemmed_train, max_features=2000, ngram_range=(1,1), \\\n",
    "               lowercase=True, stop_words=None, max_df=0.15, min_df= 5)\n",
    "bow_train = text.bag_of_words(vec, stemmed_train)\n",
    "bow_train.shape"
   ]
  },
  {
   "cell_type": "code",
   "execution_count": 13,
   "metadata": {
    "collapsed": false
   },
   "outputs": [
    {
     "data": {
      "text/plain": [
       "(9944, 1837)"
      ]
     },
     "execution_count": 13,
     "metadata": {},
     "output_type": "execute_result"
    }
   ],
   "source": [
    "# clean test data\n",
    "text = featureExtraction(X_supvtest)\n",
    "words_supvtest = text.extractWords()\n",
    "stemmed_supvtest = text.stem(words_supvtest)\n",
    "bow_supvtest = text.bag_of_words(vec, stemmed_supvtest)\n",
    "bow_supvtest.shape"
   ]
  },
  {
   "cell_type": "markdown",
   "metadata": {},
   "source": [
    "# Feature selection"
   ]
  },
  {
   "cell_type": "code",
   "execution_count": 24,
   "metadata": {
    "collapsed": false
   },
   "outputs": [],
   "source": [
    "# poor performance\n",
    "\n",
    "# selector = SelectPercentile(f_classif, percentile = 10)\n",
    "# selector.fit(bow_train, y_supvtrain)\n",
    "# new_bow_train = selector.transform(bow_train)\n",
    "# new_bow_supvtest = selector.transform(bow_supvtest)"
   ]
  },
  {
   "cell_type": "markdown",
   "metadata": {},
   "source": [
    "# Hyper-parameter tuning\n",
    "**Goal**: select best number of estimators for random forest"
   ]
  },
  {
   "cell_type": "markdown",
   "metadata": {},
   "source": [
    "## *Randomized grid scores*"
   ]
  },
  {
   "cell_type": "code",
   "execution_count": 36,
   "metadata": {
    "collapsed": false
   },
   "outputs": [
    {
     "name": "stdout",
     "output_type": "stream",
     "text": [
      "RandomizedSearchCV took 234.38 seconds for 20 candidates parameter settings.\n"
     ]
    }
   ],
   "source": [
    "# specify parameters and distributions to sample from\n",
    "from scipy.stats import randint as sp_randint\n",
    "\n",
    "# build classifier\n",
    "clf = RandomForestClassifier(n_estimators=20)\n",
    "\n",
    "param_dist = {#\"max_depth\": [3, None],                  # None better\n",
    "              \"max_features\": sp_randint(10, 20),        # higher better\n",
    "              #\"min_samples_split\": sp_randint(1, 11),    # lower\n",
    "              \"min_samples_leaf\": sp_randint(1, 11),    # lower?\n",
    "              #\"bootstrap\": [True, False], \n",
    "              #\"criterion\": [\"gini\", \"entropy\"]          # entropy\n",
    "              }        \n",
    "\n",
    "# run randomized search\n",
    "n_iter_search = 20\n",
    "random_search = RandomizedSearchCV(clf, param_distributions=param_dist,\n",
    "                                   n_iter=n_iter_search)\n",
    "\n",
    "start = time()\n",
    "random_search.fit(bow_train, y_supvtrain)\n",
    "print(\"RandomizedSearchCV took %.2f seconds for %d candidates\"\n",
    "      \" parameter settings.\" % ((time() - start), n_iter_search))"
   ]
  },
  {
   "cell_type": "code",
   "execution_count": 37,
   "metadata": {
    "collapsed": false
   },
   "outputs": [
    {
     "name": "stdout",
     "output_type": "stream",
     "text": [
      "0.587 (+/-0.007) for {'min_samples_leaf': 8, 'max_features': 13}\n",
      "0.587 (+/-0.014) for {'min_samples_leaf': 10, 'max_features': 15}\n",
      "0.673 (+/-0.005) for {'min_samples_leaf': 2, 'max_features': 18}\n",
      "0.647 (+/-0.006) for {'min_samples_leaf': 3, 'max_features': 17}\n",
      "0.595 (+/-0.006) for {'min_samples_leaf': 10, 'max_features': 17}\n",
      "0.583 (+/-0.017) for {'min_samples_leaf': 10, 'max_features': 13}\n",
      "0.601 (+/-0.008) for {'min_samples_leaf': 5, 'max_features': 12}\n",
      "0.580 (+/-0.010) for {'min_samples_leaf': 10, 'max_features': 13}\n",
      "0.600 (+/-0.017) for {'min_samples_leaf': 8, 'max_features': 16}\n",
      "0.589 (+/-0.008) for {'min_samples_leaf': 10, 'max_features': 16}\n",
      "0.631 (+/-0.000) for {'min_samples_leaf': 5, 'max_features': 18}\n",
      "0.582 (+/-0.006) for {'min_samples_leaf': 6, 'max_features': 10}\n",
      "0.610 (+/-0.005) for {'min_samples_leaf': 4, 'max_features': 11}\n",
      "0.615 (+/-0.002) for {'min_samples_leaf': 8, 'max_features': 19}\n",
      "0.576 (+/-0.010) for {'min_samples_leaf': 8, 'max_features': 11}\n",
      "0.594 (+/-0.010) for {'min_samples_leaf': 10, 'max_features': 16}\n",
      "0.661 (+/-0.007) for {'min_samples_leaf': 2, 'max_features': 15}\n",
      "0.611 (+/-0.008) for {'min_samples_leaf': 8, 'max_features': 19}\n",
      "0.600 (+/-0.009) for {'min_samples_leaf': 7, 'max_features': 14}\n",
      "0.645 (+/-0.004) for {'min_samples_leaf': 2, 'max_features': 11}\n"
     ]
    }
   ],
   "source": [
    "for params, mean_score, scores in random_search.grid_scores_:\n",
    "        print(\"%0.3f (+/-%0.03f) for %r\"\n",
    "              % (mean_score, scores.std() * 2, params))"
   ]
  },
  {
   "cell_type": "code",
   "execution_count": 38,
   "metadata": {
    "collapsed": false
   },
   "outputs": [
    {
     "name": "stdout",
     "output_type": "stream",
     "text": [
      "\tmax_features: 18\n",
      "\tmin_samples_leaf: 2\n"
     ]
    }
   ],
   "source": [
    "best_parameters = random_search.best_estimator_.get_params()\n",
    "for param_name in sorted(param_dist.keys()):\n",
    "    print(\"\\t%s: %r\" % (param_name, best_parameters[param_name]))"
   ]
  },
  {
   "cell_type": "code",
   "execution_count": null,
   "metadata": {
    "collapsed": true
   },
   "outputs": [],
   "source": [
    "# \tbootstrap: False\n",
    "# \tcriterion: 'entropy', 'entropy'\n",
    "# \tmax_depth: None\n",
    "# \tmax_features: 9, 10, 11, 18\n",
    "# \tmin_samples_leaf: 1, 1, 1, 2\n",
    "# \tmin_samples_split: 7, 1, 8"
   ]
  },
  {
   "cell_type": "code",
   "execution_count": 42,
   "metadata": {
    "collapsed": false
   },
   "outputs": [],
   "source": [
    "param_range = [1, 30, 40, 50]\n",
    "tree_scores = []\n",
    "for param_num in param_range:\n",
    "    clf = RandomForestClassifier(n_estimators = 20, max_features = param_num)\n",
    "    scores = cross_val_score(clf, bow_train, y_supvtrain, cv = 5, scoring = 'accuracy')\n",
    "    tree_scores.append(scores.mean())"
   ]
  },
  {
   "cell_type": "code",
   "execution_count": 43,
   "metadata": {
    "collapsed": false
   },
   "outputs": [
    {
     "data": {
      "text/plain": [
       "<matplotlib.text.Text at 0x1171f668>"
      ]
     },
     "execution_count": 43,
     "metadata": {},
     "output_type": "execute_result"
    },
    {
     "data": {
      "image/png": "[encoded data removed]",
      "text/plain": [
       "<matplotlib.figure.Figure at 0x11634a90>"
      ]
     },
     "metadata": {},
     "output_type": "display_data"
    }
   ],
   "source": [
    "# plot scores for tree #'s\n",
    "plt.plot(param_range, tree_scores)\n",
    "plt.xlabel(\"Max features\")\n",
    "plt.ylabel(\"Cross-validated accuracy\")"
   ]
  },
  {
   "cell_type": "markdown",
   "metadata": {},
   "source": [
    "## Model selection ## \n",
    "\n",
    "Build a forest of trees from the training set (X, y)"
   ]
  },
  {
   "cell_type": "code",
   "execution_count": 44,
   "metadata": {
    "collapsed": false
   },
   "outputs": [
    {
     "name": "stdout",
     "output_type": "stream",
     "text": [
      "0.739087733792\n",
      "RandomForest Training finished in 634.01 s\n"
     ]
    }
   ],
   "source": [
    "start = time()\n",
    "clf1 = RandomForestClassifier(n_estimators = 100)\n",
    "print(cross_val_score(clf1, bow_train, y_supvtrain, cv = 10, scoring = 'accuracy').mean())\n",
    "print(\"RandomForest Training finished in %.2f s\" % (time() - start))"
   ]
  },
  {
   "cell_type": "code",
   "execution_count": null,
   "metadata": {
    "collapsed": true
   },
   "outputs": [],
   "source": [
    "#  0.731345214181 with 40 estimators\n",
    "# 0.739087733792 with 100 estimators"
   ]
  },
  {
   "cell_type": "code",
   "execution_count": 17,
   "metadata": {
    "collapsed": false
   },
   "outputs": [
    {
     "name": "stdout",
     "output_type": "stream",
     "text": [
      "0.764965899233\n",
      "Log Regression Training finished in 52.90 s\n"
     ]
    }
   ],
   "source": [
    "start = time()\n",
    "clf2 = LogisticRegression()\n",
    "print(cross_val_score(clf2, bow_train, y_supvtrain, cv = 10, scoring = 'accuracy').mean())\n",
    "print(\"Log Regression Training finished in %.2f s\" % (time() - start))"
   ]
  },
  {
   "cell_type": "code",
   "execution_count": null,
   "metadata": {
    "collapsed": true
   },
   "outputs": [],
   "source": [
    "#  0.764965899233"
   ]
  },
  {
   "cell_type": "markdown",
   "metadata": {},
   "source": [
    "##Model evaluation\n",
    "\n"
   ]
  },
  {
   "cell_type": "markdown",
   "metadata": {},
   "source": [
    "##Hold-out test set\n"
   ]
  },
  {
   "cell_type": "code",
   "execution_count": 20,
   "metadata": {
    "collapsed": false
   },
   "outputs": [
    {
     "name": "stdout",
     "output_type": "stream",
     "text": [
      "Accuracy:  0.732401448109\n"
     ]
    }
   ],
   "source": [
    "# Test the Prediction\n",
    "clf1.fit(bow_train, y_supvtrain)\n",
    "forest_pred = clf1.predict(bow_supvtest)\n",
    "print(\"Accuracy: \", accuracy_score(forest_pred, y_supvtest))"
   ]
  },
  {
   "cell_type": "code",
   "execution_count": 21,
   "metadata": {
    "collapsed": false
   },
   "outputs": [
    {
     "name": "stdout",
     "output_type": "stream",
     "text": [
      "Accuracy:  0.762972646822\n"
     ]
    }
   ],
   "source": [
    "# Test the Prediction\n",
    "clf2.fit(bow_train, y_supvtrain)\n",
    "log_pred = clf2.predict(bow_supvtest)\n",
    "print(\"Accuracy: \", accuracy_score(log_pred, y_supvtest))"
   ]
  },
  {
   "cell_type": "code",
   "execution_count": null,
   "metadata": {
    "collapsed": true
   },
   "outputs": [],
   "source": []
  }
 ],
 "metadata": {
  "kernelspec": {
   "display_name": "Python 3",
   "language": "python",
   "name": "python3"
  },
  "language_info": {
   "codemirror_mode": {
    "name": "ipython",
    "version": 3
   },
   "file_extension": ".py",
   "mimetype": "text/x-python",
   "name": "python",
   "nbconvert_exporter": "python",
   "pygments_lexer": "ipython3",
   "version": "3.4.3"
  }
 },
 "nbformat": 4,
 "nbformat_minor": 0
}

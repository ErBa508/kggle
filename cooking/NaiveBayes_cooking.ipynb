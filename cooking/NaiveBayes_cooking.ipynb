{
 "cells": [
  {
   "cell_type": "code",
   "execution_count": 1,
   "metadata": {
    "collapsed": false
   },
   "outputs": [
    {
     "name": "stderr",
     "output_type": "stream",
     "text": [
      "C:\\Users\\Erin\\Anaconda3\\lib\\site-packages\\matplotlib\\__init__.py:872: UserWarning: axes.color_cycle is deprecated and replaced with axes.prop_cycle; please use the latter.\n",
      "  warnings.warn(self.msg_depr % (key, alt_key))\n"
     ]
    }
   ],
   "source": [
    "# Standard Imports\n",
    "from pandas import Series, DataFrame\n",
    "import pandas as pd\n",
    "import numpy as np\n",
    "import matplotlib.pylab as plt\n",
    "import seaborn as sns\n",
    "%matplotlib inline"
   ]
  },
  {
   "cell_type": "code",
   "execution_count": 2,
   "metadata": {
    "collapsed": true
   },
   "outputs": [],
   "source": [
    "# Performance\n",
    "from time import time"
   ]
  },
  {
   "cell_type": "code",
   "execution_count": 3,
   "metadata": {
    "collapsed": true
   },
   "outputs": [],
   "source": [
    "# Machine Learning\n",
    "from sklearn.naive_bayes import MultinomialNB"
   ]
  },
  {
   "cell_type": "code",
   "execution_count": 4,
   "metadata": {
    "collapsed": true
   },
   "outputs": [],
   "source": [
    "# Helper\n",
    "from sklearn.feature_extraction.text import CountVectorizer\n",
    "from sklearn.feature_extraction.text import TfidfVectorizer\n",
    "from sklearn.feature_selection import SelectKBest, chi2\n",
    "from sklearn.cross_validation import cross_val_predict, cross_val_score, train_test_split\n",
    "from sklearn.metrics import accuracy_score\n",
    "from sklearn import metrics\n",
    "from sklearn.pipeline import Pipeline\n",
    "from sklearn.grid_search import GridSearchCV"
   ]
  },
  {
   "cell_type": "markdown",
   "metadata": {},
   "source": [
    "# Preliminaries"
   ]
  },
  {
   "cell_type": "code",
   "execution_count": 5,
   "metadata": {
    "collapsed": true
   },
   "outputs": [],
   "source": [
    "# Load in the Data\n",
    "train = pd.read_json('train.json')\n",
    "test = pd.read_json('test.json')"
   ]
  },
  {
   "cell_type": "code",
   "execution_count": 6,
   "metadata": {
    "collapsed": false
   },
   "outputs": [
    {
     "data": {
      "text/html": [
       "<div style=\"max-height:1000px;max-width:1500px;overflow:auto;\">\n",
       "<table border=\"1\" class=\"dataframe\">\n",
       "  <thead>\n",
       "    <tr style=\"text-align: right;\">\n",
       "      <th></th>\n",
       "      <th>cuisine</th>\n",
       "      <th>id</th>\n",
       "      <th>ingredients</th>\n",
       "    </tr>\n",
       "  </thead>\n",
       "  <tbody>\n",
       "    <tr>\n",
       "      <th>0</th>\n",
       "      <td>       greek</td>\n",
       "      <td> 10259</td>\n",
       "      <td> [romaine lettuce, black olives, grape tomatoes...</td>\n",
       "    </tr>\n",
       "    <tr>\n",
       "      <th>1</th>\n",
       "      <td> southern_us</td>\n",
       "      <td> 25693</td>\n",
       "      <td> [plain flour, ground pepper, salt, tomatoes, g...</td>\n",
       "    </tr>\n",
       "    <tr>\n",
       "      <th>2</th>\n",
       "      <td>    filipino</td>\n",
       "      <td> 20130</td>\n",
       "      <td> [eggs, pepper, salt, mayonaise, cooking oil, g...</td>\n",
       "    </tr>\n",
       "    <tr>\n",
       "      <th>3</th>\n",
       "      <td>      indian</td>\n",
       "      <td> 22213</td>\n",
       "      <td>               [water, vegetable oil, wheat, salt]</td>\n",
       "    </tr>\n",
       "    <tr>\n",
       "      <th>4</th>\n",
       "      <td>      indian</td>\n",
       "      <td> 13162</td>\n",
       "      <td> [black pepper, shallots, cornflour, cayenne pe...</td>\n",
       "    </tr>\n",
       "  </tbody>\n",
       "</table>\n",
       "</div>"
      ],
      "text/plain": [
       "       cuisine     id                                        ingredients\n",
       "0        greek  10259  [romaine lettuce, black olives, grape tomatoes...\n",
       "1  southern_us  25693  [plain flour, ground pepper, salt, tomatoes, g...\n",
       "2     filipino  20130  [eggs, pepper, salt, mayonaise, cooking oil, g...\n",
       "3       indian  22213                [water, vegetable oil, wheat, salt]\n",
       "4       indian  13162  [black pepper, shallots, cornflour, cayenne pe..."
      ]
     },
     "execution_count": 6,
     "metadata": {},
     "output_type": "execute_result"
    }
   ],
   "source": [
    "train.head()"
   ]
  },
  {
   "cell_type": "code",
   "execution_count": 7,
   "metadata": {
    "collapsed": false
   },
   "outputs": [
    {
     "name": "stdout",
     "output_type": "stream",
     "text": [
      "Null accuracy is 0.197063408257\n"
     ]
    }
   ],
   "source": [
    "# null accuracy (what is accuracy if always predict most prevalent class)\n",
    "# this gives an idea of the underlying distribution of response values\n",
    "train.cuisine.value_counts()\n",
    "train.cuisine.count()\n",
    "null_accuracy = train.cuisine.value_counts().max()/train.cuisine.count()\n",
    "\n",
    "print(\"Null accuracy is\", null_accuracy)"
   ]
  },
  {
   "cell_type": "code",
   "execution_count": 8,
   "metadata": {
    "collapsed": false
   },
   "outputs": [],
   "source": [
    "# split data! train-test split\n",
    "X_supvtrain, X_supvtest, y_supvtrain, y_supvtest = train_test_split(train[\"ingredients\"], train[\"cuisine\"])"
   ]
  },
  {
   "cell_type": "markdown",
   "metadata": {},
   "source": [
    "# String similarity"
   ]
  },
  {
   "cell_type": "code",
   "execution_count": 16,
   "metadata": {
    "collapsed": false,
    "scrolled": true
   },
   "outputs": [
    {
     "name": "stdout",
     "output_type": "stream",
     "text": [
      "55\n",
      "71\n",
      "77\n",
      "100\n"
     ]
    }
   ],
   "source": [
    "from fuzzywuzzy import fuzz\n",
    "print(fuzz.ratio(\"cheese mozzarella\", \"part-skim mozzarella cheese\"))\n",
    "# is the shorter string a substring of the longer\n",
    "print(fuzz.partial_ratio(\"cheese mozzarella\", \"part-skim mozzarella cheese\"))\n",
    "# tokenize string, sort alphabeticallly, and join back into string\n",
    "print(fuzz.token_sort_ratio(\"cheese mozzarella\", \"part-skim mozzarella cheese\"))\n",
    "# tokenize and split tokens into 2 groups - intersection of 2 strings and remainder\n",
    "print(fuzz.token_set_ratio(\"cheese mozzarella\", \"part-skim mozzarella cheese\"))"
   ]
  },
  {
   "cell_type": "code",
   "execution_count": 17,
   "metadata": {
    "collapsed": false
   },
   "outputs": [
    {
     "name": "stdout",
     "output_type": "stream",
     "text": [
      "42\n",
      "42\n",
      "58\n",
      "59\n"
     ]
    }
   ],
   "source": [
    "print(fuzz.ratio(\"olives black\", \"black pepper\"))\n",
    "print(fuzz.partial_ratio(\"olives black\", \"black pepper\"))\n",
    "print(fuzz.token_sort_ratio(\"olives black\", \"black pepper\"))\n",
    "print(fuzz.token_set_ratio(\"olives black\", \"black pepper\"))"
   ]
  },
  {
   "cell_type": "markdown",
   "metadata": {},
   "source": [
    "# Processing"
   ]
  },
  {
   "cell_type": "code",
   "execution_count": 10,
   "metadata": {
    "collapsed": false,
    "scrolled": true
   },
   "outputs": [
    {
     "name": "stdout",
     "output_type": "stream",
     "text": [
      "Parsing train ingredients...\n",
      "Parsing test ingredients...\n"
     ]
    }
   ],
   "source": [
    "# Extract the Unique Ingredients\n",
    "\n",
    "#training\n",
    "print(\"Parsing train ingredients...\")\n",
    "wordsX_train = np.array([' '.join(item) for item in X_supvtrain])\n",
    "\n",
    "wordsX_test = np.array([' '.join(item) for item in X_supvtest])\n",
    "\n",
    "#test set\n",
    "print(\"Parsing test ingredients...\")\n",
    "words_test = np.array([' '.join(item) for item in test.ingredients])\n"
   ]
  },
  {
   "cell_type": "code",
   "execution_count": 11,
   "metadata": {
    "collapsed": false
   },
   "outputs": [
    {
     "name": "stdout",
     "output_type": "stream",
     "text": [
      "n is  1\n",
      "Testing n-grams...\n",
      "Training Naive Bayes...\n",
      "Naive Bayes accuracy:  0.723768018773\n",
      "n is  2\n",
      "Testing n-grams...\n",
      "Training Naive Bayes...\n",
      "Naive Bayes accuracy:  0.730271538719\n",
      "n is  3\n",
      "Testing n-grams...\n",
      "Training Naive Bayes...\n",
      "Naive Bayes accuracy:  0.709252430439\n",
      "n is  4\n",
      "Testing n-grams...\n",
      "Training Naive Bayes...\n",
      "Naive Bayes accuracy:  0.654542406973\n"
     ]
    }
   ],
   "source": [
    "# finding ngrams (1,2) seems similar to (1,1)\n",
    "\n",
    "n = [1, 2, 3, 4]\n",
    "acc_res = []\n",
    "\n",
    "for i in range(len(n)):\n",
    "    print(\"n is \", n[i])\n",
    "    print(\"Testing n-grams...\")\n",
    "    vectorizer = TfidfVectorizer(lowercase=True, stop_words=None, ngram_range=(1, n[i]))\n",
    "    bag_of_words_Xtrain = vectorizer.fit_transform(wordsX_train)\n",
    "\n",
    "    print(\"Training Naive Bayes...\")\n",
    "\n",
    "    model1 = MultinomialNB(alpha=0.0005)\n",
    "    model1_train_pred = cross_val_predict(model1, bag_of_words_Xtrain, y_supvtrain, cv=10)\n",
    "    acc = accuracy_score(y_supvtrain, model1_train_pred)\n",
    "    print(\"Naive Bayes accuracy: \", acc)\n",
    "    acc_res.append(acc)"
   ]
  },
  {
   "cell_type": "code",
   "execution_count": 12,
   "metadata": {
    "collapsed": false
   },
   "outputs": [
    {
     "name": "stdout",
     "output_type": "stream",
     "text": [
      "m is  1\n",
      "Testing min_df...\n",
      "Training Naive Bayes...\n",
      "Naive Bayes accuracy:  0.730271538719\n",
      "m is  5\n",
      "Testing min_df...\n",
      "Training Naive Bayes...\n",
      "Naive Bayes accuracy:  0.722292993631\n",
      "m is  10\n",
      "Testing min_df...\n",
      "Training Naive Bayes...\n",
      "Naive Bayes accuracy:  0.716694602749\n",
      "m is  20\n",
      "Testing min_df...\n",
      "Training Naive Bayes...\n",
      "Naive Bayes accuracy:  0.714750251425\n",
      "m is  30\n",
      "Testing min_df...\n",
      "Training Naive Bayes...\n",
      "Naive Bayes accuracy:  0.715018437814\n",
      "m is  50\n",
      "Testing min_df...\n",
      "Training Naive Bayes...\n",
      "Naive Bayes accuracy:  0.712772376802\n"
     ]
    }
   ],
   "source": [
    "# find best min_df (m = 1). max_df = (0.6 to 1.0 are the same)\n",
    "\n",
    "m = [1, 5, 10, 20, 30, 50]\n",
    "acc_res = []\n",
    "\n",
    "for i in range(len(m)):\n",
    "    print(\"m is \", m[i])\n",
    "    print(\"Testing min_df...\")\n",
    "    vectorizer = TfidfVectorizer(lowercase=True, stop_words=None, ngram_range=(1, 2), min_df = m[i])\n",
    "    bag_of_words_Xtrain = vectorizer.fit_transform(wordsX_train)\n",
    "\n",
    "    print(\"Training Naive Bayes...\")\n",
    "\n",
    "    model1 = MultinomialNB(alpha=0.0005)\n",
    "    model1_train_pred = cross_val_predict(model1, bag_of_words_Xtrain, y_supvtrain, cv=10)\n",
    "    acc = accuracy_score(y_supvtrain, model1_train_pred)\n",
    "    print(\"Naive Bayes accuracy: \", acc)\n",
    "    acc_res.append(acc)"
   ]
  },
  {
   "cell_type": "code",
   "execution_count": 16,
   "metadata": {
    "collapsed": false
   },
   "outputs": [
    {
     "name": "stdout",
     "output_type": "stream",
     "text": [
      "k is  10000\n",
      "Reducing dimension...\n",
      "Training Naive Bayes...\n",
      "Naive Bayes accuracy:  0.755950385518\n",
      "k is  15000\n",
      "Reducing dimension...\n",
      "Training Naive Bayes...\n",
      "Naive Bayes accuracy:  0.760408984244\n",
      "k is  20000\n",
      "Reducing dimension...\n",
      "Training Naive Bayes...\n",
      "Naive Bayes accuracy:  0.760811263828\n",
      "k is  25000\n",
      "Reducing dimension...\n",
      "Training Naive Bayes...\n",
      "Naive Bayes accuracy:  0.757023131076\n"
     ]
    }
   ],
   "source": [
    "# set final tfidf parameters\n",
    "\n",
    "vectorizer = TfidfVectorizer(lowercase=True, stop_words=None, ngram_range=(1, 2))\n",
    "bag_of_words_Xtrain = vectorizer.fit_transform(wordsX_train)\n",
    "\n",
    "# reduce dimension...to 20000 features (with 2-ngrams)\n",
    "k = [10000, 15000, 20000, 25000]\n",
    "acc_res = []\n",
    "\n",
    "for i in range(len(k)):\n",
    "    print(\"k is \", k[i])\n",
    "    print(\"Reducing dimension...\")\n",
    "    fselect = SelectKBest(k=k[i])\n",
    "    Xtrain_data_features = fselect.fit_transform(bag_of_words_Xtrain, y_supvtrain)\n",
    "\n",
    "    print(\"Training Naive Bayes...\")\n",
    "\n",
    "    model1 = MultinomialNB(alpha=0.0005)\n",
    "    model1_train_pred = cross_val_predict(model1, Xtrain_data_features, y_supvtrain, cv=10)\n",
    "    acc = accuracy_score(y_supvtrain, model1_train_pred)\n",
    "    print(\"Naive Bayes accuracy: \", acc)\n",
    "    acc_res.append(acc)"
   ]
  },
  {
   "cell_type": "markdown",
   "metadata": {},
   "source": [
    "# Finalize parameters"
   ]
  },
  {
   "cell_type": "code",
   "execution_count": 17,
   "metadata": {
    "collapsed": true
   },
   "outputs": [],
   "source": [
    "# stem and clean...\n",
    "# get tfidf\n",
    "vectorizer = TfidfVectorizer(lowercase=True, stop_words=None, ngram_range=(1, 2))\n",
    "bag_of_words_Xtrain = vectorizer.fit_transform(wordsX_train)\n",
    "bag_of_words_Xtest = vectorizer.transform(wordsX_test)\n",
    "# # final test set\n",
    "bag_of_words_test = vectorizer.transform(words_test)\n"
   ]
  },
  {
   "cell_type": "code",
   "execution_count": 18,
   "metadata": {
    "collapsed": true
   },
   "outputs": [],
   "source": [
    "# select best features\n",
    "fselect = SelectKBest(k=20000)\n",
    "Xtrain_data_features = fselect.fit_transform(bag_of_words_Xtrain, y_supvtrain)\n",
    "Xtest_data_features = fselect.transform(bag_of_words_Xtest)\n",
    "\n",
    "# final test set\n",
    "test_data_features = fselect.transform(bag_of_words_test)"
   ]
  },
  {
   "cell_type": "markdown",
   "metadata": {},
   "source": [
    "# Accuracy measure on hold-out set"
   ]
  },
  {
   "cell_type": "code",
   "execution_count": 19,
   "metadata": {
    "collapsed": false
   },
   "outputs": [],
   "source": [
    "# Predict class for hold-out set.\n",
    "model1.fit(Xtrain_data_features, y_supvtrain)\n",
    "holdout_pred = model1.predict(Xtest_data_features)"
   ]
  },
  {
   "cell_type": "code",
   "execution_count": 20,
   "metadata": {
    "collapsed": false
   },
   "outputs": [
    {
     "name": "stdout",
     "output_type": "stream",
     "text": [
      "Accuracy: 0.733\n"
     ]
    }
   ],
   "source": [
    "accuracy = round(accuracy_score(y_supvtest, holdout_pred), 3)\n",
    "print(\"Accuracy:\", accuracy)"
   ]
  },
  {
   "cell_type": "code",
   "execution_count": null,
   "metadata": {
    "collapsed": true
   },
   "outputs": [],
   "source": []
  }
 ],
 "metadata": {
  "kernelspec": {
   "display_name": "Python 3",
   "language": "python",
   "name": "python3"
  },
  "language_info": {
   "codemirror_mode": {
    "name": "ipython",
    "version": 3
   },
   "file_extension": ".py",
   "mimetype": "text/x-python",
   "name": "python",
   "nbconvert_exporter": "python",
   "pygments_lexer": "ipython3",
   "version": "3.4.3"
  }
 },
 "nbformat": 4,
 "nbformat_minor": 0
}

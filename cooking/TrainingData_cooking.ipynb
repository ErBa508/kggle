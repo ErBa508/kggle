{
 "cells": [
  {
   "cell_type": "code",
   "execution_count": 1,
   "metadata": {
    "collapsed": true
   },
   "outputs": [],
   "source": [
    "# Standard Imports\n",
    "from pandas import Series, DataFrame\n",
    "import pandas as pd\n",
    "import numpy as np\n",
    "import matplotlib.pylab as plt\n",
    "import seaborn as sns\n",
    "%matplotlib inline"
   ]
  },
  {
   "cell_type": "code",
   "execution_count": 2,
   "metadata": {
    "collapsed": true
   },
   "outputs": [],
   "source": [
    "# Performance\n",
    "from time import time"
   ]
  },
  {
   "cell_type": "code",
   "execution_count": 8,
   "metadata": {
    "collapsed": true
   },
   "outputs": [],
   "source": [
    "# Machine Learning\n",
    "from sklearn.ensemble import RandomForestClassifier\n",
    "from sklearn.linear_model import SGDClassifier\n",
    "from sklearn.naive_bayes import MultinomialNB"
   ]
  },
  {
   "cell_type": "code",
   "execution_count": 41,
   "metadata": {
    "collapsed": true
   },
   "outputs": [],
   "source": [
    "# Helper\n",
    "from sklearn.feature_extraction.text import CountVectorizer\n",
    "from sklearn.feature_extraction.text import TfidfVectorizer\n",
    "from sklearn.feature_selection import SelectPercentile, f_classif\n",
    "from sklearn.cross_validation import cross_val_predict\n",
    "from sklearn.metrics import accuracy_score\n",
    "from sklearn import metrics"
   ]
  },
  {
   "cell_type": "markdown",
   "metadata": {},
   "source": [
    "# Preliminaries"
   ]
  },
  {
   "cell_type": "code",
   "execution_count": 5,
   "metadata": {
    "collapsed": true
   },
   "outputs": [],
   "source": [
    "# Load in the Data\n",
    "train = pd.read_json('train.json')\n",
    "test = pd.read_json('test.json')"
   ]
  },
  {
   "cell_type": "code",
   "execution_count": 25,
   "metadata": {
    "collapsed": false
   },
   "outputs": [
    {
     "data": {
      "text/html": [
       "<div style=\"max-height:1000px;max-width:1500px;overflow:auto;\">\n",
       "<table border=\"1\" class=\"dataframe\">\n",
       "  <thead>\n",
       "    <tr style=\"text-align: right;\">\n",
       "      <th></th>\n",
       "      <th>cuisine</th>\n",
       "      <th>id</th>\n",
       "      <th>ingredients</th>\n",
       "    </tr>\n",
       "  </thead>\n",
       "  <tbody>\n",
       "    <tr>\n",
       "      <th>0</th>\n",
       "      <td>       greek</td>\n",
       "      <td> 10259</td>\n",
       "      <td> [romaine lettuce, black olives, grape tomatoes...</td>\n",
       "    </tr>\n",
       "    <tr>\n",
       "      <th>1</th>\n",
       "      <td> southern_us</td>\n",
       "      <td> 25693</td>\n",
       "      <td> [plain flour, ground pepper, salt, tomatoes, g...</td>\n",
       "    </tr>\n",
       "    <tr>\n",
       "      <th>2</th>\n",
       "      <td>    filipino</td>\n",
       "      <td> 20130</td>\n",
       "      <td> [eggs, pepper, salt, mayonaise, cooking oil, g...</td>\n",
       "    </tr>\n",
       "    <tr>\n",
       "      <th>3</th>\n",
       "      <td>      indian</td>\n",
       "      <td> 22213</td>\n",
       "      <td>               [water, vegetable oil, wheat, salt]</td>\n",
       "    </tr>\n",
       "    <tr>\n",
       "      <th>4</th>\n",
       "      <td>      indian</td>\n",
       "      <td> 13162</td>\n",
       "      <td> [black pepper, shallots, cornflour, cayenne pe...</td>\n",
       "    </tr>\n",
       "  </tbody>\n",
       "</table>\n",
       "</div>"
      ],
      "text/plain": [
       "       cuisine     id                                        ingredients\n",
       "0        greek  10259  [romaine lettuce, black olives, grape tomatoes...\n",
       "1  southern_us  25693  [plain flour, ground pepper, salt, tomatoes, g...\n",
       "2     filipino  20130  [eggs, pepper, salt, mayonaise, cooking oil, g...\n",
       "3       indian  22213                [water, vegetable oil, wheat, salt]\n",
       "4       indian  13162  [black pepper, shallots, cornflour, cayenne pe..."
      ]
     },
     "execution_count": 25,
     "metadata": {},
     "output_type": "execute_result"
    }
   ],
   "source": [
    "train.head()"
   ]
  },
  {
   "cell_type": "code",
   "execution_count": 37,
   "metadata": {
    "collapsed": false
   },
   "outputs": [
    {
     "name": "stdout",
     "output_type": "stream",
     "text": [
      "Null accuracy is 0.197063408257\n"
     ]
    }
   ],
   "source": [
    "# null accuracy (what is accuracy if always predict most prevalent class)\n",
    "# this gives an idea of the underlying distribution of response values\n",
    "train.cuisine.value_counts()\n",
    "train.cuisine.count()\n",
    "null_accuracy = train.cuisine.value_counts().max()/train.cuisine.count()\n",
    "\n",
    "# alternative ways of calculating null accuracy\n",
    "# null_accuracy = train.cuisine.value_counts().head(1) / len(train.cuisine)\n",
    "# max(train.cuisine.mean(), 1 - train.cuisine.mean()) # if binary classifiation\n",
    "\n",
    "print(\"Null accuracy is\", null_accuracy)"
   ]
  },
  {
   "cell_type": "code",
   "execution_count": 26,
   "metadata": {
    "collapsed": false
   },
   "outputs": [
    {
     "data": {
      "text/html": [
       "<div style=\"max-height:1000px;max-width:1500px;overflow:auto;\">\n",
       "<table border=\"1\" class=\"dataframe\">\n",
       "  <thead>\n",
       "    <tr style=\"text-align: right;\">\n",
       "      <th></th>\n",
       "      <th>id</th>\n",
       "      <th>ingredients</th>\n",
       "    </tr>\n",
       "  </thead>\n",
       "  <tbody>\n",
       "    <tr>\n",
       "      <th>0</th>\n",
       "      <td> 18009</td>\n",
       "      <td> [baking powder, eggs, all-purpose flour, raisi...</td>\n",
       "    </tr>\n",
       "    <tr>\n",
       "      <th>1</th>\n",
       "      <td> 28583</td>\n",
       "      <td> [sugar, egg yolks, corn starch, cream of tarta...</td>\n",
       "    </tr>\n",
       "    <tr>\n",
       "      <th>2</th>\n",
       "      <td> 41580</td>\n",
       "      <td> [sausage links, fennel bulb, fronds, olive oil...</td>\n",
       "    </tr>\n",
       "    <tr>\n",
       "      <th>3</th>\n",
       "      <td> 29752</td>\n",
       "      <td> [meat cuts, file powder, smoked sausage, okra,...</td>\n",
       "    </tr>\n",
       "    <tr>\n",
       "      <th>4</th>\n",
       "      <td> 35687</td>\n",
       "      <td> [ground black pepper, salt, sausage casings, l...</td>\n",
       "    </tr>\n",
       "  </tbody>\n",
       "</table>\n",
       "</div>"
      ],
      "text/plain": [
       "      id                                        ingredients\n",
       "0  18009  [baking powder, eggs, all-purpose flour, raisi...\n",
       "1  28583  [sugar, egg yolks, corn starch, cream of tarta...\n",
       "2  41580  [sausage links, fennel bulb, fronds, olive oil...\n",
       "3  29752  [meat cuts, file powder, smoked sausage, okra,...\n",
       "4  35687  [ground black pepper, salt, sausage casings, l..."
      ]
     },
     "execution_count": 26,
     "metadata": {},
     "output_type": "execute_result"
    }
   ],
   "source": [
    "test.head()"
   ]
  },
  {
   "cell_type": "code",
   "execution_count": 7,
   "metadata": {
    "collapsed": true
   },
   "outputs": [
    {
     "data": {
      "text/plain": [
       "['romaine lettuce black olives grape tomatoes garlic pepper purple onion seasoning garbanzo beans feta cheese crumbles',\n",
       " 'plain flour ground pepper salt tomatoes ground black pepper thyme eggs green tomatoes yellow corn meal milk vegetable oil',\n",
       " 'eggs pepper salt mayonaise cooking oil green chilies grilled chicken breasts garlic powder yellow onion soy sauce butter chicken livers',\n",
       " 'water vegetable oil wheat salt',\n",
       " 'black pepper shallots cornflour cayenne pepper onions garlic paste milk butter salt lemon juice water chili powder passata oil ground cumin boneless chicken skinless thigh garam masala double cream natural yogurt bay leaf',\n",
       " 'plain flour sugar butter eggs fresh ginger root salt ground cinnamon milk vanilla extract ground ginger powdered sugar baking powder',\n",
       " 'olive oil salt medium shrimp pepper garlic chopped cilantro jalapeno chilies flat leaf parsley skirt steak white vinegar sea salt bay leaf chorizo sausage',\n",
       " 'sugar pistachio nuts white almond bark flour vanilla extract olive oil almond extract eggs baking powder dried cranberries',\n",
       " 'olive oil purple onion fresh pineapple pork poblano peppers corn tortillas cheddar cheese ground black pepper salt iceberg lettuce lime jalapeno chilies chopped cilantro fresh',\n",
       " 'chopped tomatoes fresh basil garlic extra-virgin olive oil kosher salt flat leaf parsley']"
      ]
     },
     "execution_count": 7,
     "metadata": {},
     "output_type": "execute_result"
    }
   ],
   "source": [
    "# Extract the Unique Ingredients\n",
    "print(\"Parsing train ingredients...\")\n",
    "words_train = [' '.join(item) for item in train.ingredients]\n",
    "print(\"Parsing test ingredients...\")\n",
    "words_test = [' '.join(item) for item in test.ingredients]\n",
    "words_train[0:10]"
   ]
  },
  {
   "cell_type": "code",
   "execution_count": 9,
   "metadata": {
    "collapsed": false
   },
   "outputs": [
    {
     "name": "stdout",
     "output_type": "stream",
     "text": [
      "Vectorizing...\n"
     ]
    }
   ],
   "source": [
    "print(\"Vectorizing...\")\n",
    "vectorizer = TfidfVectorizer(max_df=0.15)\n",
    "bag_of_words_train = vectorizer.fit_transform(words_train)\n",
    "bag_of_words_test = vectorizer.transform(words_test)"
   ]
  },
  {
   "cell_type": "code",
   "execution_count": null,
   "metadata": {
    "collapsed": true
   },
   "outputs": [],
   "source": [
    "# reduce dimension...\n",
    "# from sklearn.feature_selection.univariate_selection import SelectKBest, chi2, f_classif\n",
    "# fselect = SelectKBest(chi2 , k=70000)\n",
    "# train_data_features = fselect.fit_transform(bag_of_words_train, train[\"cuisine\"])\n",
    "# test_data_features = fselect.transform(bag_of_words_test)"
   ]
  },
  {
   "cell_type": "markdown",
   "metadata": {},
   "source": [
    "# Training"
   ]
  },
  {
   "cell_type": "code",
   "execution_count": 10,
   "metadata": {
    "collapsed": false
   },
   "outputs": [
    {
     "name": "stdout",
     "output_type": "stream",
     "text": [
      "Training Naive Bayes...\n"
     ]
    },
    {
     "data": {
      "text/plain": [
       "MultinomialNB(alpha=0.0005, class_prior=None, fit_prior=True)"
      ]
     },
     "execution_count": 10,
     "metadata": {},
     "output_type": "execute_result"
    }
   ],
   "source": [
    "print(\"Training Naive Bayes...\")\n",
    "\n",
    "model1 = MultinomialNB(alpha=0.0005)\n",
    "model1.fit( bag_of_words_train, train[\"cuisine\"] )"
   ]
  },
  {
   "cell_type": "code",
   "execution_count": 11,
   "metadata": {
    "collapsed": false
   },
   "outputs": [
    {
     "name": "stdout",
     "output_type": "stream",
     "text": [
      "Accuracy:  0.717453612913\n"
     ]
    }
   ],
   "source": [
    "model1_train_pred = cross_val_predict(model1, bag_of_words_train, train.cuisine, cv=2)\n",
    "print(\"Naive Bayes accuracy: \", accuracy_score(train.cuisine, model1_train_pred))"
   ]
  },
  {
   "cell_type": "code",
   "execution_count": 13,
   "metadata": {
    "collapsed": false
   },
   "outputs": [
    {
     "name": "stdout",
     "output_type": "stream",
     "text": [
      "Training stochastic gradient descent...\n"
     ]
    },
    {
     "data": {
      "text/plain": [
       "SGDClassifier(alpha=0.0001, average=False, class_weight=None, epsilon=0.1,\n",
       "       eta0=0.0, fit_intercept=True, l1_ratio=0.15,\n",
       "       learning_rate='optimal', loss='modified_huber', n_iter=5, n_jobs=1,\n",
       "       penalty='l2', power_t=0.5, random_state=0, shuffle=True, verbose=0,\n",
       "       warm_start=False)"
      ]
     },
     "execution_count": 13,
     "metadata": {},
     "output_type": "execute_result"
    }
   ],
   "source": [
    "print(\"Training stochastic gradient descent...\")\n",
    "\n",
    "model2 = SGDClassifier(loss='modified_huber', n_iter=5, random_state=0, shuffle=True)\n",
    "model2.fit( bag_of_words_train, train[\"cuisine\"] )"
   ]
  },
  {
   "cell_type": "code",
   "execution_count": 14,
   "metadata": {
    "collapsed": false
   },
   "outputs": [
    {
     "name": "stdout",
     "output_type": "stream",
     "text": [
      "Accuracy:  0.765550359531\n"
     ]
    }
   ],
   "source": [
    "model2_train_pred = cross_val_predict(model2, bag_of_words_train, train.cuisine, cv=2)\n",
    "print(\"SGD accuracy: \", accuracy_score(train.cuisine, model2_train_pred))"
   ]
  },
  {
   "cell_type": "code",
   "execution_count": 15,
   "metadata": {
    "collapsed": false
   },
   "outputs": [
    {
     "name": "stdout",
     "output_type": "stream",
     "text": [
      "Training random forest...\n"
     ]
    },
    {
     "data": {
      "text/plain": [
       "RandomForestClassifier(bootstrap=True, class_weight=None, criterion='gini',\n",
       "            max_depth=None, max_features='auto', max_leaf_nodes=None,\n",
       "            min_samples_leaf=1, min_samples_split=2,\n",
       "            min_weight_fraction_leaf=0.0, n_estimators=100, n_jobs=1,\n",
       "            oob_score=False, random_state=None, verbose=0,\n",
       "            warm_start=False)"
      ]
     },
     "execution_count": 15,
     "metadata": {},
     "output_type": "execute_result"
    }
   ],
   "source": [
    "print(\"Training random forest...\")\n",
    "model3 = RandomForestClassifier(n_estimators=100, criterion='gini')\n",
    "model3.fit(bag_of_words_train, train.cuisine)"
   ]
  },
  {
   "cell_type": "code",
   "execution_count": 16,
   "metadata": {
    "collapsed": false
   },
   "outputs": [
    {
     "name": "stdout",
     "output_type": "stream",
     "text": [
      "Random forest accuracy:  0.737416402675\n"
     ]
    }
   ],
   "source": [
    "model3_train_pred = cross_val_predict(model3, bag_of_words_train, train.cuisine, cv=2)\n",
    "print(\"Random forest accuracy: \", accuracy_score(train.cuisine, model3_train_pred))"
   ]
  },
  {
   "cell_type": "markdown",
   "metadata": {},
   "source": [
    "# Model evaluation"
   ]
  },
  {
   "cell_type": "code",
   "execution_count": 39,
   "metadata": {
    "collapsed": false
   },
   "outputs": [
    {
     "name": "stdout",
     "output_type": "stream",
     "text": [
      "Pred: ['italian' 'cajun_creole' 'mexican' 'thai' 'italian' 'cajun_creole'\n",
      " 'italian' 'chinese' 'mexican' 'southern_us' 'italian' 'mexican' 'mexican'\n",
      " 'indian' 'mexican']\n",
      "True: 30         italian\n",
      "31    cajun_creole\n",
      "32         mexican\n",
      "33            thai\n",
      "34         italian\n",
      "35    cajun_creole\n",
      "36         italian\n",
      "37        filipino\n",
      "38     southern_us\n",
      "39     southern_us\n",
      "40         italian\n",
      "41       brazilian\n",
      "42         mexican\n",
      "43          indian\n",
      "44         mexican\n",
      "Name: cuisine, dtype: object\n"
     ]
    }
   ],
   "source": [
    "# basic comparison (what does model consistently get right or wrong?)\n",
    "# model may make certain types of errors, but not other types of errors\n",
    "# we wouldn't see this behavior merely by looking at accuracy scores\n",
    "print('Pred:', model3_train_pred[30:45])\n",
    "print('True:', train.cuisine[30:45])"
   ]
  },
  {
   "cell_type": "code",
   "execution_count": 71,
   "metadata": {
    "collapsed": false,
    "scrolled": true
   },
   "outputs": [
    {
     "name": "stdout",
     "output_type": "stream",
     "text": [
      "Index is 0 greek\n",
      "Most frequently predicted cuisine is greek\n",
      "[807  22   1  28   2  20 194  14   4   6   0   0   4   1  45   2   3   1\n",
      "  17   4]\n",
      "Index is 1 southern_us\n",
      "Most frequently predicted cuisine is southern_us\n",
      "[  20 3274   19   30   19   26  216  135   21   47   10    1  214    6  201\n",
      "   11   36    5    7   22]\n",
      "Index is 2 filipino\n",
      "Most frequently predicted cuisine is filipino\n",
      "[  1  40 423   5   2   4  31  26  98   6  19  21   5  15  18  19   8  10\n",
      "   1   3]\n",
      "Index is 3 indian\n",
      "Most frequently predicted cuisine is indian\n",
      "[  22   37   12 2690    9    9   29   57   12    8   27    2    2    4   20\n",
      "   14    7    1   38    3]\n",
      "Index is 4 jamaican\n",
      "Most frequently predicted cuisine is jamaican\n",
      "[  1  44   7  22 373   2  14  13   4   8   4   1   6   4  13   2   5   0\n",
      "   1   2]\n",
      "Index is 5 spanish\n",
      "Most frequently predicted cuisine is spanish\n",
      "[ 18  45  11  10   3 414 187  99   6   7   2   4  24   4 118   4  13   1\n",
      "  12   7]\n",
      "Index is 6 italian\n",
      "Most frequently predicted cuisine is italian\n",
      "[  88  190    8   26    8   52 6856   62   11   20    4    4   29    4  396\n",
      "   12   21    2   21   24]\n",
      "Index is 7 mexican\n",
      "Most frequently predicted cuisine is mexican\n",
      "[  13  149   18   26    7   44  133 5882   20    8    3    0   25    7   70\n",
      "   11    8    5    4    5]\n",
      "Index is 8 chinese\n",
      "Most frequently predicted cuisine is chinese\n",
      "[   2   37   23   21    4    2   44   23 2258    6   41   41   10    2   23\n",
      "   68    0   58    0   10]\n",
      "Index is 9 british\n",
      "Most frequently predicted cuisine is british\n",
      "[  4 140   6  28   7   3  62   6   6 320   2   1   8   5 134   2  51   2\n",
      "   0  17]\n",
      "Index is 10 thai\n",
      "Most frequently predicted cuisine is thai\n",
      "[   2   23   22   75    4    1   15   29  106    2 1124   88    1   12    3\n",
      "   19    0   11    2    0]\n",
      "Index is 11 vietnamese\n",
      "Most frequently predicted cuisine is vietnamese\n",
      "[  2  10  23  12   1   2  18  18  93   1 199 395   1  13  10   9   2  14\n",
      "   0   2]\n",
      "Index is 12 cajun_creole\n",
      "Most frequently predicted cuisine is cajun_creole\n",
      "[   3  183    5    4    5    9   93   36    7   11    0    0 1106    2   67\n",
      "    3    4    1    1    6]\n",
      "Index is 13 brazilian\n",
      "Most frequently predicted cuisine is brazilian\n",
      "[  1  34  17  10   5  16  42  57   3   2  23   5  13 210  22   3   2   0\n",
      "   0   2]\n",
      "Index is 14 french\n",
      "Most frequently predicted cuisine is french\n",
      "[  18  179    5   22    3   39  507   27    9   42    2    3   22    3 1682\n",
      "   10   36    1   10   26]\n",
      "Index is 15 japanese\n",
      "Most frequently predicted cuisine is japanese\n",
      "[  2  25  13 117   2   1  29  13 136   2  16   6   7   3  27 977   6  35\n",
      "   0   6]\n",
      "Index is 16 irish\n",
      "Most frequently predicted cuisine is irish\n",
      "[  9 121   1   9   4  13  46   7   2  47   0   1   4   1  86   3 301   1\n",
      "   5   6]\n",
      "Index is 17 korean\n",
      "Most frequently predicted cuisine is korean\n",
      "[  1  11   8   0   1   3   9   9 128   1   2  17   1   0   4  50   3 575\n",
      "   1   6]\n",
      "Index is 18 moroccan\n",
      "Most frequently predicted cuisine is moroccan\n",
      "[ 23  18   0  67   8  14  47  23   2   3   0   0   2   2  20   2   2   2\n",
      " 583   3]\n",
      "Index is 19 russian\n",
      "Most frequently predicted cuisine is russian\n",
      "[ 12  43   7  15   1   5  54  14   0  24   1   1   5   0  82   5  13   4\n",
      "   4 199]\n"
     ]
    }
   ],
   "source": [
    "labels = train.cuisine.unique()\n",
    "confusion = metrics.confusion_matrix(train.cuisine,model2_train_pred, labels)\n",
    "for ind in range(0,len(labels)):\n",
    "    print(\"Index is\", ind, labels[ind])\n",
    "    print(\"Most frequently predicted cuisine is\", labels[np.argmax(confusion[ind])])\n",
    "    print(confusion[ind])\n"
   ]
  },
  {
   "cell_type": "code",
   "execution_count": 17,
   "metadata": {
    "collapsed": true
   },
   "outputs": [],
   "source": [
    "p1 = model1.predict_proba( bag_of_words_test )[:,1]\n",
    "p2 = model2.predict_proba( bag_of_words_test )[:,1]\n"
   ]
  },
  {
   "cell_type": "code",
   "execution_count": null,
   "metadata": {
    "collapsed": true
   },
   "outputs": [],
   "source": [
    "print(\"Writing results...\")\n",
    "\n",
    "# output = pd.DataFrame( data = { \"id\": test[\"id\"], \"cuisine\": .2*p1 + 1.*p2 } )\n",
    "# output.to_csv( output_file, index = False, quoting = 3 )"
   ]
  }
 ],
 "metadata": {
  "kernelspec": {
   "display_name": "Python 3",
   "language": "python",
   "name": "python3"
  },
  "language_info": {
   "codemirror_mode": {
    "name": "ipython",
    "version": 3
   },
   "file_extension": ".py",
   "mimetype": "text/x-python",
   "name": "python",
   "nbconvert_exporter": "python",
   "pygments_lexer": "ipython3",
   "version": "3.4.3"
  }
 },
 "nbformat": 4,
 "nbformat_minor": 0
}

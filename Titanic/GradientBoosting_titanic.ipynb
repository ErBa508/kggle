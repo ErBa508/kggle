{
 "cells": [
  {
   "cell_type": "code",
   "execution_count": 1,
   "metadata": {
    "collapsed": true
   },
   "outputs": [],
   "source": [
    "# Standard Imports\n",
    "from pandas import Series, DataFrame\n",
    "import pandas as pd\n",
    "import numpy as np"
   ]
  },
  {
   "cell_type": "code",
   "execution_count": 2,
   "metadata": {
    "collapsed": true
   },
   "outputs": [],
   "source": [
    "# Plotting\n",
    "import matplotlib.pylab as plt\n",
    "plt.rcParams['font.size'] = 14\n",
    "import seaborn as sns\n",
    "%matplotlib inline"
   ]
  },
  {
   "cell_type": "code",
   "execution_count": 3,
   "metadata": {
    "collapsed": true
   },
   "outputs": [],
   "source": [
    "# Performance\n",
    "from time import time"
   ]
  },
  {
   "cell_type": "code",
   "execution_count": 4,
   "metadata": {
    "collapsed": true
   },
   "outputs": [],
   "source": [
    "# Helper\n",
    "from sklearn.cross_validation import train_test_split, KFold\n",
    "from sklearn.cross_validation import cross_val_predict, cross_val_score\n",
    "from sklearn.feature_selection import chi2, f_classif, SelectKBest\n",
    "from sklearn import metrics\n",
    "from sklearn.metrics import accuracy_score, confusion_matrix, recall_score, precision_score\n",
    "from sklearn.metrics import roc_curve, roc_auc_score\n",
    "from sklearn.grid_search import GridSearchCV"
   ]
  },
  {
   "cell_type": "code",
   "execution_count": 5,
   "metadata": {
    "collapsed": true
   },
   "outputs": [],
   "source": [
    "# Machine Learning\n",
    "from sklearn.ensemble import GradientBoostingClassifier"
   ]
  },
  {
   "cell_type": "markdown",
   "metadata": {},
   "source": [
    "# Preliminaries"
   ]
  },
  {
   "cell_type": "code",
   "execution_count": 6,
   "metadata": {
    "collapsed": true
   },
   "outputs": [],
   "source": [
    "# Load in the Data\n",
    "train = pd.read_csv('input/train2.csv')\n",
    "test = pd.read_csv('input/test2.csv')"
   ]
  },
  {
   "cell_type": "code",
   "execution_count": 7,
   "metadata": {
    "collapsed": false
   },
   "outputs": [
    {
     "data": {
      "text/html": [
       "<div style=\"max-height:1000px;max-width:1500px;overflow:auto;\">\n",
       "<table border=\"1\" class=\"dataframe\">\n",
       "  <thead>\n",
       "    <tr style=\"text-align: right;\">\n",
       "      <th></th>\n",
       "      <th>PassengerId</th>\n",
       "      <th>Survived</th>\n",
       "      <th>Pclass</th>\n",
       "      <th>SibSp</th>\n",
       "      <th>Parch</th>\n",
       "      <th>Gender</th>\n",
       "      <th>Port</th>\n",
       "      <th>AgeFill</th>\n",
       "      <th>FareFill</th>\n",
       "    </tr>\n",
       "  </thead>\n",
       "  <tbody>\n",
       "    <tr>\n",
       "      <th>0</th>\n",
       "      <td> 1</td>\n",
       "      <td> 0</td>\n",
       "      <td> 3</td>\n",
       "      <td> 1</td>\n",
       "      <td> 0</td>\n",
       "      <td> 1</td>\n",
       "      <td> 0</td>\n",
       "      <td> 22</td>\n",
       "      <td>  7.2500</td>\n",
       "    </tr>\n",
       "    <tr>\n",
       "      <th>1</th>\n",
       "      <td> 2</td>\n",
       "      <td> 1</td>\n",
       "      <td> 1</td>\n",
       "      <td> 1</td>\n",
       "      <td> 0</td>\n",
       "      <td> 0</td>\n",
       "      <td> 1</td>\n",
       "      <td> 38</td>\n",
       "      <td> 71.2833</td>\n",
       "    </tr>\n",
       "    <tr>\n",
       "      <th>2</th>\n",
       "      <td> 3</td>\n",
       "      <td> 1</td>\n",
       "      <td> 3</td>\n",
       "      <td> 0</td>\n",
       "      <td> 0</td>\n",
       "      <td> 0</td>\n",
       "      <td> 0</td>\n",
       "      <td> 26</td>\n",
       "      <td>  7.9250</td>\n",
       "    </tr>\n",
       "    <tr>\n",
       "      <th>3</th>\n",
       "      <td> 4</td>\n",
       "      <td> 1</td>\n",
       "      <td> 1</td>\n",
       "      <td> 1</td>\n",
       "      <td> 0</td>\n",
       "      <td> 0</td>\n",
       "      <td> 0</td>\n",
       "      <td> 35</td>\n",
       "      <td> 53.1000</td>\n",
       "    </tr>\n",
       "    <tr>\n",
       "      <th>4</th>\n",
       "      <td> 5</td>\n",
       "      <td> 0</td>\n",
       "      <td> 3</td>\n",
       "      <td> 0</td>\n",
       "      <td> 0</td>\n",
       "      <td> 1</td>\n",
       "      <td> 0</td>\n",
       "      <td> 35</td>\n",
       "      <td>  8.0500</td>\n",
       "    </tr>\n",
       "  </tbody>\n",
       "</table>\n",
       "</div>"
      ],
      "text/plain": [
       "   PassengerId  Survived  Pclass  SibSp  Parch  Gender  Port  AgeFill  \\\n",
       "0            1         0       3      1      0       1     0       22   \n",
       "1            2         1       1      1      0       0     1       38   \n",
       "2            3         1       3      0      0       0     0       26   \n",
       "3            4         1       1      1      0       0     0       35   \n",
       "4            5         0       3      0      0       1     0       35   \n",
       "\n",
       "   FareFill  \n",
       "0    7.2500  \n",
       "1   71.2833  \n",
       "2    7.9250  \n",
       "3   53.1000  \n",
       "4    8.0500  "
      ]
     },
     "execution_count": 7,
     "metadata": {},
     "output_type": "execute_result"
    }
   ],
   "source": [
    "train.head()"
   ]
  },
  {
   "cell_type": "markdown",
   "metadata": {},
   "source": [
    "# Hold-out set"
   ]
  },
  {
   "cell_type": "code",
   "execution_count": 8,
   "metadata": {
    "collapsed": true
   },
   "outputs": [],
   "source": [
    "# create hold-out set\n",
    "\n",
    "features = list(train.columns.values)[2::]\n",
    "X_train, X_test, y_train, y_test = train_test_split(train[features], train['Survived'])"
   ]
  },
  {
   "cell_type": "markdown",
   "metadata": {},
   "source": [
    "# Feature selection"
   ]
  },
  {
   "cell_type": "code",
   "execution_count": 17,
   "metadata": {
    "collapsed": false
   },
   "outputs": [
    {
     "data": {
      "text/plain": [
       "array([[  1.    ,   0.    ,   0.    ,   1.    ,   0.    ,  36.    ,\n",
       "         26.2875],\n",
       "       [  3.    ,   0.    ,   0.    ,   1.    ,   0.    ,  23.    ,   9.225 ],\n",
       "       [  3.    ,   0.    ,   0.    ,   1.    ,   0.    ,  17.    ,   7.125 ],\n",
       "       [  1.    ,   0.    ,   0.    ,   0.    ,   1.    ,  24.    ,\n",
       "         83.1583],\n",
       "       [  3.    ,   0.    ,   0.    ,   0.    ,   0.    ,   5.    ,  12.475 ],\n",
       "       [  3.    ,   0.    ,   0.    ,   1.    ,   0.    ,  38.    ,\n",
       "          7.8958],\n",
       "       [  3.    ,   1.    ,   0.    ,   1.    ,   0.    ,  24.    ,  16.1   ],\n",
       "       [  1.    ,   0.    ,   0.    ,   1.    ,   0.    ,  40.    ,  26.55  ],\n",
       "       [  3.    ,   4.    ,   1.    ,   1.    ,   0.    ,   2.    ,\n",
       "         39.6875],\n",
       "       [  1.    ,   0.    ,   0.    ,   1.    ,   0.    ,  40.    ,  35.5   ]])"
      ]
     },
     "execution_count": 17,
     "metadata": {},
     "output_type": "execute_result"
    }
   ],
   "source": [
    "ch2 = SelectKBest(chi2, k = 7)\n",
    "X_train2 = ch2.fit_transform(X_train, y_train)\n",
    "X_train2[0:10]"
   ]
  },
  {
   "cell_type": "code",
   "execution_count": 18,
   "metadata": {
    "collapsed": false
   },
   "outputs": [
    {
     "name": "stdout",
     "output_type": "stream",
     "text": [
      "['Pclass', 'SibSp', 'Parch', 'Gender', 'Port', 'AgeFill', 'FareFill']\n"
     ]
    }
   ],
   "source": [
    "predictors = list(X_train.columns.values[ch2.get_support()])\n",
    "print(predictors)"
   ]
  },
  {
   "cell_type": "markdown",
   "metadata": {},
   "source": [
    "# Training"
   ]
  },
  {
   "cell_type": "code",
   "execution_count": 19,
   "metadata": {
    "collapsed": false
   },
   "outputs": [
    {
     "data": {
      "text/plain": [
       "GradientBoostingClassifier(init=None, learning_rate=0.1, loss='deviance',\n",
       "              max_depth=3, max_features=None, max_leaf_nodes=None,\n",
       "              min_samples_leaf=1, min_samples_split=2,\n",
       "              min_weight_fraction_leaf=0.0, n_estimators=200,\n",
       "              presort='auto', random_state=None, subsample=1.0, verbose=0,\n",
       "              warm_start=False)"
      ]
     },
     "execution_count": 19,
     "metadata": {},
     "output_type": "execute_result"
    }
   ],
   "source": [
    "# fit estimator\n",
    "est = GradientBoostingClassifier(n_estimators=200, max_depth=3)\n",
    "est.fit(X_train[predictors], y_train)"
   ]
  },
  {
   "cell_type": "code",
   "execution_count": 20,
   "metadata": {
    "collapsed": false
   },
   "outputs": [],
   "source": [
    "# predict class labels\n",
    "pred = est.predict(X_test[predictors])"
   ]
  },
  {
   "cell_type": "code",
   "execution_count": 21,
   "metadata": {
    "collapsed": false
   },
   "outputs": [
    {
     "name": "stdout",
     "output_type": "stream",
     "text": [
      "ACC: 0.8161\n"
     ]
    },
    {
     "data": {
      "text/plain": [
       "array([ 0.9440932,  0.0559068])"
      ]
     },
     "execution_count": 21,
     "metadata": {},
     "output_type": "execute_result"
    }
   ],
   "source": [
    "# score on test data (accuracy)\n",
    "acc = est.score(X_test[predictors], y_test)\n",
    "print('ACC: %.4f' % acc)\n",
    "\n",
    "# predict class probabilities\n",
    "est.predict_proba(X_test[predictors])[0]"
   ]
  },
  {
   "cell_type": "markdown",
   "metadata": {},
   "source": [
    "# Model evaluation"
   ]
  },
  {
   "cell_type": "code",
   "execution_count": 22,
   "metadata": {
    "collapsed": true
   },
   "outputs": [],
   "source": [
    "def evaluation_metrics(ytest, ypred):\n",
    "    \n",
    "    # null accuracy\n",
    "    null_accuracy = round(ytest.value_counts().max()/len(ytest), 3)\n",
    "    print(\"Null accuracy:\", null_accuracy)\n",
    "\n",
    "    accuracy = round(accuracy_score(ytest, ypred), 3)\n",
    "    print(\"Accuracy:\", accuracy)\n",
    "    \n",
    "    confusion = confusion_matrix(ytest, ypred)\n",
    "    print(\"Confusion matrix: actual(0,1) x predicted(0,1)\\n\", confusion)\n",
    "    \n",
    "    sensitivity = round(recall_score(ytest, ypred), 3)\n",
    "    print(\"Sensitivity: when actual is positive, how often predicted positive\", sensitivity)\n",
    "    \n",
    "    specificity = round(confusion[0,0]/(confusion[0,0] + confusion[0,1]), 3)\n",
    "    print(\"Specificity: when actual is zero, how often predicted zero\", specificity)\n",
    "\n",
    "    precision = round(precision_score(ytest, ypred), 3)\n",
    "    print(\"Precision: when predicted is positive, how often actual positive\", precision)\n",
    "    \n",
    "    return accuracy, confusion, sensitivity, specificity, precision"
   ]
  },
  {
   "cell_type": "code",
   "execution_count": 23,
   "metadata": {
    "collapsed": true
   },
   "outputs": [],
   "source": [
    "def evaluate_prob(ytest, pred_prob):\n",
    "    \n",
    "    # histogram of probabilities\n",
    "    plt.subplot(1, 2, 1)\n",
    "    plt.hist(pred_prob, bins = 8)\n",
    "    plt.xlim(0, 1)\n",
    "    plt.title('Histogram of pred probabilities')\n",
    "    plt.xlabel('Predicted probability of positive')\n",
    "    plt.ylabel('Frequency')\n",
    "    \n",
    "    # ROC curve\n",
    "    fpr, tpr, thresholds = roc_curve(ytest, pred_prob)\n",
    "    plt.subplot(1, 2, 2)\n",
    "    plt.plot(fpr, tpr)\n",
    "    plt.xlim([0.0, 1.0])\n",
    "    plt.ylim([0.0, 1.0])\n",
    "    plt.title(\"ROC curve\")\n",
    "    plt.xlabel(\"False positive rate (1 - specificity)\")\n",
    "    plt.ylabel(\"True positive rate (sensitivity)\")\n",
    "    plt.grid(True)\n",
    "    \n",
    "    plt.tight_layout() # adds more space between plots\n",
    "    \n",
    "    auc = round(roc_auc_score(y_test, predict_prob), 3)\n",
    "    print(\"AUC score is:\", auc)\n",
    "    \n",
    "    return fpr, tpr, thresholds, auc"
   ]
  },
  {
   "cell_type": "code",
   "execution_count": 24,
   "metadata": {
    "collapsed": true
   },
   "outputs": [],
   "source": [
    "# Use ROC curve to determine sensitivity & specificity for a given threshold\n",
    "def evaluate_threshold(threshold):\n",
    "    print(\"Sensitivity:\", tpr[thresholds > threshold][-1])\n",
    "    print(\"Specificity:\", 1-fpr[thresholds > threshold][-1])"
   ]
  },
  {
   "cell_type": "code",
   "execution_count": 25,
   "metadata": {
    "collapsed": false
   },
   "outputs": [
    {
     "name": "stdout",
     "output_type": "stream",
     "text": [
      "Null accuracy: 0.65\n",
      "Accuracy: 0.816\n",
      "Confusion matrix: actual(0,1) x predicted(0,1)\n",
      " [[128  17]\n",
      " [ 24  54]]\n",
      "Sensitivity: when actual is positive, how often predicted positive 0.692\n",
      "Specificity: when actual is zero, how often predicted zero 0.883\n",
      "Precision: when predicted is positive, how often actual positive 0.761\n"
     ]
    }
   ],
   "source": [
    "# Retrieve evaluation metrics\n",
    "acc, conf, sens, spec, prec = evaluation_metrics(y_test, pred)"
   ]
  },
  {
   "cell_type": "code",
   "execution_count": 26,
   "metadata": {
    "collapsed": false
   },
   "outputs": [
    {
     "name": "stdout",
     "output_type": "stream",
     "text": [
      "AUC score is: 0.85\n"
     ]
    },
    {
     "data": {
      "image/png": "[encoded data removed]",
      "text/plain": [
       "<matplotlib.figure.Figure at 0xb452c50>"
      ]
     },
     "metadata": {},
     "output_type": "display_data"
    }
   ],
   "source": [
    "# Predict probabilities for hold-out set\n",
    "predict_prob = est.predict_proba(X_test[predictors])[:,1]\n",
    "\n",
    "# Retrieve probability metrics\n",
    "fpr, tpr, thresholds, auc = evaluate_prob(y_test, predict_prob)"
   ]
  },
  {
   "cell_type": "markdown",
   "metadata": {},
   "source": [
    "# Final predictions - submission"
   ]
  },
  {
   "cell_type": "code",
   "execution_count": 27,
   "metadata": {
    "collapsed": true
   },
   "outputs": [],
   "source": [
    "# Make predictions for test set.\n",
    "test_pred = est.predict(test[predictors])"
   ]
  },
  {
   "cell_type": "code",
   "execution_count": 28,
   "metadata": {
    "collapsed": true
   },
   "outputs": [],
   "source": [
    "# Create a new dataframe with only the columns Kaggle wants from the dataset.\n",
    "submission = pd.DataFrame({\n",
    "        \"PassengerId\": test[\"PassengerId\"],\n",
    "        \"Survived\": test_pred\n",
    "    })\n",
    "\n",
    "# Any files you save will be available in the output tab below\n",
    "submission.to_csv('submission.csv', index=False)"
   ]
  },
  {
   "cell_type": "code",
   "execution_count": null,
   "metadata": {
    "collapsed": true
   },
   "outputs": [],
   "source": []
  }
 ],
 "metadata": {
  "kernelspec": {
   "display_name": "Python 3",
   "language": "python",
   "name": "python3"
  },
  "language_info": {
   "codemirror_mode": {
    "name": "ipython",
    "version": 3
   },
   "file_extension": ".py",
   "mimetype": "text/x-python",
   "name": "python",
   "nbconvert_exporter": "python",
   "pygments_lexer": "ipython3",
   "version": "3.4.3"
  }
 },
 "nbformat": 4,
 "nbformat_minor": 0
}

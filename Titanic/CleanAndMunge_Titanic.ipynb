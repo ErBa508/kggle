{
 "cells": [
  {
   "cell_type": "code",
   "execution_count": 1,
   "metadata": {
    "collapsed": true
   },
   "outputs": [],
   "source": [
    "# Standard Imports\n",
    "from pandas import Series, DataFrame\n",
    "import pandas as pd\n",
    "import numpy as np\n",
    "import matplotlib.pylab as plt\n",
    "import seaborn as sns\n",
    "%matplotlib inline"
   ]
  },
  {
   "cell_type": "code",
   "execution_count": 2,
   "metadata": {
    "collapsed": true
   },
   "outputs": [],
   "source": [
    "# Load the Data\n",
    "train = pd.read_csv('input/train_Titanic.csv')\n",
    "test = pd.read_csv('input/test_Titanic.csv')"
   ]
  },
  {
   "cell_type": "markdown",
   "metadata": {},
   "source": [
    "# Clean data"
   ]
  },
  {
   "cell_type": "code",
   "execution_count": 3,
   "metadata": {
    "collapsed": false
   },
   "outputs": [
    {
     "name": "stdout",
     "output_type": "stream",
     "text": [
      "<class 'pandas.core.frame.DataFrame'>\n",
      "Int64Index: 891 entries, 0 to 890\n",
      "Data columns (total 12 columns):\n",
      "PassengerId    891 non-null int64\n",
      "Survived       891 non-null int64\n",
      "Pclass         891 non-null int64\n",
      "Name           891 non-null object\n",
      "Sex            891 non-null object\n",
      "Age            714 non-null float64\n",
      "SibSp          891 non-null int64\n",
      "Parch          891 non-null int64\n",
      "Ticket         891 non-null object\n",
      "Fare           891 non-null float64\n",
      "Cabin          204 non-null object\n",
      "Embarked       889 non-null object\n",
      "dtypes: float64(2), int64(5), object(5)\n",
      "memory usage: 90.5+ KB\n"
     ]
    }
   ],
   "source": [
    "train.info()"
   ]
  },
  {
   "cell_type": "code",
   "execution_count": 4,
   "metadata": {
    "collapsed": false
   },
   "outputs": [
    {
     "name": "stdout",
     "output_type": "stream",
     "text": [
      "<class 'pandas.core.frame.DataFrame'>\n",
      "Int64Index: 418 entries, 0 to 417\n",
      "Data columns (total 11 columns):\n",
      "PassengerId    418 non-null int64\n",
      "Pclass         418 non-null int64\n",
      "Name           418 non-null object\n",
      "Sex            418 non-null object\n",
      "Age            332 non-null float64\n",
      "SibSp          418 non-null int64\n",
      "Parch          418 non-null int64\n",
      "Ticket         418 non-null object\n",
      "Fare           417 non-null float64\n",
      "Cabin          91 non-null object\n",
      "Embarked       418 non-null object\n",
      "dtypes: float64(2), int64(4), object(5)\n",
      "memory usage: 39.2+ KB\n"
     ]
    }
   ],
   "source": [
    "test.info()"
   ]
  },
  {
   "cell_type": "code",
   "execution_count": 5,
   "metadata": {
    "collapsed": true
   },
   "outputs": [],
   "source": [
    "def setGender(df):\n",
    "    \n",
    "    df['Gender'] = df['Sex'].map( {'female': 0, 'male': 1} ).astype(int)\n",
    "    df = df.drop('Sex', axis = 1)\n",
    "    return df\n",
    "\n",
    "def setPort(df):\n",
    "   \n",
    "    df['Port'] = df['Embarked'].dropna().map( {'S': 0, 'C': 1, 'Q': 2} ).astype(int)\n",
    "    df = df.drop('Embarked', axis = 1)\n",
    "    return df\n",
    "\n",
    "def setAge(df):\n",
    "    \n",
    "    median_ages = np.zeros((2,3)) \n",
    "    for i in range(0, 2):\n",
    "        for j in range(0, 3):\n",
    "            median_ages[i,j] = df[(df['Gender'] == i) & \\\n",
    "                                  (df['Pclass'] == j + 1)]['Age'].dropna().median()\n",
    "            \n",
    "    # copy of age\n",
    "    df['AgeFill'] = df['Age']\n",
    "    \n",
    "    # whether the Age was originally missing\n",
    "    df['AgeIsNull'] = pd.isnull(df.Age).astype(int)\n",
    "    \n",
    "    # fill in missing data\n",
    "    for i in range(0, 2):\n",
    "        for j in range(0, 3):\n",
    "            df.loc[ (df.Age.isnull()) & (df.Gender == i) \\\n",
    "                          & (df.Pclass == j+1), 'AgeFill'] = median_ages[i,j]\n",
    "    \n",
    "    df = df.drop(['Age', 'AgeIsNull'], axis = 1)\n",
    "    \n",
    "    return df\n",
    "\n",
    "def setFare(df):\n",
    "    median_fares = np.zeros((1,3)) \n",
    "    for j in range(0, 3):\n",
    "        median_fares[0,j] = df[df['Pclass'] == j + 1]['Fare'].dropna().median()\n",
    "        \n",
    "    # copy of age\n",
    "    df['FareFill'] = df['Fare']\n",
    "    \n",
    "    # whether the Age was originally missing\n",
    "    df['FareIsNull'] = pd.isnull(df.Fare).astype(int)\n",
    "    \n",
    "    # fill in missing data\n",
    "    for j in range(0, 3):\n",
    "        df.loc[ (df.Fare.isnull()) & (df.Pclass == j+1), 'FareFill'] = median_fares[0,j]\n",
    "    \n",
    "    df = df.drop(['Fare', 'FareIsNull'], axis = 1)\n",
    "    \n",
    "    return df"
   ]
  },
  {
   "cell_type": "code",
   "execution_count": 6,
   "metadata": {
    "collapsed": false
   },
   "outputs": [
    {
     "name": "stdout",
     "output_type": "stream",
     "text": [
      "<class 'pandas.core.frame.DataFrame'>\n",
      "Int64Index: 889 entries, 0 to 890\n",
      "Data columns (total 9 columns):\n",
      "PassengerId    889 non-null int64\n",
      "Survived       889 non-null int64\n",
      "Pclass         889 non-null int64\n",
      "SibSp          889 non-null int64\n",
      "Parch          889 non-null int64\n",
      "Gender         889 non-null int32\n",
      "Port           889 non-null float64\n",
      "AgeFill        889 non-null float64\n",
      "FareFill       889 non-null float64\n",
      "dtypes: float64(3), int32(1), int64(5)\n",
      "memory usage: 66.0 KB\n"
     ]
    }
   ],
   "source": [
    "train = setGender(train)\n",
    "train = setPort(train)\n",
    "train = setAge(train)\n",
    "train = setFare(train)\n",
    "train = train.drop(['Name','Ticket','Cabin'], axis = 1)\n",
    "train = train.dropna()\n",
    "train.info()"
   ]
  },
  {
   "cell_type": "code",
   "execution_count": 7,
   "metadata": {
    "collapsed": false
   },
   "outputs": [
    {
     "name": "stdout",
     "output_type": "stream",
     "text": [
      "<class 'pandas.core.frame.DataFrame'>\n",
      "Int64Index: 418 entries, 0 to 417\n",
      "Data columns (total 8 columns):\n",
      "PassengerId    418 non-null int64\n",
      "Pclass         418 non-null int64\n",
      "SibSp          418 non-null int64\n",
      "Parch          418 non-null int64\n",
      "Gender         418 non-null int32\n",
      "Port           418 non-null int32\n",
      "AgeFill        418 non-null float64\n",
      "FareFill       418 non-null float64\n",
      "dtypes: float64(2), int32(2), int64(4)\n",
      "memory usage: 26.1 KB\n"
     ]
    }
   ],
   "source": [
    "test = setGender(test)\n",
    "test = setPort(test)\n",
    "test = setAge(test)\n",
    "test = setFare(test)\n",
    "test = test.drop(['Name','Ticket','Cabin'], axis = 1)\n",
    "# test = test.dropna()\n",
    "test.info()"
   ]
  },
  {
   "cell_type": "code",
   "execution_count": 9,
   "metadata": {
    "collapsed": false
   },
   "outputs": [],
   "source": [
    "# save new training table\n",
    "train.to_csv('input/train2.csv', index=False)\n",
    "test.to_csv('input/test2.csv', index=False)"
   ]
  },
  {
   "cell_type": "markdown",
   "metadata": {},
   "source": [
    "# Data visualization for replacing missing fare values"
   ]
  },
  {
   "cell_type": "code",
   "execution_count": 15,
   "metadata": {
    "collapsed": false
   },
   "outputs": [
    {
     "data": {
      "text/plain": [
       "<matplotlib.axes._subplots.AxesSubplot at 0xb456780>"
      ]
     },
     "execution_count": 15,
     "metadata": {},
     "output_type": "execute_result"
    },
    {
     "data": {
      "image/png": "[encoded data removed]",
      "text/plain": [
       "<matplotlib.figure.Figure at 0xb45d240>"
      ]
     },
     "metadata": {},
     "output_type": "display_data"
    }
   ],
   "source": [
    "# distributions of fares by class\n",
    "sns.distplot(train['Fare'][train['Pclass'] == 1]) # blue\n",
    "sns.distplot(train['Fare'][train['Pclass'] == 2]) # green\n",
    "sns.distplot(train['Fare'][train['Pclass'] == 3]) # red"
   ]
  },
  {
   "cell_type": "code",
   "execution_count": 25,
   "metadata": {
    "collapsed": false
   },
   "outputs": [
    {
     "data": {
      "text/plain": [
       "{'boxes': [<matplotlib.lines.Line2D at 0xca0f828>,\n",
       "  <matplotlib.lines.Line2D at 0xca21470>,\n",
       "  <matplotlib.lines.Line2D at 0xca31470>],\n",
       " 'caps': [<matplotlib.lines.Line2D at 0xca16c50>,\n",
       "  <matplotlib.lines.Line2D at 0xca1c9e8>,\n",
       "  <matplotlib.lines.Line2D at 0xca25c50>,\n",
       "  <matplotlib.lines.Line2D at 0xca2d9e8>,\n",
       "  <matplotlib.lines.Line2D at 0xca36c50>,\n",
       "  <matplotlib.lines.Line2D at 0xca3c9e8>],\n",
       " 'fliers': [],\n",
       " 'means': [],\n",
       " 'medians': [<matplotlib.lines.Line2D at 0xca1cc50>,\n",
       "  <matplotlib.lines.Line2D at 0xca2dc50>,\n",
       "  <matplotlib.lines.Line2D at 0xca3cc50>],\n",
       " 'whiskers': [<matplotlib.lines.Line2D at 0xca0fbe0>,\n",
       "  <matplotlib.lines.Line2D at 0xca169e8>,\n",
       "  <matplotlib.lines.Line2D at 0xca21c50>,\n",
       "  <matplotlib.lines.Line2D at 0xca259e8>,\n",
       "  <matplotlib.lines.Line2D at 0xca31c50>,\n",
       "  <matplotlib.lines.Line2D at 0xca369e8>]}"
      ]
     },
     "execution_count": 25,
     "metadata": {},
     "output_type": "execute_result"
    },
    {
     "data": {
      "image/png": "[encoded data removed]",
      "text/plain": [
       "<matplotlib.figure.Figure at 0xc950ef0>"
      ]
     },
     "metadata": {},
     "output_type": "display_data"
    }
   ],
   "source": [
    "# box-plot of fares by class\n",
    "\n",
    "data = [train['Fare'][train['Pclass'] == 1].values, train['Fare'][train['Pclass'] == 2].values, \\\n",
    "       train['Fare'][train['Pclass'] == 3].values]\n",
    "plt.boxplot(data, 0, '') # don't show outlier points\n",
    "      "
   ]
  },
  {
   "cell_type": "code",
   "execution_count": null,
   "metadata": {
    "collapsed": true
   },
   "outputs": [],
   "source": []
  }
 ],
 "metadata": {
  "kernelspec": {
   "display_name": "Python 3",
   "language": "python",
   "name": "python3"
  },
  "language_info": {
   "codemirror_mode": {
    "name": "ipython",
    "version": 3
   },
   "file_extension": ".py",
   "mimetype": "text/x-python",
   "name": "python",
   "nbconvert_exporter": "python",
   "pygments_lexer": "ipython3",
   "version": "3.4.3"
  }
 },
 "nbformat": 4,
 "nbformat_minor": 0
}

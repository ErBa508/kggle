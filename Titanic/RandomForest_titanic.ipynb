{
 "cells": [
  {
   "cell_type": "code",
   "execution_count": 1,
   "metadata": {
    "collapsed": true
   },
   "outputs": [],
   "source": [
    "# Standard Imports\n",
    "from pandas import Series, DataFrame\n",
    "import pandas as pd\n",
    "import numpy as np"
   ]
  },
  {
   "cell_type": "code",
   "execution_count": 2,
   "metadata": {
    "collapsed": true
   },
   "outputs": [],
   "source": [
    "# Plotting\n",
    "import matplotlib.pylab as plt\n",
    "plt.rcParams['font.size'] = 14\n",
    "import seaborn as sns\n",
    "%matplotlib inline"
   ]
  },
  {
   "cell_type": "code",
   "execution_count": 3,
   "metadata": {
    "collapsed": true
   },
   "outputs": [],
   "source": [
    "# Performance\n",
    "from time import time"
   ]
  },
  {
   "cell_type": "code",
   "execution_count": 4,
   "metadata": {
    "collapsed": true
   },
   "outputs": [],
   "source": [
    "# Machine Learning\n",
    "from sklearn.ensemble import RandomForestClassifier\n",
    "from sklearn.linear_model import LogisticRegression"
   ]
  },
  {
   "cell_type": "code",
   "execution_count": 5,
   "metadata": {
    "collapsed": true
   },
   "outputs": [],
   "source": [
    "# Helper\n",
    "from sklearn.cross_validation import train_test_split, KFold\n",
    "from sklearn.cross_validation import cross_val_predict, cross_val_score\n",
    "from sklearn.feature_selection import chi2, f_classif, SelectKBest\n",
    "from sklearn import metrics\n",
    "from sklearn.metrics import accuracy_score, confusion_matrix, recall_score, precision_score\n",
    "from sklearn.metrics import roc_curve, roc_auc_score\n",
    "from sklearn.grid_search import GridSearchCV"
   ]
  },
  {
   "cell_type": "markdown",
   "metadata": {},
   "source": [
    "# Preliminaries"
   ]
  },
  {
   "cell_type": "code",
   "execution_count": 6,
   "metadata": {
    "collapsed": false
   },
   "outputs": [],
   "source": [
    "# Load in the Data\n",
    "train = pd.read_csv('input/train2.csv')\n",
    "test = pd.read_csv('input/test2.csv')"
   ]
  },
  {
   "cell_type": "code",
   "execution_count": 7,
   "metadata": {
    "collapsed": false
   },
   "outputs": [
    {
     "data": {
      "text/html": [
       "<div style=\"max-height:1000px;max-width:1500px;overflow:auto;\">\n",
       "<table border=\"1\" class=\"dataframe\">\n",
       "  <thead>\n",
       "    <tr style=\"text-align: right;\">\n",
       "      <th></th>\n",
       "      <th>PassengerId</th>\n",
       "      <th>Survived</th>\n",
       "      <th>Pclass</th>\n",
       "      <th>SibSp</th>\n",
       "      <th>Parch</th>\n",
       "      <th>Gender</th>\n",
       "      <th>Port</th>\n",
       "      <th>AgeFill</th>\n",
       "      <th>FareFill</th>\n",
       "    </tr>\n",
       "  </thead>\n",
       "  <tbody>\n",
       "    <tr>\n",
       "      <th>0</th>\n",
       "      <td> 1</td>\n",
       "      <td> 0</td>\n",
       "      <td> 3</td>\n",
       "      <td> 1</td>\n",
       "      <td> 0</td>\n",
       "      <td> 1</td>\n",
       "      <td> 0</td>\n",
       "      <td> 22</td>\n",
       "      <td>  7.2500</td>\n",
       "    </tr>\n",
       "    <tr>\n",
       "      <th>1</th>\n",
       "      <td> 2</td>\n",
       "      <td> 1</td>\n",
       "      <td> 1</td>\n",
       "      <td> 1</td>\n",
       "      <td> 0</td>\n",
       "      <td> 0</td>\n",
       "      <td> 1</td>\n",
       "      <td> 38</td>\n",
       "      <td> 71.2833</td>\n",
       "    </tr>\n",
       "    <tr>\n",
       "      <th>2</th>\n",
       "      <td> 3</td>\n",
       "      <td> 1</td>\n",
       "      <td> 3</td>\n",
       "      <td> 0</td>\n",
       "      <td> 0</td>\n",
       "      <td> 0</td>\n",
       "      <td> 0</td>\n",
       "      <td> 26</td>\n",
       "      <td>  7.9250</td>\n",
       "    </tr>\n",
       "    <tr>\n",
       "      <th>3</th>\n",
       "      <td> 4</td>\n",
       "      <td> 1</td>\n",
       "      <td> 1</td>\n",
       "      <td> 1</td>\n",
       "      <td> 0</td>\n",
       "      <td> 0</td>\n",
       "      <td> 0</td>\n",
       "      <td> 35</td>\n",
       "      <td> 53.1000</td>\n",
       "    </tr>\n",
       "    <tr>\n",
       "      <th>4</th>\n",
       "      <td> 5</td>\n",
       "      <td> 0</td>\n",
       "      <td> 3</td>\n",
       "      <td> 0</td>\n",
       "      <td> 0</td>\n",
       "      <td> 1</td>\n",
       "      <td> 0</td>\n",
       "      <td> 35</td>\n",
       "      <td>  8.0500</td>\n",
       "    </tr>\n",
       "  </tbody>\n",
       "</table>\n",
       "</div>"
      ],
      "text/plain": [
       "   PassengerId  Survived  Pclass  SibSp  Parch  Gender  Port  AgeFill  \\\n",
       "0            1         0       3      1      0       1     0       22   \n",
       "1            2         1       1      1      0       0     1       38   \n",
       "2            3         1       3      0      0       0     0       26   \n",
       "3            4         1       1      1      0       0     0       35   \n",
       "4            5         0       3      0      0       1     0       35   \n",
       "\n",
       "   FareFill  \n",
       "0    7.2500  \n",
       "1   71.2833  \n",
       "2    7.9250  \n",
       "3   53.1000  \n",
       "4    8.0500  "
      ]
     },
     "execution_count": 7,
     "metadata": {},
     "output_type": "execute_result"
    }
   ],
   "source": [
    "train.head()"
   ]
  },
  {
   "cell_type": "markdown",
   "metadata": {},
   "source": [
    "# Feature engineering\n",
    "Insights pulled from visualization and exploration notebook"
   ]
  },
  {
   "cell_type": "code",
   "execution_count": 8,
   "metadata": {
    "collapsed": true
   },
   "outputs": [],
   "source": [
    "def createNewCol(boolx):\n",
    "    featx = []\n",
    "    for i in range(len(boolx)):\n",
    "        if boolx[i]:\n",
    "            featx.append(1) \n",
    "        else:\n",
    "            featx.append(0) \n",
    "\n",
    "    return featx"
   ]
  },
  {
   "cell_type": "code",
   "execution_count": 9,
   "metadata": {
    "collapsed": false
   },
   "outputs": [
    {
     "name": "stdout",
     "output_type": "stream",
     "text": [
      "35\n"
     ]
    }
   ],
   "source": [
    "# (1) children younger than 18 in the first or second class predominantly survive\n",
    "bool1 = (train['AgeFill'] < 18) & (train['Pclass'] < 3)\n",
    "bool1t = (test['AgeFill'] < 18) & (test['Pclass'] < 3)\n",
    "print(sum(bool1))\n",
    "\n",
    "train[\"kidHighClass\"] = createNewCol(bool1)\n",
    "test[\"kidHighClass\"] = createNewCol(bool1t)"
   ]
  },
  {
   "cell_type": "code",
   "execution_count": 10,
   "metadata": {
    "collapsed": false
   },
   "outputs": [
    {
     "name": "stdout",
     "output_type": "stream",
     "text": [
      "26\n"
     ]
    }
   ],
   "source": [
    "# (2) mother's with one child in first or second class predominantly survive\n",
    "bool2 = (train['AgeFill'] > 18) & (train['Parch'] == 1) & (train['Pclass'] < 3) & (train['Gender'] == 0)\n",
    "bool2t = (test['AgeFill'] > 18) & (test['Parch'] == 1) & (test['Pclass'] < 3) & (test['Gender'] == 0)\n",
    "print(sum(bool2))\n",
    "\n",
    "train[\"momHighClass\"] = createNewCol(bool2)\n",
    "test[\"momHighClass\"] = createNewCol(bool2t)"
   ]
  },
  {
   "cell_type": "code",
   "execution_count": 11,
   "metadata": {
    "collapsed": false
   },
   "outputs": [
    {
     "data": {
      "text/html": [
       "<div style=\"max-height:1000px;max-width:1500px;overflow:auto;\">\n",
       "<table border=\"1\" class=\"dataframe\">\n",
       "  <thead>\n",
       "    <tr style=\"text-align: right;\">\n",
       "      <th></th>\n",
       "      <th>PassengerId</th>\n",
       "      <th>Survived</th>\n",
       "      <th>Pclass</th>\n",
       "      <th>SibSp</th>\n",
       "      <th>Parch</th>\n",
       "      <th>Gender</th>\n",
       "      <th>Port</th>\n",
       "      <th>AgeFill</th>\n",
       "      <th>FareFill</th>\n",
       "      <th>kidHighClass</th>\n",
       "      <th>momHighClass</th>\n",
       "    </tr>\n",
       "  </thead>\n",
       "  <tbody>\n",
       "    <tr>\n",
       "      <th>0</th>\n",
       "      <td> 1</td>\n",
       "      <td> 0</td>\n",
       "      <td> 3</td>\n",
       "      <td> 1</td>\n",
       "      <td> 0</td>\n",
       "      <td> 1</td>\n",
       "      <td> 0</td>\n",
       "      <td> 22</td>\n",
       "      <td>  7.2500</td>\n",
       "      <td> 0</td>\n",
       "      <td> 0</td>\n",
       "    </tr>\n",
       "    <tr>\n",
       "      <th>1</th>\n",
       "      <td> 2</td>\n",
       "      <td> 1</td>\n",
       "      <td> 1</td>\n",
       "      <td> 1</td>\n",
       "      <td> 0</td>\n",
       "      <td> 0</td>\n",
       "      <td> 1</td>\n",
       "      <td> 38</td>\n",
       "      <td> 71.2833</td>\n",
       "      <td> 0</td>\n",
       "      <td> 0</td>\n",
       "    </tr>\n",
       "    <tr>\n",
       "      <th>2</th>\n",
       "      <td> 3</td>\n",
       "      <td> 1</td>\n",
       "      <td> 3</td>\n",
       "      <td> 0</td>\n",
       "      <td> 0</td>\n",
       "      <td> 0</td>\n",
       "      <td> 0</td>\n",
       "      <td> 26</td>\n",
       "      <td>  7.9250</td>\n",
       "      <td> 0</td>\n",
       "      <td> 0</td>\n",
       "    </tr>\n",
       "    <tr>\n",
       "      <th>3</th>\n",
       "      <td> 4</td>\n",
       "      <td> 1</td>\n",
       "      <td> 1</td>\n",
       "      <td> 1</td>\n",
       "      <td> 0</td>\n",
       "      <td> 0</td>\n",
       "      <td> 0</td>\n",
       "      <td> 35</td>\n",
       "      <td> 53.1000</td>\n",
       "      <td> 0</td>\n",
       "      <td> 0</td>\n",
       "    </tr>\n",
       "    <tr>\n",
       "      <th>4</th>\n",
       "      <td> 5</td>\n",
       "      <td> 0</td>\n",
       "      <td> 3</td>\n",
       "      <td> 0</td>\n",
       "      <td> 0</td>\n",
       "      <td> 1</td>\n",
       "      <td> 0</td>\n",
       "      <td> 35</td>\n",
       "      <td>  8.0500</td>\n",
       "      <td> 0</td>\n",
       "      <td> 0</td>\n",
       "    </tr>\n",
       "  </tbody>\n",
       "</table>\n",
       "</div>"
      ],
      "text/plain": [
       "   PassengerId  Survived  Pclass  SibSp  Parch  Gender  Port  AgeFill  \\\n",
       "0            1         0       3      1      0       1     0       22   \n",
       "1            2         1       1      1      0       0     1       38   \n",
       "2            3         1       3      0      0       0     0       26   \n",
       "3            4         1       1      1      0       0     0       35   \n",
       "4            5         0       3      0      0       1     0       35   \n",
       "\n",
       "   FareFill  kidHighClass  momHighClass  \n",
       "0    7.2500             0             0  \n",
       "1   71.2833             0             0  \n",
       "2    7.9250             0             0  \n",
       "3   53.1000             0             0  \n",
       "4    8.0500             0             0  "
      ]
     },
     "execution_count": 11,
     "metadata": {},
     "output_type": "execute_result"
    }
   ],
   "source": [
    "train.head()"
   ]
  },
  {
   "cell_type": "markdown",
   "metadata": {},
   "source": [
    "# Hold-out set"
   ]
  },
  {
   "cell_type": "code",
   "execution_count": 8,
   "metadata": {
    "collapsed": true
   },
   "outputs": [],
   "source": [
    "# create hold-out set\n",
    "\n",
    "features = list(train.columns.values)[2::]\n",
    "X_train, X_test, y_train, y_test = train_test_split(train[features], train['Survived'])"
   ]
  },
  {
   "cell_type": "markdown",
   "metadata": {},
   "source": [
    "# Data exploration"
   ]
  },
  {
   "cell_type": "code",
   "execution_count": 9,
   "metadata": {
    "collapsed": false
   },
   "outputs": [
    {
     "data": {
      "text/html": [
       "<div style=\"max-height:1000px;max-width:1500px;overflow:auto;\">\n",
       "<table border=\"1\" class=\"dataframe\">\n",
       "  <thead>\n",
       "    <tr style=\"text-align: right;\">\n",
       "      <th></th>\n",
       "      <th>Pclass</th>\n",
       "      <th>SibSp</th>\n",
       "      <th>Parch</th>\n",
       "      <th>Gender</th>\n",
       "      <th>Port</th>\n",
       "      <th>AgeFill</th>\n",
       "      <th>FareFill</th>\n",
       "    </tr>\n",
       "    <tr>\n",
       "      <th>Survived</th>\n",
       "      <th></th>\n",
       "      <th></th>\n",
       "      <th></th>\n",
       "      <th></th>\n",
       "      <th></th>\n",
       "      <th></th>\n",
       "      <th></th>\n",
       "    </tr>\n",
       "  </thead>\n",
       "  <tbody>\n",
       "    <tr>\n",
       "      <th>0</th>\n",
       "      <td> 2.534940</td>\n",
       "      <td> 0.563855</td>\n",
       "      <td> 0.296386</td>\n",
       "      <td> 0.862651</td>\n",
       "      <td> 0.325301</td>\n",
       "      <td> 29.595181</td>\n",
       "      <td> 21.775751</td>\n",
       "    </tr>\n",
       "    <tr>\n",
       "      <th>1</th>\n",
       "      <td> 1.996016</td>\n",
       "      <td> 0.517928</td>\n",
       "      <td> 0.474104</td>\n",
       "      <td> 0.302789</td>\n",
       "      <td> 0.494024</td>\n",
       "      <td> 27.829681</td>\n",
       "      <td> 48.639427</td>\n",
       "    </tr>\n",
       "  </tbody>\n",
       "</table>\n",
       "</div>"
      ],
      "text/plain": [
       "            Pclass     SibSp     Parch    Gender      Port    AgeFill  \\\n",
       "Survived                                                                \n",
       "0         2.534940  0.563855  0.296386  0.862651  0.325301  29.595181   \n",
       "1         1.996016  0.517928  0.474104  0.302789  0.494024  27.829681   \n",
       "\n",
       "           FareFill  \n",
       "Survived             \n",
       "0         21.775751  \n",
       "1         48.639427  "
      ]
     },
     "execution_count": 9,
     "metadata": {},
     "output_type": "execute_result"
    }
   ],
   "source": [
    "X_train.groupby(y_train).mean()"
   ]
  },
  {
   "cell_type": "code",
   "execution_count": 10,
   "metadata": {
    "collapsed": false
   },
   "outputs": [
    {
     "data": {
      "text/html": [
       "<div style=\"max-height:1000px;max-width:1500px;overflow:auto;\">\n",
       "<table border=\"1\" class=\"dataframe\">\n",
       "  <thead>\n",
       "    <tr style=\"text-align: right;\">\n",
       "      <th></th>\n",
       "      <th>SibSp</th>\n",
       "      <th>Parch</th>\n",
       "      <th>Gender</th>\n",
       "      <th>Port</th>\n",
       "      <th>AgeFill</th>\n",
       "      <th>FareFill</th>\n",
       "    </tr>\n",
       "    <tr>\n",
       "      <th>Pclass</th>\n",
       "      <th></th>\n",
       "      <th></th>\n",
       "      <th></th>\n",
       "      <th></th>\n",
       "      <th></th>\n",
       "      <th></th>\n",
       "    </tr>\n",
       "  </thead>\n",
       "  <tbody>\n",
       "    <tr>\n",
       "      <th>1</th>\n",
       "      <td> 0.486842</td>\n",
       "      <td> 0.375000</td>\n",
       "      <td> 0.546053</td>\n",
       "      <td> 0.447368</td>\n",
       "      <td> 38.634342</td>\n",
       "      <td> 86.400274</td>\n",
       "    </tr>\n",
       "    <tr>\n",
       "      <th>2</th>\n",
       "      <td> 0.390071</td>\n",
       "      <td> 0.340426</td>\n",
       "      <td> 0.595745</td>\n",
       "      <td> 0.134752</td>\n",
       "      <td> 30.342766</td>\n",
       "      <td> 20.784338</td>\n",
       "    </tr>\n",
       "    <tr>\n",
       "      <th>3</th>\n",
       "      <td> 0.630027</td>\n",
       "      <td> 0.367292</td>\n",
       "      <td> 0.715818</td>\n",
       "      <td> 0.461126</td>\n",
       "      <td> 24.441019</td>\n",
       "      <td> 13.892760</td>\n",
       "    </tr>\n",
       "  </tbody>\n",
       "</table>\n",
       "</div>"
      ],
      "text/plain": [
       "           SibSp     Parch    Gender      Port    AgeFill   FareFill\n",
       "Pclass                                                              \n",
       "1       0.486842  0.375000  0.546053  0.447368  38.634342  86.400274\n",
       "2       0.390071  0.340426  0.595745  0.134752  30.342766  20.784338\n",
       "3       0.630027  0.367292  0.715818  0.461126  24.441019  13.892760"
      ]
     },
     "execution_count": 10,
     "metadata": {},
     "output_type": "execute_result"
    }
   ],
   "source": [
    "X_train.groupby(X_train['Pclass']).mean()"
   ]
  },
  {
   "cell_type": "markdown",
   "metadata": {},
   "source": [
    "# Data visualization \n",
    "\n",
    "## for more visualizations see 'Visualization and exploration' notebook"
   ]
  },
  {
   "cell_type": "code",
   "execution_count": 11,
   "metadata": {
    "collapsed": false
   },
   "outputs": [
    {
     "data": {
      "text/plain": [
       "<matplotlib.text.Text at 0xb0a2390>"
      ]
     },
     "execution_count": 11,
     "metadata": {},
     "output_type": "execute_result"
    },
    {
     "data": {
      "image/png": "[encoded data removed]",
      "text/plain": [
       "<matplotlib.figure.Figure at 0xb072128>"
      ]
     },
     "metadata": {},
     "output_type": "display_data"
    }
   ],
   "source": [
    "pd.crosstab(X_train.Pclass, y_train.astype(bool)).plot(kind='bar')\n",
    "plt.title('Passenger class distribution by survival')\n",
    "plt.xlabel('Pclass')\n",
    "plt.ylabel('Frequency')"
   ]
  },
  {
   "cell_type": "markdown",
   "metadata": {},
   "source": [
    "# Feature selection"
   ]
  },
  {
   "cell_type": "code",
   "execution_count": 12,
   "metadata": {
    "collapsed": false
   },
   "outputs": [
    {
     "data": {
      "text/plain": [
       "array([[   3.    ,    1.    ,   21.    ,    7.7333],\n",
       "       [   3.    ,    1.    ,   25.    ,   15.5   ],\n",
       "       [   3.    ,    1.    ,   44.    ,   16.1   ],\n",
       "       [   2.    ,    1.    ,   50.    ,   13.    ],\n",
       "       [   2.    ,    0.    ,   30.    ,   13.    ],\n",
       "       [   2.    ,    1.    ,   44.    ,   26.    ],\n",
       "       [   1.    ,    1.    ,   38.    ,   90.    ],\n",
       "       [   3.    ,    1.    ,   24.    ,    7.1417],\n",
       "       [   1.    ,    1.    ,   36.    ,   40.125 ],\n",
       "       [   1.    ,    0.    ,   21.    ,  262.375 ]])"
      ]
     },
     "execution_count": 12,
     "metadata": {},
     "output_type": "execute_result"
    }
   ],
   "source": [
    "ch2 = SelectKBest(chi2, k = 4)\n",
    "X_train2 = ch2.fit_transform(X_train, y_train)\n",
    "X_train2[0:10]"
   ]
  },
  {
   "cell_type": "code",
   "execution_count": 13,
   "metadata": {
    "collapsed": false
   },
   "outputs": [
    {
     "name": "stdout",
     "output_type": "stream",
     "text": [
      "['Pclass', 'Gender', 'AgeFill', 'FareFill']\n"
     ]
    }
   ],
   "source": [
    "predictors = list(X_train.columns.values[ch2.get_support()])\n",
    "print(predictors)"
   ]
  },
  {
   "cell_type": "code",
   "execution_count": 29,
   "metadata": {
    "collapsed": true
   },
   "outputs": [
    {
     "name": "stdout",
     "output_type": "stream",
     "text": [
      "CV score is  0.777777777778\n"
     ]
    },
    {
     "data": {
      "image/png": "[encoded data removed]",
      "text/plain": [
       "<matplotlib.figure.Figure at 0xa725240>"
      ]
     },
     "metadata": {},
     "output_type": "display_data"
    }
   ],
   "source": [
    "# split the training data into train and test sets\n",
    "\n",
    "# clf = RandomForestClassifier(n_estimators = 100)\n",
    "# scores = []\n",
    "\n",
    "# kf = KFold(len(y_train), n_folds=6)\n",
    "\n",
    "# for train, test in kf:\n",
    "\n",
    "#     xtrain, xtest, ytrain, ytest = X_train.iloc()[train], X_train.iloc()[test], y_train.iloc()[train], y_train.iloc()[test]\n",
    "    \n",
    "#     b = SelectKBest(chi2, k = 4)\n",
    "#     b.fit(xtrain, ytrain)\n",
    "#     xtrain = xtrain.iloc()[:, b.get_support()]\n",
    "#     xtest = xtest.iloc()[:, b.get_support()]\n",
    "    \n",
    "#     clf.fit(xtrain, ytrain)\n",
    "#     scores.append(clf.score(xtest,ytest))\n",
    "    \n",
    "#     yp = clf.predict(xtest)\n",
    "#     plt.plot(yp, ytest, 'o')\n",
    "#     plt.plot(ytest, ytest, 'r-')\n",
    "    \n",
    "# plt.xlabel(\"predicted\")\n",
    "# plt.ylabel(\"observed\")\n",
    "\n",
    "# print(\"CV score is \", np.mean(scores))\n",
    "    "
   ]
  },
  {
   "cell_type": "markdown",
   "metadata": {
    "collapsed": true
   },
   "source": [
    "# Find random forest hyperparameters\n",
    "**Goal**: select best number of estimators for random forest"
   ]
  },
  {
   "cell_type": "code",
   "execution_count": 14,
   "metadata": {
    "collapsed": true
   },
   "outputs": [],
   "source": [
    "def searchHyperparameters(X, y, param_grid, alg, cval = 10, score = 'accuracy'):\n",
    "    \n",
    "    # instantiate the grid\n",
    "    grid = GridSearchCV(alg, param_grid, cv = cval, scoring = score)\n",
    "    \n",
    "    # fit the grid with data\n",
    "    grid.fit(X, y)\n",
    "    \n",
    "    # view the complete results\n",
    "    print(\"Best score:\", grid.best_score_)\n",
    "    print(\"Best parameters:\", grid.best_params_)\n",
    "    print(\"Best model:\", grid.best_estimator_)\n",
    "    \n",
    "    # note if SD high, cross-val estimates may not be reliable\n",
    "    results = grid.grid_scores_\n",
    "    return results, grid"
   ]
  },
  {
   "cell_type": "code",
   "execution_count": 15,
   "metadata": {
    "collapsed": true
   },
   "outputs": [],
   "source": [
    "# Initialize our algorithm\n",
    "alg = RandomForestClassifier()"
   ]
  },
  {
   "cell_type": "code",
   "execution_count": 16,
   "metadata": {
    "collapsed": false
   },
   "outputs": [
    {
     "name": "stdout",
     "output_type": "stream",
     "text": [
      "{'n_estimators': [1, 50, 100, 150, 200], 'criterion': ['gini', 'entropy']}\n"
     ]
    }
   ],
   "source": [
    "# define parameter values to be searched\n",
    "tree_range = [1, 50, 100, 150, 200]\n",
    "crit_range = ['gini', 'entropy']\n",
    "param_grid = dict(n_estimators = tree_range, criterion = crit_range)\n",
    "print(param_grid)"
   ]
  },
  {
   "cell_type": "code",
   "execution_count": 17,
   "metadata": {
    "collapsed": false
   },
   "outputs": [
    {
     "name": "stdout",
     "output_type": "stream",
     "text": [
      "Best score: 0.85312226117\n",
      "Best parameters: {'n_estimators': 100, 'criterion': 'gini'}\n",
      "Best model: RandomForestClassifier(bootstrap=True, class_weight=None, criterion='gini',\n",
      "            max_depth=None, max_features='auto', max_leaf_nodes=None,\n",
      "            min_samples_leaf=1, min_samples_split=2,\n",
      "            min_weight_fraction_leaf=0.0, n_estimators=100, n_jobs=1,\n",
      "            oob_score=False, random_state=None, verbose=0,\n",
      "            warm_start=False)\n",
      "\n",
      "Time elapsed (s) is: 6.5926618576049805\n"
     ]
    }
   ],
   "source": [
    "start = time()\n",
    "res, grid = searchHyperparameters(X_train[predictors], y_train, param_grid, alg, 5, 'roc_auc')\n",
    "print(\"\\nTime elapsed (s) is:\", time() - start)"
   ]
  },
  {
   "cell_type": "code",
   "execution_count": 18,
   "metadata": {
    "collapsed": false,
    "scrolled": true
   },
   "outputs": [
    {
     "name": "stdout",
     "output_type": "stream",
     "text": [
      "mean: 0.73889, std: 0.03470, params: {'n_estimators': 1, 'criterion': 'gini'}\n",
      "mean: 0.85014, std: 0.03131, params: {'n_estimators': 50, 'criterion': 'gini'}\n",
      "mean: 0.85312, std: 0.02534, params: {'n_estimators': 100, 'criterion': 'gini'}\n",
      "mean: 0.84600, std: 0.02430, params: {'n_estimators': 150, 'criterion': 'gini'}\n",
      "mean: 0.84679, std: 0.02660, params: {'n_estimators': 200, 'criterion': 'gini'}\n",
      "mean: 0.74036, std: 0.03970, params: {'n_estimators': 1, 'criterion': 'entropy'}\n",
      "mean: 0.85283, std: 0.02452, params: {'n_estimators': 50, 'criterion': 'entropy'}\n",
      "mean: 0.84799, std: 0.03404, params: {'n_estimators': 100, 'criterion': 'entropy'}\n",
      "mean: 0.84755, std: 0.02836, params: {'n_estimators': 150, 'criterion': 'entropy'}\n",
      "mean: 0.84852, std: 0.03012, params: {'n_estimators': 200, 'criterion': 'entropy'}\n"
     ]
    },
    {
     "data": {
      "text/plain": [
       "[None, None, None, None, None, None, None, None, None, None]"
      ]
     },
     "execution_count": 18,
     "metadata": {},
     "output_type": "execute_result"
    }
   ],
   "source": [
    "[print(val) for val in res]"
   ]
  },
  {
   "cell_type": "code",
   "execution_count": 19,
   "metadata": {
    "collapsed": true
   },
   "outputs": [],
   "source": [
    "# Predict class for hold-out set.\n",
    "holdout_pred = grid.predict(X_test[predictors])"
   ]
  },
  {
   "cell_type": "markdown",
   "metadata": {},
   "source": [
    "# Model evaluation"
   ]
  },
  {
   "cell_type": "code",
   "execution_count": 20,
   "metadata": {
    "collapsed": true
   },
   "outputs": [],
   "source": [
    "def evaluation_metrics(ytest, ypred):\n",
    "    \n",
    "    # null accuracy\n",
    "    null_accuracy = round(ytest.value_counts().max()/len(ytest), 3)\n",
    "    print(\"Null accuracy:\", null_accuracy)\n",
    "\n",
    "    accuracy = round(accuracy_score(ytest, ypred), 3)\n",
    "    print(\"Accuracy:\", accuracy)\n",
    "    \n",
    "    confusion = confusion_matrix(ytest, ypred)\n",
    "    print(\"Confusion matrix: actual(0,1) x predicted(0,1)\\n\", confusion)\n",
    "    \n",
    "    sensitivity = round(recall_score(ytest, ypred), 3)\n",
    "    print(\"Sensitivity: when actual is positive, how often predicted positive\", sensitivity)\n",
    "    \n",
    "    specificity = round(confusion[0,0]/(confusion[0,0] + confusion[0,1]), 3)\n",
    "    print(\"Specificity: when actual is zero, how often predicted zero\", specificity)\n",
    "\n",
    "    precision = round(precision_score(ytest, ypred), 3)\n",
    "    print(\"Precision: when predicted is positive, how often actual positive\", precision)\n",
    "    \n",
    "    return accuracy, confusion, sensitivity, specificity, precision"
   ]
  },
  {
   "cell_type": "code",
   "execution_count": 21,
   "metadata": {
    "collapsed": true
   },
   "outputs": [],
   "source": [
    "def evaluate_prob(ytest, pred_prob):\n",
    "    \n",
    "    # histogram of probabilities\n",
    "    plt.subplot(1, 2, 1)\n",
    "    plt.hist(pred_prob, bins = 8)\n",
    "    plt.xlim(0, 1)\n",
    "    plt.title('Histogram of pred probabilities')\n",
    "    plt.xlabel('Predicted probability of positive')\n",
    "    plt.ylabel('Frequency')\n",
    "    \n",
    "    # ROC curve\n",
    "    fpr, tpr, thresholds = roc_curve(ytest, pred_prob)\n",
    "    plt.subplot(1, 2, 2)\n",
    "    plt.plot(fpr, tpr)\n",
    "    plt.xlim([0.0, 1.0])\n",
    "    plt.ylim([0.0, 1.0])\n",
    "    plt.title(\"ROC curve\")\n",
    "    plt.xlabel(\"False positive rate (1 - specificity)\")\n",
    "    plt.ylabel(\"True positive rate (sensitivity)\")\n",
    "    plt.grid(True)\n",
    "    \n",
    "    plt.tight_layout() # adds more space between plots\n",
    "    \n",
    "    auc = round(roc_auc_score(y_test, predict_prob), 3)\n",
    "    print(\"AUC score is:\", auc)\n",
    "    \n",
    "    return fpr, tpr, thresholds, auc"
   ]
  },
  {
   "cell_type": "code",
   "execution_count": 22,
   "metadata": {
    "collapsed": true
   },
   "outputs": [],
   "source": [
    "# Use ROC curve to determine sensitivity & specificity for a given threshold\n",
    "def evaluate_threshold(threshold):\n",
    "    print(\"Sensitivity:\", tpr[thresholds > threshold][-1])\n",
    "    print(\"Specificity:\", 1-fpr[thresholds > threshold][-1])"
   ]
  },
  {
   "cell_type": "code",
   "execution_count": 23,
   "metadata": {
    "collapsed": false
   },
   "outputs": [
    {
     "name": "stdout",
     "output_type": "stream",
     "text": [
      "Null accuracy: 0.601\n",
      "Accuracy: 0.807\n",
      "Confusion matrix: actual(0,1) x predicted(0,1)\n",
      " [[116  18]\n",
      " [ 25  64]]\n",
      "Sensitivity: when actual is positive, how often predicted positive 0.719\n",
      "Specificity: when actual is zero, how often predicted zero 0.866\n",
      "Precision: when predicted is positive, how often actual positive 0.78\n"
     ]
    }
   ],
   "source": [
    "# Retrieve evaluation metrics\n",
    "acc, conf, sens, spec, prec = evaluation_metrics(y_test, holdout_pred)"
   ]
  },
  {
   "cell_type": "code",
   "execution_count": 24,
   "metadata": {
    "collapsed": true
   },
   "outputs": [],
   "source": [
    "# Predict probabilities for hold-out set\n",
    "predict_prob = grid.predict_proba(X_test[predictors])[:,1]"
   ]
  },
  {
   "cell_type": "code",
   "execution_count": 25,
   "metadata": {
    "collapsed": false
   },
   "outputs": [
    {
     "name": "stdout",
     "output_type": "stream",
     "text": [
      "AUC score is: 0.852\n"
     ]
    },
    {
     "data": {
      "image/png": "[encoded data removed]",
      "text/plain": [
       "<matplotlib.figure.Figure at 0xb809400>"
      ]
     },
     "metadata": {},
     "output_type": "display_data"
    }
   ],
   "source": [
    "# Retrieve probability metrics\n",
    "fpr, tpr, thresholds, auc = evaluate_prob(y_test, predict_prob)"
   ]
  },
  {
   "cell_type": "code",
   "execution_count": 26,
   "metadata": {
    "collapsed": false
   },
   "outputs": [
    {
     "name": "stdout",
     "output_type": "stream",
     "text": [
      "Sensitivity: 0.719101123596\n",
      "Specificity: 0.865671641791\n"
     ]
    }
   ],
   "source": [
    "# Determine class metrics for new threshold\n",
    "evaluate_threshold(0.5)"
   ]
  },
  {
   "cell_type": "code",
   "execution_count": 27,
   "metadata": {
    "collapsed": false
   },
   "outputs": [
    {
     "name": "stdout",
     "output_type": "stream",
     "text": [
      "Sensitivity: 0.831460674157\n",
      "Specificity: 0.716417910448\n"
     ]
    }
   ],
   "source": [
    "# Determine class metrics for new threshold\n",
    "evaluate_threshold(0.25)"
   ]
  },
  {
   "cell_type": "code",
   "execution_count": 38,
   "metadata": {
    "collapsed": false
   },
   "outputs": [
    {
     "name": "stderr",
     "output_type": "stream",
     "text": [
      "C:\\Users\\Erin\\Anaconda3\\lib\\site-packages\\sklearn\\utils\\validation.py:386: DeprecationWarning: Passing 1d arrays as data is deprecated in 0.17 and willraise ValueError in 0.19. Reshape your data either using X.reshape(-1, 1) if your data has a single feature or X.reshape(1, -1) if it contains a single sample.\n",
      "  DeprecationWarning)\n"
     ]
    }
   ],
   "source": [
    "# Change threshold for classification \n",
    "# One of the last steps in the model building process\n",
    "from sklearn.preprocessing import binarize\n",
    "y_pred_thresh = binarize(predict_prob, 0.3)[0]"
   ]
  },
  {
   "cell_type": "code",
   "execution_count": 39,
   "metadata": {
    "collapsed": false
   },
   "outputs": [
    {
     "name": "stdout",
     "output_type": "stream",
     "text": [
      "Null accuracy: 0.614\n",
      "Accuracy: 0.798\n",
      "Confusion matrix: actual(0,1) x predicted(0,1)\n",
      " [[111  26]\n",
      " [ 19  67]]\n",
      "Sensitivity: when actual is positive, how often predicted positive 0.779\n",
      "Specificity: when actual is zero, how often predicted zero 0.81\n",
      "Precision: when predicted is positive, how often actual positive 0.72\n"
     ]
    }
   ],
   "source": [
    "acc, conf, sens, spec, prec = evaluation_metrics(y_test, y_pred_thresh)"
   ]
  },
  {
   "cell_type": "markdown",
   "metadata": {},
   "source": [
    "# Final step - submission"
   ]
  },
  {
   "cell_type": "code",
   "execution_count": 28,
   "metadata": {
    "collapsed": true
   },
   "outputs": [],
   "source": [
    "# Make predictions for test set.\n",
    "test_pred = grid.predict(test[predictors])"
   ]
  },
  {
   "cell_type": "code",
   "execution_count": 29,
   "metadata": {
    "collapsed": true
   },
   "outputs": [],
   "source": [
    "test_predprob = grid.predict_proba(test[predictors])"
   ]
  },
  {
   "cell_type": "code",
   "execution_count": 30,
   "metadata": {
    "collapsed": false
   },
   "outputs": [
    {
     "data": {
      "text/plain": [
       "array([ 0.     ,  0.09   ,  1.     ,  0.2    ,  1.     ,  1.     ,\n",
       "        0.05325,  0.52   ,  0.91   ,  0.28   ])"
      ]
     },
     "execution_count": 30,
     "metadata": {},
     "output_type": "execute_result"
    }
   ],
   "source": [
    "test_predprob[10:20][:,1]"
   ]
  },
  {
   "cell_type": "code",
   "execution_count": 31,
   "metadata": {
    "collapsed": false
   },
   "outputs": [
    {
     "data": {
      "text/plain": [
       "array([0, 0, 1, 1, 0, 0, 0, 0, 1, 0], dtype=int64)"
      ]
     },
     "execution_count": 31,
     "metadata": {},
     "output_type": "execute_result"
    }
   ],
   "source": [
    "test_pred[0:10]"
   ]
  },
  {
   "cell_type": "code",
   "execution_count": 32,
   "metadata": {
    "collapsed": true
   },
   "outputs": [],
   "source": [
    "# Create a new dataframe with only the columns Kaggle wants from the dataset.\n",
    "submission = pd.DataFrame({\n",
    "        \"PassengerId\": test[\"PassengerId\"],\n",
    "        \"Survived\": test_pred\n",
    "    })\n",
    "\n",
    "# Any files you save will be available in the output tab below\n",
    "submission.to_csv('submission.csv', index=False)"
   ]
  },
  {
   "cell_type": "code",
   "execution_count": null,
   "metadata": {
    "collapsed": true
   },
   "outputs": [],
   "source": []
  }
 ],
 "metadata": {
  "kernelspec": {
   "display_name": "Python 3",
   "language": "python",
   "name": "python3"
  },
  "language_info": {
   "codemirror_mode": {
    "name": "ipython",
    "version": 3
   },
   "file_extension": ".py",
   "mimetype": "text/x-python",
   "name": "python",
   "nbconvert_exporter": "python",
   "pygments_lexer": "ipython3",
   "version": "3.4.3"
  }
 },
 "nbformat": 4,
 "nbformat_minor": 0
}

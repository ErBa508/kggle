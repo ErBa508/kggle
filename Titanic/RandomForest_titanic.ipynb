{
 "cells": [
  {
   "cell_type": "code",
   "execution_count": 1,
   "metadata": {
    "collapsed": true
   },
   "outputs": [],
   "source": [
    "# Standard Imports\n",
    "from pandas import Series, DataFrame\n",
    "import pandas as pd\n",
    "import numpy as np"
   ]
  },
  {
   "cell_type": "code",
   "execution_count": 2,
   "metadata": {
    "collapsed": false
   },
   "outputs": [
    {
     "name": "stderr",
     "output_type": "stream",
     "text": [
      "C:\\Users\\Erin\\Anaconda3\\lib\\site-packages\\matplotlib\\__init__.py:872: UserWarning: axes.color_cycle is deprecated and replaced with axes.prop_cycle; please use the latter.\n",
      "  warnings.warn(self.msg_depr % (key, alt_key))\n"
     ]
    }
   ],
   "source": [
    "# Plotting\n",
    "import matplotlib.pylab as plt\n",
    "plt.rcParams['font.size'] = 14\n",
    "import seaborn as sns\n",
    "%matplotlib inline"
   ]
  },
  {
   "cell_type": "code",
   "execution_count": 3,
   "metadata": {
    "collapsed": true
   },
   "outputs": [],
   "source": [
    "# Performance\n",
    "from time import time"
   ]
  },
  {
   "cell_type": "code",
   "execution_count": 4,
   "metadata": {
    "collapsed": true
   },
   "outputs": [],
   "source": [
    "# Machine Learning\n",
    "from sklearn.ensemble import RandomForestClassifier\n",
    "from sklearn.linear_model import LogisticRegression"
   ]
  },
  {
   "cell_type": "code",
   "execution_count": 5,
   "metadata": {
    "collapsed": true
   },
   "outputs": [],
   "source": [
    "# Helper\n",
    "from sklearn.cross_validation import train_test_split, KFold\n",
    "from sklearn.cross_validation import cross_val_predict, cross_val_score\n",
    "from sklearn.feature_selection import chi2, f_classif, SelectKBest\n",
    "from sklearn import metrics\n",
    "from sklearn.metrics import accuracy_score, confusion_matrix, recall_score, precision_score\n",
    "from sklearn.metrics import roc_curve, roc_auc_score\n",
    "from sklearn.grid_search import GridSearchCV"
   ]
  },
  {
   "cell_type": "markdown",
   "metadata": {},
   "source": [
    "# Preliminaries"
   ]
  },
  {
   "cell_type": "code",
   "execution_count": 6,
   "metadata": {
    "collapsed": false
   },
   "outputs": [],
   "source": [
    "# Load in the Data\n",
    "train = pd.read_csv('input/train3.csv')\n",
    "test = pd.read_csv('input/test3.csv')"
   ]
  },
  {
   "cell_type": "code",
   "execution_count": 7,
   "metadata": {
    "collapsed": false
   },
   "outputs": [
    {
     "data": {
      "text/html": [
       "<div style=\"max-height:1000px;max-width:1500px;overflow:auto;\">\n",
       "<table border=\"1\" class=\"dataframe\">\n",
       "  <thead>\n",
       "    <tr style=\"text-align: right;\">\n",
       "      <th></th>\n",
       "      <th>PassengerId</th>\n",
       "      <th>Survived</th>\n",
       "      <th>Pclass</th>\n",
       "      <th>SibSp</th>\n",
       "      <th>Parch</th>\n",
       "      <th>Gender</th>\n",
       "      <th>Port</th>\n",
       "      <th>AgeFill</th>\n",
       "      <th>FareFill</th>\n",
       "      <th>femalesHighClass</th>\n",
       "      <th>thirdClassFSingle</th>\n",
       "      <th>boysHighClass</th>\n",
       "      <th>singleMenFirstClass</th>\n",
       "    </tr>\n",
       "  </thead>\n",
       "  <tbody>\n",
       "    <tr>\n",
       "      <th>0</th>\n",
       "      <td> 1</td>\n",
       "      <td> 0</td>\n",
       "      <td> 3</td>\n",
       "      <td> 1</td>\n",
       "      <td> 0</td>\n",
       "      <td> 1</td>\n",
       "      <td> 0</td>\n",
       "      <td> 22</td>\n",
       "      <td>  7.2500</td>\n",
       "      <td> 0</td>\n",
       "      <td> 0</td>\n",
       "      <td> 0</td>\n",
       "      <td> 0</td>\n",
       "    </tr>\n",
       "    <tr>\n",
       "      <th>1</th>\n",
       "      <td> 2</td>\n",
       "      <td> 1</td>\n",
       "      <td> 1</td>\n",
       "      <td> 1</td>\n",
       "      <td> 0</td>\n",
       "      <td> 0</td>\n",
       "      <td> 1</td>\n",
       "      <td> 38</td>\n",
       "      <td> 71.2833</td>\n",
       "      <td> 1</td>\n",
       "      <td> 0</td>\n",
       "      <td> 0</td>\n",
       "      <td> 0</td>\n",
       "    </tr>\n",
       "    <tr>\n",
       "      <th>2</th>\n",
       "      <td> 3</td>\n",
       "      <td> 1</td>\n",
       "      <td> 3</td>\n",
       "      <td> 0</td>\n",
       "      <td> 0</td>\n",
       "      <td> 0</td>\n",
       "      <td> 0</td>\n",
       "      <td> 26</td>\n",
       "      <td>  7.9250</td>\n",
       "      <td> 0</td>\n",
       "      <td> 0</td>\n",
       "      <td> 0</td>\n",
       "      <td> 0</td>\n",
       "    </tr>\n",
       "    <tr>\n",
       "      <th>3</th>\n",
       "      <td> 4</td>\n",
       "      <td> 1</td>\n",
       "      <td> 1</td>\n",
       "      <td> 1</td>\n",
       "      <td> 0</td>\n",
       "      <td> 0</td>\n",
       "      <td> 0</td>\n",
       "      <td> 35</td>\n",
       "      <td> 53.1000</td>\n",
       "      <td> 1</td>\n",
       "      <td> 0</td>\n",
       "      <td> 0</td>\n",
       "      <td> 0</td>\n",
       "    </tr>\n",
       "    <tr>\n",
       "      <th>4</th>\n",
       "      <td> 5</td>\n",
       "      <td> 0</td>\n",
       "      <td> 3</td>\n",
       "      <td> 0</td>\n",
       "      <td> 0</td>\n",
       "      <td> 1</td>\n",
       "      <td> 0</td>\n",
       "      <td> 35</td>\n",
       "      <td>  8.0500</td>\n",
       "      <td> 0</td>\n",
       "      <td> 0</td>\n",
       "      <td> 0</td>\n",
       "      <td> 0</td>\n",
       "    </tr>\n",
       "  </tbody>\n",
       "</table>\n",
       "</div>"
      ],
      "text/plain": [
       "   PassengerId  Survived  Pclass  SibSp  Parch  Gender  Port  AgeFill  \\\n",
       "0            1         0       3      1      0       1     0       22   \n",
       "1            2         1       1      1      0       0     1       38   \n",
       "2            3         1       3      0      0       0     0       26   \n",
       "3            4         1       1      1      0       0     0       35   \n",
       "4            5         0       3      0      0       1     0       35   \n",
       "\n",
       "   FareFill  femalesHighClass  thirdClassFSingle  boysHighClass  \\\n",
       "0    7.2500                 0                  0              0   \n",
       "1   71.2833                 1                  0              0   \n",
       "2    7.9250                 0                  0              0   \n",
       "3   53.1000                 1                  0              0   \n",
       "4    8.0500                 0                  0              0   \n",
       "\n",
       "   singleMenFirstClass  \n",
       "0                    0  \n",
       "1                    0  \n",
       "2                    0  \n",
       "3                    0  \n",
       "4                    0  "
      ]
     },
     "execution_count": 7,
     "metadata": {},
     "output_type": "execute_result"
    }
   ],
   "source": [
    "train.head()"
   ]
  },
  {
   "cell_type": "code",
   "execution_count": 35,
   "metadata": {
    "collapsed": false
   },
   "outputs": [
    {
     "name": "stdout",
     "output_type": "stream",
     "text": [
      "Survival rate is  0.382452193476\n"
     ]
    }
   ],
   "source": [
    "print(\"Survival rate is \", sum(train.Survived)/len(train.Survived))"
   ]
  },
  {
   "cell_type": "markdown",
   "metadata": {},
   "source": [
    "# Feature engineering\n",
    "See features generated in visualization and exploration notebook"
   ]
  },
  {
   "cell_type": "markdown",
   "metadata": {},
   "source": [
    "# Hold-out set"
   ]
  },
  {
   "cell_type": "code",
   "execution_count": 8,
   "metadata": {
    "collapsed": true
   },
   "outputs": [],
   "source": [
    "# create hold-out set\n",
    "\n",
    "features = list(train.columns.values)[2::]\n",
    "X_train, X_test, y_train, y_test = train_test_split(train[features], train['Survived'])"
   ]
  },
  {
   "cell_type": "markdown",
   "metadata": {},
   "source": [
    "# Data exploration"
   ]
  },
  {
   "cell_type": "code",
   "execution_count": 9,
   "metadata": {
    "collapsed": false
   },
   "outputs": [
    {
     "data": {
      "text/html": [
       "<div style=\"max-height:1000px;max-width:1500px;overflow:auto;\">\n",
       "<table border=\"1\" class=\"dataframe\">\n",
       "  <thead>\n",
       "    <tr style=\"text-align: right;\">\n",
       "      <th></th>\n",
       "      <th>Pclass</th>\n",
       "      <th>SibSp</th>\n",
       "      <th>Parch</th>\n",
       "      <th>Gender</th>\n",
       "      <th>Port</th>\n",
       "      <th>AgeFill</th>\n",
       "      <th>FareFill</th>\n",
       "      <th>femalesHighClass</th>\n",
       "      <th>thirdClassFSingle</th>\n",
       "      <th>boysHighClass</th>\n",
       "      <th>singleMenFirstClass</th>\n",
       "    </tr>\n",
       "    <tr>\n",
       "      <th>Survived</th>\n",
       "      <th></th>\n",
       "      <th></th>\n",
       "      <th></th>\n",
       "      <th></th>\n",
       "      <th></th>\n",
       "      <th></th>\n",
       "      <th></th>\n",
       "      <th></th>\n",
       "      <th></th>\n",
       "      <th></th>\n",
       "      <th></th>\n",
       "    </tr>\n",
       "  </thead>\n",
       "  <tbody>\n",
       "    <tr>\n",
       "      <th>0</th>\n",
       "      <td> 2.536160</td>\n",
       "      <td> 0.571072</td>\n",
       "      <td> 0.34414</td>\n",
       "      <td> 0.855362</td>\n",
       "      <td> 0.321696</td>\n",
       "      <td> 29.295511</td>\n",
       "      <td> 22.635410</td>\n",
       "      <td> 0.014963</td>\n",
       "      <td> 0.017456</td>\n",
       "      <td> 0.004988</td>\n",
       "      <td> 0.012469</td>\n",
       "    </tr>\n",
       "    <tr>\n",
       "      <th>1</th>\n",
       "      <td> 1.954717</td>\n",
       "      <td> 0.464151</td>\n",
       "      <td> 0.50566</td>\n",
       "      <td> 0.305660</td>\n",
       "      <td> 0.441509</td>\n",
       "      <td> 27.400642</td>\n",
       "      <td> 46.894576</td>\n",
       "      <td> 0.494340</td>\n",
       "      <td> 0.083019</td>\n",
       "      <td> 0.045283</td>\n",
       "      <td> 0.018868</td>\n",
       "    </tr>\n",
       "  </tbody>\n",
       "</table>\n",
       "</div>"
      ],
      "text/plain": [
       "            Pclass     SibSp    Parch    Gender      Port    AgeFill  \\\n",
       "Survived                                                               \n",
       "0         2.536160  0.571072  0.34414  0.855362  0.321696  29.295511   \n",
       "1         1.954717  0.464151  0.50566  0.305660  0.441509  27.400642   \n",
       "\n",
       "           FareFill  femalesHighClass  thirdClassFSingle  boysHighClass  \\\n",
       "Survived                                                                  \n",
       "0         22.635410          0.014963           0.017456       0.004988   \n",
       "1         46.894576          0.494340           0.083019       0.045283   \n",
       "\n",
       "          singleMenFirstClass  \n",
       "Survived                       \n",
       "0                    0.012469  \n",
       "1                    0.018868  "
      ]
     },
     "execution_count": 9,
     "metadata": {},
     "output_type": "execute_result"
    }
   ],
   "source": [
    "X_train.groupby(y_train).mean()"
   ]
  },
  {
   "cell_type": "code",
   "execution_count": 10,
   "metadata": {
    "collapsed": false
   },
   "outputs": [
    {
     "data": {
      "text/html": [
       "<div style=\"max-height:1000px;max-width:1500px;overflow:auto;\">\n",
       "<table border=\"1\" class=\"dataframe\">\n",
       "  <thead>\n",
       "    <tr style=\"text-align: right;\">\n",
       "      <th></th>\n",
       "      <th>SibSp</th>\n",
       "      <th>Parch</th>\n",
       "      <th>Gender</th>\n",
       "      <th>Port</th>\n",
       "      <th>AgeFill</th>\n",
       "      <th>FareFill</th>\n",
       "      <th>femalesHighClass</th>\n",
       "      <th>thirdClassFSingle</th>\n",
       "      <th>boysHighClass</th>\n",
       "      <th>singleMenFirstClass</th>\n",
       "    </tr>\n",
       "    <tr>\n",
       "      <th>Pclass</th>\n",
       "      <th></th>\n",
       "      <th></th>\n",
       "      <th></th>\n",
       "      <th></th>\n",
       "      <th></th>\n",
       "      <th></th>\n",
       "      <th></th>\n",
       "      <th></th>\n",
       "      <th></th>\n",
       "      <th></th>\n",
       "    </tr>\n",
       "  </thead>\n",
       "  <tbody>\n",
       "    <tr>\n",
       "      <th>1</th>\n",
       "      <td> 0.462025</td>\n",
       "      <td> 0.417722</td>\n",
       "      <td> 0.537975</td>\n",
       "      <td> 0.462025</td>\n",
       "      <td> 37.300127</td>\n",
       "      <td> 84.725765</td>\n",
       "      <td> 0.462025</td>\n",
       "      <td> 0.000000</td>\n",
       "      <td> 0.025316</td>\n",
       "      <td> 0.063291</td>\n",
       "    </tr>\n",
       "    <tr>\n",
       "      <th>2</th>\n",
       "      <td> 0.387755</td>\n",
       "      <td> 0.380952</td>\n",
       "      <td> 0.564626</td>\n",
       "      <td> 0.129252</td>\n",
       "      <td> 28.998844</td>\n",
       "      <td> 21.400652</td>\n",
       "      <td> 0.435374</td>\n",
       "      <td> 0.000000</td>\n",
       "      <td> 0.068027</td>\n",
       "      <td> 0.000000</td>\n",
       "    </tr>\n",
       "    <tr>\n",
       "      <th>3</th>\n",
       "      <td> 0.614958</td>\n",
       "      <td> 0.415512</td>\n",
       "      <td> 0.709141</td>\n",
       "      <td> 0.426593</td>\n",
       "      <td> 24.521939</td>\n",
       "      <td> 13.770901</td>\n",
       "      <td> 0.000000</td>\n",
       "      <td> 0.080332</td>\n",
       "      <td> 0.000000</td>\n",
       "      <td> 0.000000</td>\n",
       "    </tr>\n",
       "  </tbody>\n",
       "</table>\n",
       "</div>"
      ],
      "text/plain": [
       "           SibSp     Parch    Gender      Port    AgeFill   FareFill  \\\n",
       "Pclass                                                                 \n",
       "1       0.462025  0.417722  0.537975  0.462025  37.300127  84.725765   \n",
       "2       0.387755  0.380952  0.564626  0.129252  28.998844  21.400652   \n",
       "3       0.614958  0.415512  0.709141  0.426593  24.521939  13.770901   \n",
       "\n",
       "        femalesHighClass  thirdClassFSingle  boysHighClass  \\\n",
       "Pclass                                                       \n",
       "1               0.462025           0.000000       0.025316   \n",
       "2               0.435374           0.000000       0.068027   \n",
       "3               0.000000           0.080332       0.000000   \n",
       "\n",
       "        singleMenFirstClass  \n",
       "Pclass                       \n",
       "1                  0.063291  \n",
       "2                  0.000000  \n",
       "3                  0.000000  "
      ]
     },
     "execution_count": 10,
     "metadata": {},
     "output_type": "execute_result"
    }
   ],
   "source": [
    "X_train.groupby(X_train['Pclass']).mean()"
   ]
  },
  {
   "cell_type": "markdown",
   "metadata": {},
   "source": [
    "# Data visualization \n",
    "\n",
    "## for more visualizations see 'Visualization and exploration' notebook"
   ]
  },
  {
   "cell_type": "code",
   "execution_count": 11,
   "metadata": {
    "collapsed": false
   },
   "outputs": [
    {
     "data": {
      "text/plain": [
       "<matplotlib.text.Text at 0xb390d68>"
      ]
     },
     "execution_count": 11,
     "metadata": {},
     "output_type": "execute_result"
    },
    {
     "data": {
      "image/png": "[encoded data removed]",
      "text/plain": [
       "<matplotlib.figure.Figure at 0xaf64fd0>"
      ]
     },
     "metadata": {},
     "output_type": "display_data"
    }
   ],
   "source": [
    "pd.crosstab(X_train.Pclass, y_train.astype(bool)).plot(kind='bar')\n",
    "plt.title('Passenger class distribution by survival')\n",
    "plt.xlabel('Pclass')\n",
    "plt.ylabel('Frequency')"
   ]
  },
  {
   "cell_type": "markdown",
   "metadata": {},
   "source": [
    "# Feature selection"
   ]
  },
  {
   "cell_type": "code",
   "execution_count": 16,
   "metadata": {
    "collapsed": false,
    "scrolled": true
   },
   "outputs": [
    {
     "data": {
      "text/plain": [
       "array([[   2.    ,    0.    ,    0.    ,    0.    ,   26.    ,    0.    ,\n",
       "           0.    ],\n",
       "       [   1.    ,    0.    ,    0.    ,    1.    ,   27.7208,    0.    ,\n",
       "           0.    ],\n",
       "       [   1.    ,    0.    ,    1.    ,    0.    ,   26.55  ,    0.    ,\n",
       "           0.    ],\n",
       "       [   1.    ,    0.    ,    0.    ,    0.    ,  151.55  ,    0.    ,\n",
       "           0.    ],\n",
       "       [   3.    ,    0.    ,    1.    ,    0.    ,   18.    ,    0.    ,\n",
       "           0.    ],\n",
       "       [   3.    ,    0.    ,    1.    ,    0.    ,    8.6625,    0.    ,\n",
       "           0.    ],\n",
       "       [   2.    ,    1.    ,    0.    ,    0.    ,   26.    ,    0.    ,\n",
       "           1.    ],\n",
       "       [   1.    ,    0.    ,    1.    ,    0.    ,   26.55  ,    0.    ,\n",
       "           0.    ],\n",
       "       [   3.    ,    0.    ,    0.    ,    2.    ,   15.5   ,    0.    ,\n",
       "           0.    ],\n",
       "       [   3.    ,    0.    ,    0.    ,    0.    ,    7.925 ,    0.    ,\n",
       "           0.    ]])"
      ]
     },
     "execution_count": 16,
     "metadata": {},
     "output_type": "execute_result"
    }
   ],
   "source": [
    "# ch2 = SelectKBest(chi2, k = 7)\n",
    "# X_train2 = ch2.fit_transform(X_train, y_train)\n",
    "# X_train2[0:10]"
   ]
  },
  {
   "cell_type": "code",
   "execution_count": 12,
   "metadata": {
    "collapsed": false
   },
   "outputs": [
    {
     "name": "stdout",
     "output_type": "stream",
     "text": [
      "['Pclass', 'SibSp', 'Parch', 'Gender', 'Port', 'AgeFill', 'FareFill', 'femalesHighClass', 'thirdClassFSingle', 'boysHighClass', 'singleMenFirstClass']\n"
     ]
    }
   ],
   "source": [
    "# predictors = list(X_train.columns.values[ch2.get_support()])\n",
    "predictors = list(X_train.columns.values)\n",
    "print(predictors)"
   ]
  },
  {
   "cell_type": "markdown",
   "metadata": {
    "collapsed": true
   },
   "source": [
    "# Find random forest hyperparameters\n",
    "**Goal**: select best number of estimators for random forest"
   ]
  },
  {
   "cell_type": "code",
   "execution_count": 13,
   "metadata": {
    "collapsed": true
   },
   "outputs": [],
   "source": [
    "def searchHyperparameters(X, y, param_grid, alg, cval = 10, score = 'accuracy'):\n",
    "    \n",
    "    # instantiate the grid\n",
    "    grid = GridSearchCV(alg, param_grid, cv = cval, scoring = score)\n",
    "    \n",
    "    # fit the grid with data\n",
    "    grid.fit(X, y)\n",
    "    \n",
    "    # view the complete results\n",
    "    print(\"Best score:\", grid.best_score_)\n",
    "    print(\"Best parameters:\", grid.best_params_)\n",
    "    print(\"Best model:\", grid.best_estimator_)\n",
    "    \n",
    "    # note if SD high, cross-val estimates may not be reliable\n",
    "    results = grid.grid_scores_\n",
    "    return results, grid"
   ]
  },
  {
   "cell_type": "code",
   "execution_count": 14,
   "metadata": {
    "collapsed": true
   },
   "outputs": [],
   "source": [
    "# Initialize our algorithm\n",
    "alg = RandomForestClassifier()"
   ]
  },
  {
   "cell_type": "code",
   "execution_count": 15,
   "metadata": {
    "collapsed": false
   },
   "outputs": [
    {
     "name": "stdout",
     "output_type": "stream",
     "text": [
      "{'n_estimators': [1, 50, 100, 150, 200], 'criterion': ['gini', 'entropy']}\n"
     ]
    }
   ],
   "source": [
    "# define parameter values to be searched\n",
    "tree_range = [1, 50, 100, 150, 200]\n",
    "crit_range = ['gini', 'entropy']\n",
    "param_grid = dict(n_estimators = tree_range, criterion = crit_range)\n",
    "print(param_grid)"
   ]
  },
  {
   "cell_type": "code",
   "execution_count": 16,
   "metadata": {
    "collapsed": false
   },
   "outputs": [
    {
     "name": "stdout",
     "output_type": "stream",
     "text": [
      "Best score: 0.864970036424\n",
      "Best parameters: {'n_estimators': 200, 'criterion': 'entropy'}\n",
      "Best model: RandomForestClassifier(bootstrap=True, class_weight=None, criterion='entropy',\n",
      "            max_depth=None, max_features='auto', max_leaf_nodes=None,\n",
      "            min_samples_leaf=1, min_samples_split=2,\n",
      "            min_weight_fraction_leaf=0.0, n_estimators=200, n_jobs=1,\n",
      "            oob_score=False, random_state=None, verbose=0,\n",
      "            warm_start=False)\n",
      "\n",
      "Time elapsed (s) is: 6.605672836303711\n"
     ]
    }
   ],
   "source": [
    "start = time()\n",
    "res, grid = searchHyperparameters(X_train[predictors], y_train, param_grid, alg, 5, 'roc_auc')\n",
    "print(\"\\nTime elapsed (s) is:\", time() - start)"
   ]
  },
  {
   "cell_type": "code",
   "execution_count": 17,
   "metadata": {
    "collapsed": false,
    "scrolled": true
   },
   "outputs": [
    {
     "name": "stdout",
     "output_type": "stream",
     "text": [
      "mean: 0.75384, std: 0.05880, params: {'n_estimators': 1, 'criterion': 'gini'}\n",
      "mean: 0.85665, std: 0.04097, params: {'n_estimators': 50, 'criterion': 'gini'}\n",
      "mean: 0.86050, std: 0.03837, params: {'n_estimators': 100, 'criterion': 'gini'}\n",
      "mean: 0.86368, std: 0.03687, params: {'n_estimators': 150, 'criterion': 'gini'}\n",
      "mean: 0.86050, std: 0.03579, params: {'n_estimators': 200, 'criterion': 'gini'}\n",
      "mean: 0.75837, std: 0.04771, params: {'n_estimators': 1, 'criterion': 'entropy'}\n",
      "mean: 0.86325, std: 0.03736, params: {'n_estimators': 50, 'criterion': 'entropy'}\n",
      "mean: 0.86405, std: 0.03782, params: {'n_estimators': 100, 'criterion': 'entropy'}\n",
      "mean: 0.86373, std: 0.03668, params: {'n_estimators': 150, 'criterion': 'entropy'}\n",
      "mean: 0.86497, std: 0.03701, params: {'n_estimators': 200, 'criterion': 'entropy'}\n"
     ]
    },
    {
     "data": {
      "text/plain": [
       "[None, None, None, None, None, None, None, None, None, None]"
      ]
     },
     "execution_count": 17,
     "metadata": {},
     "output_type": "execute_result"
    }
   ],
   "source": [
    "[print(val) for val in res]"
   ]
  },
  {
   "cell_type": "code",
   "execution_count": 18,
   "metadata": {
    "collapsed": true
   },
   "outputs": [],
   "source": [
    "# Predict class for hold-out set.\n",
    "holdout_pred = grid.predict(X_test[predictors])"
   ]
  },
  {
   "cell_type": "markdown",
   "metadata": {},
   "source": [
    "# Model evaluation"
   ]
  },
  {
   "cell_type": "code",
   "execution_count": 19,
   "metadata": {
    "collapsed": true
   },
   "outputs": [],
   "source": [
    "def evaluation_metrics(ytest, ypred):\n",
    "    \n",
    "    # null accuracy\n",
    "    null_accuracy = round(ytest.value_counts().max()/len(ytest), 3)\n",
    "    print(\"Null accuracy:\", null_accuracy)\n",
    "\n",
    "    accuracy = round(accuracy_score(ytest, ypred), 3)\n",
    "    print(\"Accuracy:\", accuracy)\n",
    "    \n",
    "    confusion = confusion_matrix(ytest, ypred)\n",
    "    print(\"Confusion matrix: actual(0,1) x predicted(0,1)\\n\", confusion)\n",
    "    \n",
    "    sensitivity = round(recall_score(ytest, ypred), 3)\n",
    "    print(\"Sensitivity: when actual is positive, how often predicted positive\", sensitivity)\n",
    "    \n",
    "    specificity = round(confusion[0,0]/(confusion[0,0] + confusion[0,1]), 3)\n",
    "    print(\"Specificity: when actual is zero, how often predicted zero\", specificity)\n",
    "\n",
    "    precision = round(precision_score(ytest, ypred), 3)\n",
    "    print(\"Precision: when predicted is positive, how often actual positive\", precision)\n",
    "    \n",
    "    return accuracy, confusion, sensitivity, specificity, precision"
   ]
  },
  {
   "cell_type": "code",
   "execution_count": 20,
   "metadata": {
    "collapsed": true
   },
   "outputs": [],
   "source": [
    "def evaluate_prob(ytest, pred_prob):\n",
    "    \n",
    "    # histogram of probabilities\n",
    "    plt.subplot(1, 2, 1)\n",
    "    plt.hist(pred_prob, bins = 8)\n",
    "    plt.xlim(0, 1)\n",
    "    plt.title('Histogram of pred probabilities')\n",
    "    plt.xlabel('Predicted probability of positive')\n",
    "    plt.ylabel('Frequency')\n",
    "    \n",
    "    # ROC curve\n",
    "    fpr, tpr, thresholds = roc_curve(ytest, pred_prob)\n",
    "    plt.subplot(1, 2, 2)\n",
    "    plt.plot(fpr, tpr)\n",
    "    plt.xlim([0.0, 1.0])\n",
    "    plt.ylim([0.0, 1.0])\n",
    "    plt.title(\"ROC curve\")\n",
    "    plt.xlabel(\"False positive rate (1 - specificity)\")\n",
    "    plt.ylabel(\"True positive rate (sensitivity)\")\n",
    "    plt.grid(True)\n",
    "    \n",
    "    plt.tight_layout() # adds more space between plots\n",
    "    \n",
    "    auc = round(roc_auc_score(y_test, predict_prob), 3)\n",
    "    print(\"AUC score is:\", auc)\n",
    "    \n",
    "    return fpr, tpr, thresholds, auc"
   ]
  },
  {
   "cell_type": "code",
   "execution_count": 21,
   "metadata": {
    "collapsed": true
   },
   "outputs": [],
   "source": [
    "# Use ROC curve to determine sensitivity & specificity for a given threshold\n",
    "def evaluate_threshold(threshold):\n",
    "    print(\"Sensitivity:\", tpr[thresholds > threshold][-1])\n",
    "    print(\"Specificity:\", 1-fpr[thresholds > threshold][-1])"
   ]
  },
  {
   "cell_type": "code",
   "execution_count": 22,
   "metadata": {
    "collapsed": false
   },
   "outputs": [
    {
     "name": "stdout",
     "output_type": "stream",
     "text": [
      "Null accuracy: 0.664\n",
      "Accuracy: 0.798\n",
      "Confusion matrix: actual(0,1) x predicted(0,1)\n",
      " [[130  18]\n",
      " [ 27  48]]\n",
      "Sensitivity: when actual is positive, how often predicted positive 0.64\n",
      "Specificity: when actual is zero, how often predicted zero 0.878\n",
      "Precision: when predicted is positive, how often actual positive 0.727\n"
     ]
    }
   ],
   "source": [
    "# Retrieve evaluation metrics\n",
    "acc, conf, sens, spec, prec = evaluation_metrics(y_test, holdout_pred)"
   ]
  },
  {
   "cell_type": "code",
   "execution_count": 23,
   "metadata": {
    "collapsed": true
   },
   "outputs": [],
   "source": [
    "# Predict probabilities for hold-out set\n",
    "predict_prob = grid.predict_proba(X_test[predictors])[:,1]"
   ]
  },
  {
   "cell_type": "code",
   "execution_count": 24,
   "metadata": {
    "collapsed": false
   },
   "outputs": [
    {
     "name": "stdout",
     "output_type": "stream",
     "text": [
      "AUC score is: 0.825\n"
     ]
    },
    {
     "data": {
      "image/png": "[encoded data removed]",
      "text/plain": [
       "<matplotlib.figure.Figure at 0xacf4cf8>"
      ]
     },
     "metadata": {},
     "output_type": "display_data"
    }
   ],
   "source": [
    "# Retrieve probability metrics\n",
    "fpr, tpr, thresholds, auc = evaluate_prob(y_test, predict_prob)"
   ]
  },
  {
   "cell_type": "code",
   "execution_count": 25,
   "metadata": {
    "collapsed": false
   },
   "outputs": [
    {
     "name": "stdout",
     "output_type": "stream",
     "text": [
      "Sensitivity: 0.64\n",
      "Specificity: 0.878378378378\n"
     ]
    }
   ],
   "source": [
    "# Determine class metrics for new threshold\n",
    "evaluate_threshold(0.5)"
   ]
  },
  {
   "cell_type": "code",
   "execution_count": 26,
   "metadata": {
    "collapsed": false
   },
   "outputs": [
    {
     "name": "stdout",
     "output_type": "stream",
     "text": [
      "Sensitivity: 0.693333333333\n",
      "Specificity: 0.709459459459\n"
     ]
    }
   ],
   "source": [
    "# Determine class metrics for new threshold\n",
    "evaluate_threshold(0.25)"
   ]
  },
  {
   "cell_type": "code",
   "execution_count": 27,
   "metadata": {
    "collapsed": false
   },
   "outputs": [
    {
     "name": "stderr",
     "output_type": "stream",
     "text": [
      "C:\\Users\\Erin\\Anaconda3\\lib\\site-packages\\sklearn\\utils\\validation.py:386: DeprecationWarning: Passing 1d arrays as data is deprecated in 0.17 and willraise ValueError in 0.19. Reshape your data either using X.reshape(-1, 1) if your data has a single feature or X.reshape(1, -1) if it contains a single sample.\n",
      "  DeprecationWarning)\n"
     ]
    }
   ],
   "source": [
    "# Change threshold for classification \n",
    "# One of the last steps in the model building process\n",
    "from sklearn.preprocessing import binarize\n",
    "y_pred_thresh = binarize(predict_prob, 0.3)[0]"
   ]
  },
  {
   "cell_type": "code",
   "execution_count": 28,
   "metadata": {
    "collapsed": false
   },
   "outputs": [
    {
     "name": "stdout",
     "output_type": "stream",
     "text": [
      "Null accuracy: 0.664\n",
      "Accuracy: 0.74\n",
      "Confusion matrix: actual(0,1) x predicted(0,1)\n",
      " [[114  34]\n",
      " [ 24  51]]\n",
      "Sensitivity: when actual is positive, how often predicted positive 0.68\n",
      "Specificity: when actual is zero, how often predicted zero 0.77\n",
      "Precision: when predicted is positive, how often actual positive 0.6\n"
     ]
    }
   ],
   "source": [
    "acc, conf, sens, spec, prec = evaluation_metrics(y_test, y_pred_thresh)"
   ]
  },
  {
   "cell_type": "markdown",
   "metadata": {},
   "source": [
    "# Final step - submission"
   ]
  },
  {
   "cell_type": "code",
   "execution_count": 29,
   "metadata": {
    "collapsed": true
   },
   "outputs": [],
   "source": [
    "# Make predictions for test set.\n",
    "test_pred = grid.predict(test[predictors])"
   ]
  },
  {
   "cell_type": "code",
   "execution_count": 30,
   "metadata": {
    "collapsed": true
   },
   "outputs": [],
   "source": [
    "test_predprob = grid.predict_proba(test[predictors])"
   ]
  },
  {
   "cell_type": "code",
   "execution_count": 31,
   "metadata": {
    "collapsed": false
   },
   "outputs": [
    {
     "data": {
      "text/plain": [
       "array([ 0.    ,  0.0525,  1.    ,  0.105 ,  0.985 ,  0.985 ,  0.126 ,\n",
       "        0.67  ,  0.44  ,  0.22  ])"
      ]
     },
     "execution_count": 31,
     "metadata": {},
     "output_type": "execute_result"
    }
   ],
   "source": [
    "test_predprob[10:20][:,1]"
   ]
  },
  {
   "cell_type": "code",
   "execution_count": 32,
   "metadata": {
    "collapsed": false
   },
   "outputs": [
    {
     "data": {
      "text/plain": [
       "array([0, 0, 0, 1, 0, 0, 0, 0, 1, 0], dtype=int64)"
      ]
     },
     "execution_count": 32,
     "metadata": {},
     "output_type": "execute_result"
    }
   ],
   "source": [
    "test_pred[0:10]"
   ]
  },
  {
   "cell_type": "code",
   "execution_count": 33,
   "metadata": {
    "collapsed": true
   },
   "outputs": [],
   "source": [
    "# Create a new dataframe with only the columns Kaggle wants from the dataset.\n",
    "submission = pd.DataFrame({\n",
    "        \"PassengerId\": test[\"PassengerId\"],\n",
    "        \"Survived\": test_pred\n",
    "    })\n",
    "\n",
    "# Any files you save will be available in the output tab below\n",
    "submission.to_csv('submission.csv', index=False)"
   ]
  },
  {
   "cell_type": "code",
   "execution_count": null,
   "metadata": {
    "collapsed": true
   },
   "outputs": [],
   "source": []
  }
 ],
 "metadata": {
  "kernelspec": {
   "display_name": "Python 3",
   "language": "python",
   "name": "python3"
  },
  "language_info": {
   "codemirror_mode": {
    "name": "ipython",
    "version": 3
   },
   "file_extension": ".py",
   "mimetype": "text/x-python",
   "name": "python",
   "nbconvert_exporter": "python",
   "pygments_lexer": "ipython3",
   "version": "3.4.3"
  }
 },
 "nbformat": 4,
 "nbformat_minor": 0
}

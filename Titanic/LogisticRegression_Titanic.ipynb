{
 "cells": [
  {
   "cell_type": "code",
   "execution_count": 1,
   "metadata": {
    "collapsed": true
   },
   "outputs": [],
   "source": [
    "# Standard Imports\n",
    "from pandas import Series, DataFrame\n",
    "import pandas as pd\n",
    "import numpy as np"
   ]
  },
  {
   "cell_type": "code",
   "execution_count": 2,
   "metadata": {
    "collapsed": false
   },
   "outputs": [
    {
     "name": "stderr",
     "output_type": "stream",
     "text": [
      "C:\\Users\\Erin\\Anaconda3\\lib\\site-packages\\matplotlib\\__init__.py:872: UserWarning: axes.color_cycle is deprecated and replaced with axes.prop_cycle; please use the latter.\n",
      "  warnings.warn(self.msg_depr % (key, alt_key))\n"
     ]
    }
   ],
   "source": [
    "# Plotting\n",
    "import matplotlib.pylab as plt\n",
    "plt.rcParams['font.size'] = 14\n",
    "import seaborn as sns\n",
    "%matplotlib inline"
   ]
  },
  {
   "cell_type": "code",
   "execution_count": 3,
   "metadata": {
    "collapsed": true
   },
   "outputs": [],
   "source": [
    "# Performance\n",
    "from time import time"
   ]
  },
  {
   "cell_type": "code",
   "execution_count": 4,
   "metadata": {
    "collapsed": true
   },
   "outputs": [],
   "source": [
    "# Machine Learning\n",
    "from sklearn.linear_model import LogisticRegression"
   ]
  },
  {
   "cell_type": "code",
   "execution_count": 5,
   "metadata": {
    "collapsed": true
   },
   "outputs": [],
   "source": [
    "# Helper\n",
    "from sklearn import cross_validation\n",
    "from sklearn.cross_validation import train_test_split, cross_val_predict, cross_val_score\n",
    "from sklearn.metrics import accuracy_score, confusion_matrix, recall_score, precision_score\n",
    "from sklearn.metrics import roc_curve, roc_auc_score\n",
    "from sklearn.grid_search import GridSearchCV\n",
    "from sklearn.feature_selection import SelectKBest, chi2"
   ]
  },
  {
   "cell_type": "markdown",
   "metadata": {},
   "source": [
    "# Preliminaries"
   ]
  },
  {
   "cell_type": "code",
   "execution_count": 6,
   "metadata": {
    "collapsed": true
   },
   "outputs": [],
   "source": [
    "# Load the Data\n",
    "train = pd.read_csv('input/train3.csv')\n",
    "test = pd.read_csv('input/test3.csv')"
   ]
  },
  {
   "cell_type": "code",
   "execution_count": 7,
   "metadata": {
    "collapsed": false
   },
   "outputs": [
    {
     "data": {
      "text/html": [
       "<div style=\"max-height:1000px;max-width:1500px;overflow:auto;\">\n",
       "<table border=\"1\" class=\"dataframe\">\n",
       "  <thead>\n",
       "    <tr style=\"text-align: right;\">\n",
       "      <th></th>\n",
       "      <th>PassengerId</th>\n",
       "      <th>Survived</th>\n",
       "      <th>Pclass</th>\n",
       "      <th>SibSp</th>\n",
       "      <th>Parch</th>\n",
       "      <th>Gender</th>\n",
       "      <th>Port</th>\n",
       "      <th>AgeFill</th>\n",
       "      <th>FareFill</th>\n",
       "      <th>femalesHighClass</th>\n",
       "      <th>thirdClassFSingle</th>\n",
       "      <th>boysHighClass</th>\n",
       "      <th>singleMenFirstClass</th>\n",
       "    </tr>\n",
       "  </thead>\n",
       "  <tbody>\n",
       "    <tr>\n",
       "      <th>0</th>\n",
       "      <td> 1</td>\n",
       "      <td> 0</td>\n",
       "      <td> 3</td>\n",
       "      <td> 1</td>\n",
       "      <td> 0</td>\n",
       "      <td> 1</td>\n",
       "      <td> 0</td>\n",
       "      <td> 22</td>\n",
       "      <td>  7.2500</td>\n",
       "      <td> 0</td>\n",
       "      <td> 0</td>\n",
       "      <td> 0</td>\n",
       "      <td> 0</td>\n",
       "    </tr>\n",
       "    <tr>\n",
       "      <th>1</th>\n",
       "      <td> 2</td>\n",
       "      <td> 1</td>\n",
       "      <td> 1</td>\n",
       "      <td> 1</td>\n",
       "      <td> 0</td>\n",
       "      <td> 0</td>\n",
       "      <td> 1</td>\n",
       "      <td> 38</td>\n",
       "      <td> 71.2833</td>\n",
       "      <td> 1</td>\n",
       "      <td> 0</td>\n",
       "      <td> 0</td>\n",
       "      <td> 0</td>\n",
       "    </tr>\n",
       "    <tr>\n",
       "      <th>2</th>\n",
       "      <td> 3</td>\n",
       "      <td> 1</td>\n",
       "      <td> 3</td>\n",
       "      <td> 0</td>\n",
       "      <td> 0</td>\n",
       "      <td> 0</td>\n",
       "      <td> 0</td>\n",
       "      <td> 26</td>\n",
       "      <td>  7.9250</td>\n",
       "      <td> 0</td>\n",
       "      <td> 0</td>\n",
       "      <td> 0</td>\n",
       "      <td> 0</td>\n",
       "    </tr>\n",
       "    <tr>\n",
       "      <th>3</th>\n",
       "      <td> 4</td>\n",
       "      <td> 1</td>\n",
       "      <td> 1</td>\n",
       "      <td> 1</td>\n",
       "      <td> 0</td>\n",
       "      <td> 0</td>\n",
       "      <td> 0</td>\n",
       "      <td> 35</td>\n",
       "      <td> 53.1000</td>\n",
       "      <td> 1</td>\n",
       "      <td> 0</td>\n",
       "      <td> 0</td>\n",
       "      <td> 0</td>\n",
       "    </tr>\n",
       "    <tr>\n",
       "      <th>4</th>\n",
       "      <td> 5</td>\n",
       "      <td> 0</td>\n",
       "      <td> 3</td>\n",
       "      <td> 0</td>\n",
       "      <td> 0</td>\n",
       "      <td> 1</td>\n",
       "      <td> 0</td>\n",
       "      <td> 35</td>\n",
       "      <td>  8.0500</td>\n",
       "      <td> 0</td>\n",
       "      <td> 0</td>\n",
       "      <td> 0</td>\n",
       "      <td> 0</td>\n",
       "    </tr>\n",
       "  </tbody>\n",
       "</table>\n",
       "</div>"
      ],
      "text/plain": [
       "   PassengerId  Survived  Pclass  SibSp  Parch  Gender  Port  AgeFill  \\\n",
       "0            1         0       3      1      0       1     0       22   \n",
       "1            2         1       1      1      0       0     1       38   \n",
       "2            3         1       3      0      0       0     0       26   \n",
       "3            4         1       1      1      0       0     0       35   \n",
       "4            5         0       3      0      0       1     0       35   \n",
       "\n",
       "   FareFill  femalesHighClass  thirdClassFSingle  boysHighClass  \\\n",
       "0    7.2500                 0                  0              0   \n",
       "1   71.2833                 1                  0              0   \n",
       "2    7.9250                 0                  0              0   \n",
       "3   53.1000                 1                  0              0   \n",
       "4    8.0500                 0                  0              0   \n",
       "\n",
       "   singleMenFirstClass  \n",
       "0                    0  \n",
       "1                    0  \n",
       "2                    0  \n",
       "3                    0  \n",
       "4                    0  "
      ]
     },
     "execution_count": 7,
     "metadata": {},
     "output_type": "execute_result"
    }
   ],
   "source": [
    "train.head()"
   ]
  },
  {
   "cell_type": "markdown",
   "metadata": {},
   "source": [
    "# Feature engineering\n",
    "See features generated in visualization and exploration notebook"
   ]
  },
  {
   "cell_type": "code",
   "execution_count": 8,
   "metadata": {
    "collapsed": true
   },
   "outputs": [],
   "source": [
    "# create hold-out set\n",
    "\n",
    "features = list(train.columns.values)[2::]\n",
    "X_train, X_test, y_train, y_test = train_test_split(train[features], train['Survived'])"
   ]
  },
  {
   "cell_type": "markdown",
   "metadata": {},
   "source": [
    "# Data exploration"
   ]
  },
  {
   "cell_type": "code",
   "execution_count": 9,
   "metadata": {
    "collapsed": false
   },
   "outputs": [
    {
     "data": {
      "text/html": [
       "<div style=\"max-height:1000px;max-width:1500px;overflow:auto;\">\n",
       "<table border=\"1\" class=\"dataframe\">\n",
       "  <thead>\n",
       "    <tr style=\"text-align: right;\">\n",
       "      <th></th>\n",
       "      <th>Pclass</th>\n",
       "      <th>SibSp</th>\n",
       "      <th>Parch</th>\n",
       "      <th>Gender</th>\n",
       "      <th>Port</th>\n",
       "      <th>AgeFill</th>\n",
       "      <th>FareFill</th>\n",
       "      <th>femalesHighClass</th>\n",
       "      <th>thirdClassFSingle</th>\n",
       "      <th>boysHighClass</th>\n",
       "      <th>singleMenFirstClass</th>\n",
       "    </tr>\n",
       "    <tr>\n",
       "      <th>Survived</th>\n",
       "      <th></th>\n",
       "      <th></th>\n",
       "      <th></th>\n",
       "      <th></th>\n",
       "      <th></th>\n",
       "      <th></th>\n",
       "      <th></th>\n",
       "      <th></th>\n",
       "      <th></th>\n",
       "      <th></th>\n",
       "      <th></th>\n",
       "    </tr>\n",
       "  </thead>\n",
       "  <tbody>\n",
       "    <tr>\n",
       "      <th>0</th>\n",
       "      <td> 2.519704</td>\n",
       "      <td> 0.480296</td>\n",
       "      <td> 0.325123</td>\n",
       "      <td> 0.847291</td>\n",
       "      <td> 0.310345</td>\n",
       "      <td> 30.131773</td>\n",
       "      <td> 22.582305</td>\n",
       "      <td> 0.014778</td>\n",
       "      <td> 0.019704</td>\n",
       "      <td> 0.004926</td>\n",
       "      <td> 0.009852</td>\n",
       "    </tr>\n",
       "    <tr>\n",
       "      <th>1</th>\n",
       "      <td> 1.938462</td>\n",
       "      <td> 0.457692</td>\n",
       "      <td> 0.461538</td>\n",
       "      <td> 0.338462</td>\n",
       "      <td> 0.430769</td>\n",
       "      <td> 28.595538</td>\n",
       "      <td> 48.809584</td>\n",
       "      <td> 0.465385</td>\n",
       "      <td> 0.076923</td>\n",
       "      <td> 0.038462</td>\n",
       "      <td> 0.030769</td>\n",
       "    </tr>\n",
       "  </tbody>\n",
       "</table>\n",
       "</div>"
      ],
      "text/plain": [
       "            Pclass     SibSp     Parch    Gender      Port    AgeFill  \\\n",
       "Survived                                                                \n",
       "0         2.519704  0.480296  0.325123  0.847291  0.310345  30.131773   \n",
       "1         1.938462  0.457692  0.461538  0.338462  0.430769  28.595538   \n",
       "\n",
       "           FareFill  femalesHighClass  thirdClassFSingle  boysHighClass  \\\n",
       "Survived                                                                  \n",
       "0         22.582305          0.014778           0.019704       0.004926   \n",
       "1         48.809584          0.465385           0.076923       0.038462   \n",
       "\n",
       "          singleMenFirstClass  \n",
       "Survived                       \n",
       "0                    0.009852  \n",
       "1                    0.030769  "
      ]
     },
     "execution_count": 9,
     "metadata": {},
     "output_type": "execute_result"
    }
   ],
   "source": [
    "X_train.groupby(y_train).mean()"
   ]
  },
  {
   "cell_type": "markdown",
   "metadata": {},
   "source": [
    "# Data visualization \n",
    "## for more visualizations see 'Visualization and exploration' notebook"
   ]
  },
  {
   "cell_type": "code",
   "execution_count": 10,
   "metadata": {
    "collapsed": false,
    "scrolled": true
   },
   "outputs": [
    {
     "data": {
      "text/plain": [
       "<matplotlib.text.Text at 0xb05ff28>"
      ]
     },
     "execution_count": 10,
     "metadata": {},
     "output_type": "execute_result"
    },
    {
     "data": {
      "image/png": "[encoded data removed]",
      "text/plain": [
       "<matplotlib.figure.Figure at 0xaff6908>"
      ]
     },
     "metadata": {},
     "output_type": "display_data"
    }
   ],
   "source": [
    "pd.crosstab(X_train.Gender, y_train.astype(bool)).plot(kind='bar')\n",
    "plt.title('Gender distribution by survival')\n",
    "plt.xlabel('Gender; 0 = female')\n",
    "plt.ylabel('Frequency')"
   ]
  },
  {
   "cell_type": "markdown",
   "metadata": {},
   "source": [
    "# Feature selection"
   ]
  },
  {
   "cell_type": "code",
   "execution_count": 11,
   "metadata": {
    "collapsed": false
   },
   "outputs": [
    {
     "data": {
      "text/html": [
       "<div style=\"max-height:1000px;max-width:1500px;overflow:auto;\">\n",
       "<table border=\"1\" class=\"dataframe\">\n",
       "  <thead>\n",
       "    <tr style=\"text-align: right;\">\n",
       "      <th></th>\n",
       "      <th>Pclass</th>\n",
       "      <th>SibSp</th>\n",
       "      <th>Parch</th>\n",
       "      <th>Gender</th>\n",
       "      <th>Port</th>\n",
       "      <th>AgeFill</th>\n",
       "      <th>FareFill</th>\n",
       "      <th>femalesHighClass</th>\n",
       "      <th>thirdClassFSingle</th>\n",
       "      <th>boysHighClass</th>\n",
       "      <th>singleMenFirstClass</th>\n",
       "    </tr>\n",
       "  </thead>\n",
       "  <tbody>\n",
       "    <tr>\n",
       "      <th>Pclass</th>\n",
       "      <td> 1.000000</td>\n",
       "      <td> 0.088159</td>\n",
       "      <td> 0.009162</td>\n",
       "      <td> 0.125488</td>\n",
       "      <td> 0.003815</td>\n",
       "      <td>-0.412713</td>\n",
       "      <td>-0.552484</td>\n",
       "      <td>-0.496818</td>\n",
       "      <td> 0.176379</td>\n",
       "      <td>-0.100971</td>\n",
       "      <td>-0.208479</td>\n",
       "    </tr>\n",
       "    <tr>\n",
       "      <th>SibSp</th>\n",
       "      <td> 0.088159</td>\n",
       "      <td> 1.000000</td>\n",
       "      <td> 0.381135</td>\n",
       "      <td>-0.108374</td>\n",
       "      <td>-0.066382</td>\n",
       "      <td>-0.233145</td>\n",
       "      <td> 0.119001</td>\n",
       "      <td> 0.007838</td>\n",
       "      <td>-0.059264</td>\n",
       "      <td> 0.025537</td>\n",
       "      <td>-0.061682</td>\n",
       "    </tr>\n",
       "    <tr>\n",
       "      <th>Parch</th>\n",
       "      <td> 0.009162</td>\n",
       "      <td> 0.381135</td>\n",
       "      <td> 1.000000</td>\n",
       "      <td>-0.231171</td>\n",
       "      <td>-0.050512</td>\n",
       "      <td>-0.151423</td>\n",
       "      <td> 0.188319</td>\n",
       "      <td> 0.074092</td>\n",
       "      <td>-0.059981</td>\n",
       "      <td> 0.143532</td>\n",
       "      <td>-0.048586</td>\n",
       "    </tr>\n",
       "    <tr>\n",
       "      <th>Gender</th>\n",
       "      <td> 0.125488</td>\n",
       "      <td>-0.108374</td>\n",
       "      <td>-0.231171</td>\n",
       "      <td> 1.000000</td>\n",
       "      <td>-0.114209</td>\n",
       "      <td> 0.087819</td>\n",
       "      <td>-0.150553</td>\n",
       "      <td>-0.659540</td>\n",
       "      <td>-0.284644</td>\n",
       "      <td> 0.099694</td>\n",
       "      <td> 0.099694</td>\n",
       "    </tr>\n",
       "    <tr>\n",
       "      <th>Port</th>\n",
       "      <td> 0.003815</td>\n",
       "      <td>-0.066382</td>\n",
       "      <td>-0.050512</td>\n",
       "      <td>-0.114209</td>\n",
       "      <td> 1.000000</td>\n",
       "      <td>-0.015893</td>\n",
       "      <td> 0.100615</td>\n",
       "      <td> 0.003818</td>\n",
       "      <td> 0.267015</td>\n",
       "      <td>-0.041913</td>\n",
       "      <td> 0.031352</td>\n",
       "    </tr>\n",
       "    <tr>\n",
       "      <th>AgeFill</th>\n",
       "      <td>-0.412713</td>\n",
       "      <td>-0.233145</td>\n",
       "      <td>-0.151423</td>\n",
       "      <td> 0.087819</td>\n",
       "      <td>-0.015893</td>\n",
       "      <td> 1.000000</td>\n",
       "      <td> 0.132681</td>\n",
       "      <td> 0.102072</td>\n",
       "      <td>-0.156196</td>\n",
       "      <td>-0.239132</td>\n",
       "      <td> 0.019317</td>\n",
       "    </tr>\n",
       "    <tr>\n",
       "      <th>FareFill</th>\n",
       "      <td>-0.552484</td>\n",
       "      <td> 0.119001</td>\n",
       "      <td> 0.188319</td>\n",
       "      <td>-0.150553</td>\n",
       "      <td> 0.100615</td>\n",
       "      <td> 0.132681</td>\n",
       "      <td> 1.000000</td>\n",
       "      <td> 0.321560</td>\n",
       "      <td>-0.102025</td>\n",
       "      <td> 0.056980</td>\n",
       "      <td>-0.003656</td>\n",
       "    </tr>\n",
       "    <tr>\n",
       "      <th>femalesHighClass</th>\n",
       "      <td>-0.496818</td>\n",
       "      <td> 0.007838</td>\n",
       "      <td> 0.074092</td>\n",
       "      <td>-0.659540</td>\n",
       "      <td> 0.003818</td>\n",
       "      <td> 0.102072</td>\n",
       "      <td> 0.321560</td>\n",
       "      <td> 1.000000</td>\n",
       "      <td>-0.101690</td>\n",
       "      <td>-0.065752</td>\n",
       "      <td>-0.065752</td>\n",
       "    </tr>\n",
       "    <tr>\n",
       "      <th>thirdClassFSingle</th>\n",
       "      <td> 0.176379</td>\n",
       "      <td>-0.059264</td>\n",
       "      <td>-0.059981</td>\n",
       "      <td>-0.284644</td>\n",
       "      <td> 0.267015</td>\n",
       "      <td>-0.156196</td>\n",
       "      <td>-0.102025</td>\n",
       "      <td>-0.101690</td>\n",
       "      <td> 1.000000</td>\n",
       "      <td>-0.028377</td>\n",
       "      <td>-0.028377</td>\n",
       "    </tr>\n",
       "    <tr>\n",
       "      <th>boysHighClass</th>\n",
       "      <td>-0.100971</td>\n",
       "      <td> 0.025537</td>\n",
       "      <td> 0.143532</td>\n",
       "      <td> 0.099694</td>\n",
       "      <td>-0.041913</td>\n",
       "      <td>-0.239132</td>\n",
       "      <td> 0.056980</td>\n",
       "      <td>-0.065752</td>\n",
       "      <td>-0.028377</td>\n",
       "      <td> 1.000000</td>\n",
       "      <td>-0.018349</td>\n",
       "    </tr>\n",
       "    <tr>\n",
       "      <th>singleMenFirstClass</th>\n",
       "      <td>-0.208479</td>\n",
       "      <td>-0.061682</td>\n",
       "      <td>-0.048586</td>\n",
       "      <td> 0.099694</td>\n",
       "      <td> 0.031352</td>\n",
       "      <td> 0.019317</td>\n",
       "      <td>-0.003656</td>\n",
       "      <td>-0.065752</td>\n",
       "      <td>-0.028377</td>\n",
       "      <td>-0.018349</td>\n",
       "      <td> 1.000000</td>\n",
       "    </tr>\n",
       "  </tbody>\n",
       "</table>\n",
       "</div>"
      ],
      "text/plain": [
       "                       Pclass     SibSp     Parch    Gender      Port  \\\n",
       "Pclass               1.000000  0.088159  0.009162  0.125488  0.003815   \n",
       "SibSp                0.088159  1.000000  0.381135 -0.108374 -0.066382   \n",
       "Parch                0.009162  0.381135  1.000000 -0.231171 -0.050512   \n",
       "Gender               0.125488 -0.108374 -0.231171  1.000000 -0.114209   \n",
       "Port                 0.003815 -0.066382 -0.050512 -0.114209  1.000000   \n",
       "AgeFill             -0.412713 -0.233145 -0.151423  0.087819 -0.015893   \n",
       "FareFill            -0.552484  0.119001  0.188319 -0.150553  0.100615   \n",
       "femalesHighClass    -0.496818  0.007838  0.074092 -0.659540  0.003818   \n",
       "thirdClassFSingle    0.176379 -0.059264 -0.059981 -0.284644  0.267015   \n",
       "boysHighClass       -0.100971  0.025537  0.143532  0.099694 -0.041913   \n",
       "singleMenFirstClass -0.208479 -0.061682 -0.048586  0.099694  0.031352   \n",
       "\n",
       "                      AgeFill  FareFill  femalesHighClass  thirdClassFSingle  \\\n",
       "Pclass              -0.412713 -0.552484         -0.496818           0.176379   \n",
       "SibSp               -0.233145  0.119001          0.007838          -0.059264   \n",
       "Parch               -0.151423  0.188319          0.074092          -0.059981   \n",
       "Gender               0.087819 -0.150553         -0.659540          -0.284644   \n",
       "Port                -0.015893  0.100615          0.003818           0.267015   \n",
       "AgeFill              1.000000  0.132681          0.102072          -0.156196   \n",
       "FareFill             0.132681  1.000000          0.321560          -0.102025   \n",
       "femalesHighClass     0.102072  0.321560          1.000000          -0.101690   \n",
       "thirdClassFSingle   -0.156196 -0.102025         -0.101690           1.000000   \n",
       "boysHighClass       -0.239132  0.056980         -0.065752          -0.028377   \n",
       "singleMenFirstClass  0.019317 -0.003656         -0.065752          -0.028377   \n",
       "\n",
       "                     boysHighClass  singleMenFirstClass  \n",
       "Pclass                   -0.100971            -0.208479  \n",
       "SibSp                     0.025537            -0.061682  \n",
       "Parch                     0.143532            -0.048586  \n",
       "Gender                    0.099694             0.099694  \n",
       "Port                     -0.041913             0.031352  \n",
       "AgeFill                  -0.239132             0.019317  \n",
       "FareFill                  0.056980            -0.003656  \n",
       "femalesHighClass         -0.065752            -0.065752  \n",
       "thirdClassFSingle        -0.028377            -0.028377  \n",
       "boysHighClass             1.000000            -0.018349  \n",
       "singleMenFirstClass      -0.018349             1.000000  "
      ]
     },
     "execution_count": 11,
     "metadata": {},
     "output_type": "execute_result"
    }
   ],
   "source": [
    "X_train.corr()"
   ]
  },
  {
   "cell_type": "code",
   "execution_count": 13,
   "metadata": {
    "collapsed": false,
    "scrolled": true
   },
   "outputs": [],
   "source": [
    "ch2 = SelectKBest(chi2, k = 7)\n",
    "X_train2 = ch2.fit_transform(X_train, y_train)\n",
    "# ch2.get_feature_names()\n",
    "# X_train2[0:10]\n"
   ]
  },
  {
   "cell_type": "code",
   "execution_count": 14,
   "metadata": {
    "collapsed": false
   },
   "outputs": [
    {
     "name": "stdout",
     "output_type": "stream",
     "text": [
      "['Pclass', 'Gender', 'AgeFill', 'FareFill', 'femalesHighClass', 'thirdClassFSingle', 'boysHighClass']\n"
     ]
    }
   ],
   "source": [
    "predictors = list(X_train.columns.values[ch2.get_support()])\n",
    "print(predictors)"
   ]
  },
  {
   "cell_type": "markdown",
   "metadata": {},
   "source": [
    "# Find logistic regression hyperparameters"
   ]
  },
  {
   "cell_type": "code",
   "execution_count": 15,
   "metadata": {
    "collapsed": true
   },
   "outputs": [],
   "source": [
    "def searchHyperparameters(X, y, param_grid, alg, cval = 10, score = 'accuracy'):\n",
    "    \n",
    "    # instantiate the grid\n",
    "    grid = GridSearchCV(alg, param_grid, cv = cval, scoring = score)\n",
    "    \n",
    "    # fit the grid with data\n",
    "    grid.fit(X, y)\n",
    "    \n",
    "    # view the complete results\n",
    "    print(\"Best score:\", grid.best_score_)\n",
    "    print(\"Best parameters:\", grid.best_params_)\n",
    "    print(\"Best model:\", grid.best_estimator_)\n",
    "    \n",
    "    # note if SD high, cross-val estimates may not be reliable\n",
    "    results = grid.grid_scores_\n",
    "    return results, grid"
   ]
  },
  {
   "cell_type": "code",
   "execution_count": 16,
   "metadata": {
    "collapsed": true
   },
   "outputs": [],
   "source": [
    "# Initialize our algorithm\n",
    "alg = LogisticRegression()"
   ]
  },
  {
   "cell_type": "code",
   "execution_count": 17,
   "metadata": {
    "collapsed": false
   },
   "outputs": [
    {
     "name": "stdout",
     "output_type": "stream",
     "text": [
      "{'penalty': ['l1', 'l2'], 'C': [0.001, 0.01, 0.1, 1, 10, 100, 1000]}\n"
     ]
    }
   ],
   "source": [
    "# define parameter values to be searched\n",
    "c_range = [0.001, 0.01, 0.1, 1, 10, 100, 1000]\n",
    "p_range = ['l1', 'l2']\n",
    "param_grid = dict(C = c_range, penalty = p_range)\n",
    "print(param_grid)"
   ]
  },
  {
   "cell_type": "code",
   "execution_count": 18,
   "metadata": {
    "collapsed": false
   },
   "outputs": [
    {
     "name": "stdout",
     "output_type": "stream",
     "text": [
      "Best score: 0.839821411468\n",
      "Best parameters: {'C': 1, 'penalty': 'l1'}\n",
      "Best model: LogisticRegression(C=1, class_weight=None, dual=False, fit_intercept=True,\n",
      "          intercept_scaling=1, max_iter=100, multi_class='ovr', n_jobs=1,\n",
      "          penalty='l1', random_state=None, solver='liblinear', tol=0.0001,\n",
      "          verbose=0, warm_start=False)\n",
      "\n",
      "Time elapsed (s) is: 0.6174521446228027\n"
     ]
    }
   ],
   "source": [
    "start = time()\n",
    "res, grid = searchHyperparameters(X_train[predictors], y_train, param_grid, alg, 10, 'roc_auc')\n",
    "print(\"\\nTime elapsed (s) is:\", time() - start)"
   ]
  },
  {
   "cell_type": "code",
   "execution_count": 19,
   "metadata": {
    "collapsed": false
   },
   "outputs": [
    {
     "name": "stdout",
     "output_type": "stream",
     "text": [
      "mean: 0.65084, std: 0.08556, params: {'C': 0.001, 'penalty': 'l1'}\n",
      "mean: 0.72360, std: 0.08844, params: {'C': 0.001, 'penalty': 'l2'}\n",
      "mean: 0.66666, std: 0.08430, params: {'C': 0.01, 'penalty': 'l1'}\n",
      "mean: 0.81348, std: 0.07461, params: {'C': 0.01, 'penalty': 'l2'}\n",
      "mean: 0.82564, std: 0.05926, params: {'C': 0.1, 'penalty': 'l1'}\n",
      "mean: 0.83483, std: 0.05433, params: {'C': 0.1, 'penalty': 'l2'}\n",
      "mean: 0.83982, std: 0.05839, params: {'C': 1, 'penalty': 'l1'}\n",
      "mean: 0.83954, std: 0.05794, params: {'C': 1, 'penalty': 'l2'}\n",
      "mean: 0.83811, std: 0.06063, params: {'C': 10, 'penalty': 'l1'}\n",
      "mean: 0.83878, std: 0.06026, params: {'C': 10, 'penalty': 'l2'}\n",
      "mean: 0.83849, std: 0.06065, params: {'C': 100, 'penalty': 'l1'}\n",
      "mean: 0.83849, std: 0.06065, params: {'C': 100, 'penalty': 'l2'}\n",
      "mean: 0.83839, std: 0.06068, params: {'C': 1000, 'penalty': 'l1'}\n",
      "mean: 0.83839, std: 0.06084, params: {'C': 1000, 'penalty': 'l2'}\n"
     ]
    },
    {
     "data": {
      "text/plain": [
       "[None,\n",
       " None,\n",
       " None,\n",
       " None,\n",
       " None,\n",
       " None,\n",
       " None,\n",
       " None,\n",
       " None,\n",
       " None,\n",
       " None,\n",
       " None,\n",
       " None,\n",
       " None]"
      ]
     },
     "execution_count": 19,
     "metadata": {},
     "output_type": "execute_result"
    }
   ],
   "source": [
    "[print(val) for val in res]"
   ]
  },
  {
   "cell_type": "code",
   "execution_count": 20,
   "metadata": {
    "collapsed": false
   },
   "outputs": [],
   "source": [
    "# Predict class for hold-out set.\n",
    "holdout_pred = grid.predict(X_test[predictors])"
   ]
  },
  {
   "cell_type": "markdown",
   "metadata": {},
   "source": [
    "# Model evaluation"
   ]
  },
  {
   "cell_type": "code",
   "execution_count": 21,
   "metadata": {
    "collapsed": true
   },
   "outputs": [],
   "source": [
    "def evaluation_metrics(ytest, ypred):\n",
    "    \n",
    "    # null accuracy\n",
    "    null_accuracy = round(ytest.value_counts().max()/len(ytest), 3)\n",
    "    print(\"Null accuracy:\", null_accuracy)\n",
    "\n",
    "    accuracy = round(accuracy_score(ytest, ypred), 3)\n",
    "    print(\"Accuracy:\", accuracy)\n",
    "    \n",
    "    confusion = confusion_matrix(ytest, ypred)\n",
    "    print(\"Confusion matrix: actual(0,1) x predicted(0,1)\\n\", confusion)\n",
    "    \n",
    "    sensitivity = round(recall_score(ytest, ypred), 3)\n",
    "    print(\"Sensitivity: when actual is positive, how often predicted positive\", sensitivity)\n",
    "    \n",
    "    specificity = round(confusion[0,0]/(confusion[0,0] + confusion[0,1]), 3)\n",
    "    print(\"Specificity: when actual is zero, how often predicted zero\", specificity)\n",
    "\n",
    "    precision = round(precision_score(ytest, ypred), 3)\n",
    "    print(\"Precision: when predicted is positive, how often actual positive\", precision)\n",
    "    \n",
    "    return accuracy, confusion, sensitivity, specificity, precision"
   ]
  },
  {
   "cell_type": "code",
   "execution_count": 22,
   "metadata": {
    "collapsed": false
   },
   "outputs": [],
   "source": [
    "def evaluate_prob(ytest, pred_prob):\n",
    "    \n",
    "    # histogram of probabilities\n",
    "    plt.subplot(1, 2, 1)\n",
    "    plt.hist(pred_prob, bins = 8)\n",
    "    plt.xlim(0, 1)\n",
    "    plt.title('Histogram of pred probabilities')\n",
    "    plt.xlabel('Predicted probability of positive')\n",
    "    plt.ylabel('Frequency')\n",
    "    \n",
    "    # ROC curve\n",
    "    fpr, tpr, thresholds = roc_curve(ytest, pred_prob)\n",
    "    plt.subplot(1, 2, 2)\n",
    "    plt.plot(fpr, tpr)\n",
    "    plt.xlim([0.0, 1.0])\n",
    "    plt.ylim([0.0, 1.0])\n",
    "    plt.title(\"ROC curve\")\n",
    "    plt.xlabel(\"False positive rate (1 - specificity)\")\n",
    "    plt.ylabel(\"True positive rate (sensitivity)\")\n",
    "    plt.grid(True)\n",
    "    \n",
    "    plt.tight_layout() # adds more space between plots\n",
    "    \n",
    "    auc = round(roc_auc_score(y_test, predict_prob), 3)\n",
    "    print(\"AUC score is:\", auc)\n",
    "    \n",
    "    return fpr, tpr, thresholds, auc"
   ]
  },
  {
   "cell_type": "code",
   "execution_count": 23,
   "metadata": {
    "collapsed": true
   },
   "outputs": [],
   "source": [
    "# Use ROC curve to determine sensitivity & specificity for a given threshold\n",
    "def evaluate_threshold(threshold):\n",
    "    print(\"Sensitivity:\", tpr[thresholds > threshold][-1])\n",
    "    print(\"Specificity:\", 1-fpr[thresholds > threshold][-1])"
   ]
  },
  {
   "cell_type": "code",
   "execution_count": 24,
   "metadata": {
    "collapsed": false
   },
   "outputs": [
    {
     "name": "stdout",
     "output_type": "stream",
     "text": [
      "Null accuracy: 0.641\n",
      "Accuracy: 0.87\n",
      "Confusion matrix: actual(0,1) x predicted(0,1)\n",
      " [[137   6]\n",
      " [ 23  57]]\n",
      "Sensitivity: when actual is positive, how often predicted positive 0.712\n",
      "Specificity: when actual is zero, how often predicted zero 0.958\n",
      "Precision: when predicted is positive, how often actual positive 0.905\n"
     ]
    }
   ],
   "source": [
    "# Retrieve evaluation metrics\n",
    "acc, conf, sens, spec, prec = evaluation_metrics(y_test, holdout_pred)"
   ]
  },
  {
   "cell_type": "code",
   "execution_count": 25,
   "metadata": {
    "collapsed": false
   },
   "outputs": [],
   "source": [
    "# Predict probabilities for hold-out set\n",
    "predict_prob = grid.predict_proba(X_test[predictors])[:,1]"
   ]
  },
  {
   "cell_type": "code",
   "execution_count": 26,
   "metadata": {
    "collapsed": false
   },
   "outputs": [
    {
     "name": "stdout",
     "output_type": "stream",
     "text": [
      "AUC score is: 0.894\n"
     ]
    },
    {
     "data": {
      "image/png": "[encoded data removed]",
      "text/plain": [
       "<matplotlib.figure.Figure at 0xaff6da0>"
      ]
     },
     "metadata": {},
     "output_type": "display_data"
    }
   ],
   "source": [
    "# Retrieve probability metrics\n",
    "fpr, tpr, thresholds, auc = evaluate_prob(y_test, predict_prob)"
   ]
  },
  {
   "cell_type": "code",
   "execution_count": 26,
   "metadata": {
    "collapsed": false,
    "scrolled": true
   },
   "outputs": [
    {
     "name": "stdout",
     "output_type": "stream",
     "text": [
      "Sensitivity: 0.489361702128\n",
      "Specificity: 0.961240310078\n"
     ]
    }
   ],
   "source": [
    "# Determine class metrics for new threshold\n",
    "# Note uses thresholds from histogram of probabilities, and so 0.5 does not exist\n",
    "# Therefore, sensitivity is for thresholds > 0.5 (in this case 0.654)\n",
    "evaluate_threshold(0.5)"
   ]
  },
  {
   "cell_type": "code",
   "execution_count": 27,
   "metadata": {
    "collapsed": false
   },
   "outputs": [
    {
     "name": "stdout",
     "output_type": "stream",
     "text": [
      "Sensitivity: 0.606382978723\n",
      "Specificity: 0.84496124031\n"
     ]
    }
   ],
   "source": [
    "# Determine class metrics for new threshold\n",
    "evaluate_threshold(0.35)"
   ]
  },
  {
   "cell_type": "code",
   "execution_count": 28,
   "metadata": {
    "collapsed": false
   },
   "outputs": [
    {
     "name": "stderr",
     "output_type": "stream",
     "text": [
      "C:\\Users\\Erin\\Anaconda3\\lib\\site-packages\\sklearn\\utils\\validation.py:386: DeprecationWarning: Passing 1d arrays as data is deprecated in 0.17 and willraise ValueError in 0.19. Reshape your data either using X.reshape(-1, 1) if your data has a single feature or X.reshape(1, -1) if it contains a single sample.\n",
      "  DeprecationWarning)\n"
     ]
    }
   ],
   "source": [
    "# Change threshold for classification \n",
    "# One of the last steps in the model building process\n",
    "from sklearn.preprocessing import binarize\n",
    "y_pred_thresh = binarize(predict_prob, 0.35)[0]"
   ]
  },
  {
   "cell_type": "code",
   "execution_count": 29,
   "metadata": {
    "collapsed": false
   },
   "outputs": [
    {
     "name": "stdout",
     "output_type": "stream",
     "text": [
      "Null accuracy: 0.578\n",
      "Accuracy: 0.744\n",
      "Confusion matrix: actual(0,1) x predicted(0,1)\n",
      " [[109  20]\n",
      " [ 37  57]]\n",
      "Sensitivity: when actual is positive, how often predicted positive 0.606\n",
      "Specificity: when actual is zero, how often predicted zero 0.845\n",
      "Precision: when predicted is positive, how often actual positive 0.74\n"
     ]
    }
   ],
   "source": [
    "acc, conf, sens, spec, prec = evaluation_metrics(y_test, y_pred_thresh)"
   ]
  },
  {
   "cell_type": "code",
   "execution_count": 34,
   "metadata": {
    "collapsed": false
   },
   "outputs": [
    {
     "data": {
      "text/plain": [
       "array([ 0.,  0.,  0.,  1.,  1.,  0.,  1.,  1.,  1.,  1.])"
      ]
     },
     "execution_count": 34,
     "metadata": {},
     "output_type": "execute_result"
    }
   ],
   "source": [
    "y_pred_thresh[0:10]"
   ]
  },
  {
   "cell_type": "markdown",
   "metadata": {},
   "source": [
    "# Final step - submission"
   ]
  },
  {
   "cell_type": "code",
   "execution_count": 33,
   "metadata": {
    "collapsed": false
   },
   "outputs": [],
   "source": [
    "# Make predictions for test set.\n",
    "test_pred = grid.predict(test[predictors])"
   ]
  },
  {
   "cell_type": "code",
   "execution_count": 34,
   "metadata": {
    "collapsed": true
   },
   "outputs": [],
   "source": [
    "test_predprob = grid.predict_proba(test[predictors])"
   ]
  },
  {
   "cell_type": "code",
   "execution_count": 35,
   "metadata": {
    "collapsed": false
   },
   "outputs": [
    {
     "data": {
      "text/plain": [
       "array([ 0.13407911,  0.28240248,  0.95278349,  0.12937447,  0.92811494,\n",
       "        0.9089602 ,  0.19768806,  0.14053353,  0.38375299,  0.3094858 ])"
      ]
     },
     "execution_count": 35,
     "metadata": {},
     "output_type": "execute_result"
    }
   ],
   "source": [
    "test_predprob[10:20][:,1]"
   ]
  },
  {
   "cell_type": "code",
   "execution_count": 36,
   "metadata": {
    "collapsed": false
   },
   "outputs": [
    {
     "data": {
      "text/plain": [
       "array([0, 0, 0, 0, 0, 0, 0, 0, 1, 0], dtype=int64)"
      ]
     },
     "execution_count": 36,
     "metadata": {},
     "output_type": "execute_result"
    }
   ],
   "source": [
    "test_pred[0:10]"
   ]
  },
  {
   "cell_type": "code",
   "execution_count": 37,
   "metadata": {
    "collapsed": true
   },
   "outputs": [],
   "source": [
    "# Create a new dataframe with only the columns Kaggle wants from the dataset.\n",
    "submission = pd.DataFrame({\n",
    "        \"PassengerId\": test[\"PassengerId\"],\n",
    "        \"Survived\": test_pred\n",
    "    })\n",
    "\n",
    "# Any files you save will be available in the output tab below\n",
    "submission.to_csv('submission.csv', index=False)"
   ]
  },
  {
   "cell_type": "code",
   "execution_count": null,
   "metadata": {
    "collapsed": true
   },
   "outputs": [],
   "source": []
  }
 ],
 "metadata": {
  "kernelspec": {
   "display_name": "Python 3",
   "language": "python",
   "name": "python3"
  },
  "language_info": {
   "codemirror_mode": {
    "name": "ipython",
    "version": 3
   },
   "file_extension": ".py",
   "mimetype": "text/x-python",
   "name": "python",
   "nbconvert_exporter": "python",
   "pygments_lexer": "ipython3",
   "version": "3.4.3"
  }
 },
 "nbformat": 4,
 "nbformat_minor": 0
}

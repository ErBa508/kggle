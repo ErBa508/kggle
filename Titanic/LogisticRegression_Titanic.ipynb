{
 "cells": [
  {
   "cell_type": "code",
   "execution_count": 1,
   "metadata": {
    "collapsed": true
   },
   "outputs": [],
   "source": [
    "# Standard Imports\n",
    "from pandas import Series, DataFrame\n",
    "import pandas as pd\n",
    "import numpy as np\n",
    "import matplotlib.pylab as plt\n",
    "import seaborn as sns\n",
    "%matplotlib inline"
   ]
  },
  {
   "cell_type": "code",
   "execution_count": 2,
   "metadata": {
    "collapsed": true
   },
   "outputs": [],
   "source": [
    "# Performance\n",
    "from time import time"
   ]
  },
  {
   "cell_type": "code",
   "execution_count": 3,
   "metadata": {
    "collapsed": true
   },
   "outputs": [],
   "source": [
    "# Machine Learning\n",
    "from sklearn.linear_model import LogisticRegression"
   ]
  },
  {
   "cell_type": "code",
   "execution_count": 4,
   "metadata": {
    "collapsed": true
   },
   "outputs": [],
   "source": [
    "# Helper\n",
    "from sklearn import cross_validation\n",
    "from sklearn.cross_validation import train_test_split, cross_val_predict, cross_val_score\n",
    "from sklearn.metrics import accuracy_score, confusion_matrix, recall_score, precision_score\n",
    "from sklearn.metrics import roc_curve, roc_auc_score\n",
    "from sklearn.grid_search import GridSearchCV"
   ]
  },
  {
   "cell_type": "markdown",
   "metadata": {},
   "source": [
    "# Preliminaries"
   ]
  },
  {
   "cell_type": "code",
   "execution_count": 5,
   "metadata": {
    "collapsed": true
   },
   "outputs": [],
   "source": [
    "# Load the Data\n",
    "train = pd.read_csv('input/train2.csv')\n",
    "test = pd.read_csv('input/test2.csv')"
   ]
  },
  {
   "cell_type": "code",
   "execution_count": 6,
   "metadata": {
    "collapsed": false
   },
   "outputs": [
    {
     "data": {
      "text/html": [
       "<div style=\"max-height:1000px;max-width:1500px;overflow:auto;\">\n",
       "<table border=\"1\" class=\"dataframe\">\n",
       "  <thead>\n",
       "    <tr style=\"text-align: right;\">\n",
       "      <th></th>\n",
       "      <th>PassengerId</th>\n",
       "      <th>Survived</th>\n",
       "      <th>Pclass</th>\n",
       "      <th>SibSp</th>\n",
       "      <th>Parch</th>\n",
       "      <th>Gender</th>\n",
       "      <th>Port</th>\n",
       "      <th>AgeFill</th>\n",
       "      <th>FareFill</th>\n",
       "    </tr>\n",
       "  </thead>\n",
       "  <tbody>\n",
       "    <tr>\n",
       "      <th>0</th>\n",
       "      <td> 1</td>\n",
       "      <td> 0</td>\n",
       "      <td> 3</td>\n",
       "      <td> 1</td>\n",
       "      <td> 0</td>\n",
       "      <td> 1</td>\n",
       "      <td> 0</td>\n",
       "      <td> 22</td>\n",
       "      <td>  7.2500</td>\n",
       "    </tr>\n",
       "    <tr>\n",
       "      <th>1</th>\n",
       "      <td> 2</td>\n",
       "      <td> 1</td>\n",
       "      <td> 1</td>\n",
       "      <td> 1</td>\n",
       "      <td> 0</td>\n",
       "      <td> 0</td>\n",
       "      <td> 1</td>\n",
       "      <td> 38</td>\n",
       "      <td> 71.2833</td>\n",
       "    </tr>\n",
       "    <tr>\n",
       "      <th>2</th>\n",
       "      <td> 3</td>\n",
       "      <td> 1</td>\n",
       "      <td> 3</td>\n",
       "      <td> 0</td>\n",
       "      <td> 0</td>\n",
       "      <td> 0</td>\n",
       "      <td> 0</td>\n",
       "      <td> 26</td>\n",
       "      <td>  7.9250</td>\n",
       "    </tr>\n",
       "    <tr>\n",
       "      <th>3</th>\n",
       "      <td> 4</td>\n",
       "      <td> 1</td>\n",
       "      <td> 1</td>\n",
       "      <td> 1</td>\n",
       "      <td> 0</td>\n",
       "      <td> 0</td>\n",
       "      <td> 0</td>\n",
       "      <td> 35</td>\n",
       "      <td> 53.1000</td>\n",
       "    </tr>\n",
       "    <tr>\n",
       "      <th>4</th>\n",
       "      <td> 5</td>\n",
       "      <td> 0</td>\n",
       "      <td> 3</td>\n",
       "      <td> 0</td>\n",
       "      <td> 0</td>\n",
       "      <td> 1</td>\n",
       "      <td> 0</td>\n",
       "      <td> 35</td>\n",
       "      <td>  8.0500</td>\n",
       "    </tr>\n",
       "  </tbody>\n",
       "</table>\n",
       "</div>"
      ],
      "text/plain": [
       "   PassengerId  Survived  Pclass  SibSp  Parch  Gender  Port  AgeFill  \\\n",
       "0            1         0       3      1      0       1     0       22   \n",
       "1            2         1       1      1      0       0     1       38   \n",
       "2            3         1       3      0      0       0     0       26   \n",
       "3            4         1       1      1      0       0     0       35   \n",
       "4            5         0       3      0      0       1     0       35   \n",
       "\n",
       "   FareFill  \n",
       "0    7.2500  \n",
       "1   71.2833  \n",
       "2    7.9250  \n",
       "3   53.1000  \n",
       "4    8.0500  "
      ]
     },
     "execution_count": 6,
     "metadata": {},
     "output_type": "execute_result"
    }
   ],
   "source": [
    "train.head()"
   ]
  },
  {
   "cell_type": "markdown",
   "metadata": {},
   "source": [
    "# Feature engineering\n",
    "Insights pulled from visualization and exploration notebook"
   ]
  },
  {
   "cell_type": "code",
   "execution_count": 7,
   "metadata": {
    "collapsed": true
   },
   "outputs": [],
   "source": [
    "def createNewCol(boolx):\n",
    "    featx = []\n",
    "    for i in range(len(boolx)):\n",
    "        if boolx[i]:\n",
    "            featx.append(1) \n",
    "        else:\n",
    "            featx.append(0) \n",
    "\n",
    "    return featx"
   ]
  },
  {
   "cell_type": "code",
   "execution_count": 8,
   "metadata": {
    "collapsed": false
   },
   "outputs": [
    {
     "name": "stdout",
     "output_type": "stream",
     "text": [
      "35\n"
     ]
    }
   ],
   "source": [
    "# (1) children younger than 18 in the first or second class predominantly survive\n",
    "bool1 = (train['AgeFill'] < 18) & (train['Pclass'] < 3)\n",
    "bool1t = (test['AgeFill'] < 18) & (test['Pclass'] < 3)\n",
    "print(sum(bool1))\n",
    "\n",
    "train[\"kidHighClass\"] = createNewCol(bool1)\n",
    "test[\"kidHighClass\"] = createNewCol(bool1t)"
   ]
  },
  {
   "cell_type": "code",
   "execution_count": 9,
   "metadata": {
    "collapsed": false
   },
   "outputs": [
    {
     "name": "stdout",
     "output_type": "stream",
     "text": [
      "26\n"
     ]
    }
   ],
   "source": [
    "# (2) mother's with one child in first or second class predominantly survive\n",
    "bool2 = (train['AgeFill'] > 18) & (train['Parch'] == 1) & (train['Pclass'] < 3) & (train['Gender'] == 0)\n",
    "bool2t = (test['AgeFill'] > 18) & (test['Parch'] == 1) & (test['Pclass'] < 3) & (test['Gender'] == 0)\n",
    "print(sum(bool2))\n",
    "\n",
    "train[\"momHighClass\"] = createNewCol(bool2)\n",
    "test[\"momHighClass\"] = createNewCol(bool2t)"
   ]
  },
  {
   "cell_type": "code",
   "execution_count": 10,
   "metadata": {
    "collapsed": false,
    "scrolled": true
   },
   "outputs": [
    {
     "data": {
      "text/html": [
       "<div style=\"max-height:1000px;max-width:1500px;overflow:auto;\">\n",
       "<table border=\"1\" class=\"dataframe\">\n",
       "  <thead>\n",
       "    <tr style=\"text-align: right;\">\n",
       "      <th></th>\n",
       "      <th>PassengerId</th>\n",
       "      <th>Survived</th>\n",
       "      <th>Pclass</th>\n",
       "      <th>SibSp</th>\n",
       "      <th>Parch</th>\n",
       "      <th>Gender</th>\n",
       "      <th>Port</th>\n",
       "      <th>AgeFill</th>\n",
       "      <th>FareFill</th>\n",
       "      <th>kidHighClass</th>\n",
       "      <th>momHighClass</th>\n",
       "    </tr>\n",
       "  </thead>\n",
       "  <tbody>\n",
       "    <tr>\n",
       "      <th>0 </th>\n",
       "      <td>  1</td>\n",
       "      <td> 0</td>\n",
       "      <td> 3</td>\n",
       "      <td> 1</td>\n",
       "      <td> 0</td>\n",
       "      <td> 1</td>\n",
       "      <td> 0</td>\n",
       "      <td> 22.0</td>\n",
       "      <td>  7.2500</td>\n",
       "      <td> 0</td>\n",
       "      <td> 0</td>\n",
       "    </tr>\n",
       "    <tr>\n",
       "      <th>1 </th>\n",
       "      <td>  2</td>\n",
       "      <td> 1</td>\n",
       "      <td> 1</td>\n",
       "      <td> 1</td>\n",
       "      <td> 0</td>\n",
       "      <td> 0</td>\n",
       "      <td> 1</td>\n",
       "      <td> 38.0</td>\n",
       "      <td> 71.2833</td>\n",
       "      <td> 0</td>\n",
       "      <td> 0</td>\n",
       "    </tr>\n",
       "    <tr>\n",
       "      <th>2 </th>\n",
       "      <td>  3</td>\n",
       "      <td> 1</td>\n",
       "      <td> 3</td>\n",
       "      <td> 0</td>\n",
       "      <td> 0</td>\n",
       "      <td> 0</td>\n",
       "      <td> 0</td>\n",
       "      <td> 26.0</td>\n",
       "      <td>  7.9250</td>\n",
       "      <td> 0</td>\n",
       "      <td> 0</td>\n",
       "    </tr>\n",
       "    <tr>\n",
       "      <th>3 </th>\n",
       "      <td>  4</td>\n",
       "      <td> 1</td>\n",
       "      <td> 1</td>\n",
       "      <td> 1</td>\n",
       "      <td> 0</td>\n",
       "      <td> 0</td>\n",
       "      <td> 0</td>\n",
       "      <td> 35.0</td>\n",
       "      <td> 53.1000</td>\n",
       "      <td> 0</td>\n",
       "      <td> 0</td>\n",
       "    </tr>\n",
       "    <tr>\n",
       "      <th>4 </th>\n",
       "      <td>  5</td>\n",
       "      <td> 0</td>\n",
       "      <td> 3</td>\n",
       "      <td> 0</td>\n",
       "      <td> 0</td>\n",
       "      <td> 1</td>\n",
       "      <td> 0</td>\n",
       "      <td> 35.0</td>\n",
       "      <td>  8.0500</td>\n",
       "      <td> 0</td>\n",
       "      <td> 0</td>\n",
       "    </tr>\n",
       "    <tr>\n",
       "      <th>5 </th>\n",
       "      <td>  6</td>\n",
       "      <td> 0</td>\n",
       "      <td> 3</td>\n",
       "      <td> 0</td>\n",
       "      <td> 0</td>\n",
       "      <td> 1</td>\n",
       "      <td> 2</td>\n",
       "      <td> 25.0</td>\n",
       "      <td>  8.4583</td>\n",
       "      <td> 0</td>\n",
       "      <td> 0</td>\n",
       "    </tr>\n",
       "    <tr>\n",
       "      <th>6 </th>\n",
       "      <td>  7</td>\n",
       "      <td> 0</td>\n",
       "      <td> 1</td>\n",
       "      <td> 0</td>\n",
       "      <td> 0</td>\n",
       "      <td> 1</td>\n",
       "      <td> 0</td>\n",
       "      <td> 54.0</td>\n",
       "      <td> 51.8625</td>\n",
       "      <td> 0</td>\n",
       "      <td> 0</td>\n",
       "    </tr>\n",
       "    <tr>\n",
       "      <th>7 </th>\n",
       "      <td>  8</td>\n",
       "      <td> 0</td>\n",
       "      <td> 3</td>\n",
       "      <td> 3</td>\n",
       "      <td> 1</td>\n",
       "      <td> 1</td>\n",
       "      <td> 0</td>\n",
       "      <td>  2.0</td>\n",
       "      <td> 21.0750</td>\n",
       "      <td> 0</td>\n",
       "      <td> 0</td>\n",
       "    </tr>\n",
       "    <tr>\n",
       "      <th>8 </th>\n",
       "      <td>  9</td>\n",
       "      <td> 1</td>\n",
       "      <td> 3</td>\n",
       "      <td> 0</td>\n",
       "      <td> 2</td>\n",
       "      <td> 0</td>\n",
       "      <td> 0</td>\n",
       "      <td> 27.0</td>\n",
       "      <td> 11.1333</td>\n",
       "      <td> 0</td>\n",
       "      <td> 0</td>\n",
       "    </tr>\n",
       "    <tr>\n",
       "      <th>9 </th>\n",
       "      <td> 10</td>\n",
       "      <td> 1</td>\n",
       "      <td> 2</td>\n",
       "      <td> 1</td>\n",
       "      <td> 0</td>\n",
       "      <td> 0</td>\n",
       "      <td> 1</td>\n",
       "      <td> 14.0</td>\n",
       "      <td> 30.0708</td>\n",
       "      <td> 1</td>\n",
       "      <td> 0</td>\n",
       "    </tr>\n",
       "    <tr>\n",
       "      <th>10</th>\n",
       "      <td> 11</td>\n",
       "      <td> 1</td>\n",
       "      <td> 3</td>\n",
       "      <td> 1</td>\n",
       "      <td> 1</td>\n",
       "      <td> 0</td>\n",
       "      <td> 0</td>\n",
       "      <td>  4.0</td>\n",
       "      <td> 16.7000</td>\n",
       "      <td> 0</td>\n",
       "      <td> 0</td>\n",
       "    </tr>\n",
       "    <tr>\n",
       "      <th>11</th>\n",
       "      <td> 12</td>\n",
       "      <td> 1</td>\n",
       "      <td> 1</td>\n",
       "      <td> 0</td>\n",
       "      <td> 0</td>\n",
       "      <td> 0</td>\n",
       "      <td> 0</td>\n",
       "      <td> 58.0</td>\n",
       "      <td> 26.5500</td>\n",
       "      <td> 0</td>\n",
       "      <td> 0</td>\n",
       "    </tr>\n",
       "    <tr>\n",
       "      <th>12</th>\n",
       "      <td> 13</td>\n",
       "      <td> 0</td>\n",
       "      <td> 3</td>\n",
       "      <td> 0</td>\n",
       "      <td> 0</td>\n",
       "      <td> 1</td>\n",
       "      <td> 0</td>\n",
       "      <td> 20.0</td>\n",
       "      <td>  8.0500</td>\n",
       "      <td> 0</td>\n",
       "      <td> 0</td>\n",
       "    </tr>\n",
       "    <tr>\n",
       "      <th>13</th>\n",
       "      <td> 14</td>\n",
       "      <td> 0</td>\n",
       "      <td> 3</td>\n",
       "      <td> 1</td>\n",
       "      <td> 5</td>\n",
       "      <td> 1</td>\n",
       "      <td> 0</td>\n",
       "      <td> 39.0</td>\n",
       "      <td> 31.2750</td>\n",
       "      <td> 0</td>\n",
       "      <td> 0</td>\n",
       "    </tr>\n",
       "    <tr>\n",
       "      <th>14</th>\n",
       "      <td> 15</td>\n",
       "      <td> 0</td>\n",
       "      <td> 3</td>\n",
       "      <td> 0</td>\n",
       "      <td> 0</td>\n",
       "      <td> 0</td>\n",
       "      <td> 0</td>\n",
       "      <td> 14.0</td>\n",
       "      <td>  7.8542</td>\n",
       "      <td> 0</td>\n",
       "      <td> 0</td>\n",
       "    </tr>\n",
       "    <tr>\n",
       "      <th>15</th>\n",
       "      <td> 16</td>\n",
       "      <td> 1</td>\n",
       "      <td> 2</td>\n",
       "      <td> 0</td>\n",
       "      <td> 0</td>\n",
       "      <td> 0</td>\n",
       "      <td> 0</td>\n",
       "      <td> 55.0</td>\n",
       "      <td> 16.0000</td>\n",
       "      <td> 0</td>\n",
       "      <td> 0</td>\n",
       "    </tr>\n",
       "    <tr>\n",
       "      <th>16</th>\n",
       "      <td> 17</td>\n",
       "      <td> 0</td>\n",
       "      <td> 3</td>\n",
       "      <td> 4</td>\n",
       "      <td> 1</td>\n",
       "      <td> 1</td>\n",
       "      <td> 2</td>\n",
       "      <td>  2.0</td>\n",
       "      <td> 29.1250</td>\n",
       "      <td> 0</td>\n",
       "      <td> 0</td>\n",
       "    </tr>\n",
       "    <tr>\n",
       "      <th>17</th>\n",
       "      <td> 18</td>\n",
       "      <td> 1</td>\n",
       "      <td> 2</td>\n",
       "      <td> 0</td>\n",
       "      <td> 0</td>\n",
       "      <td> 1</td>\n",
       "      <td> 0</td>\n",
       "      <td> 30.0</td>\n",
       "      <td> 13.0000</td>\n",
       "      <td> 0</td>\n",
       "      <td> 0</td>\n",
       "    </tr>\n",
       "    <tr>\n",
       "      <th>18</th>\n",
       "      <td> 19</td>\n",
       "      <td> 0</td>\n",
       "      <td> 3</td>\n",
       "      <td> 1</td>\n",
       "      <td> 0</td>\n",
       "      <td> 0</td>\n",
       "      <td> 0</td>\n",
       "      <td> 31.0</td>\n",
       "      <td> 18.0000</td>\n",
       "      <td> 0</td>\n",
       "      <td> 0</td>\n",
       "    </tr>\n",
       "    <tr>\n",
       "      <th>19</th>\n",
       "      <td> 20</td>\n",
       "      <td> 1</td>\n",
       "      <td> 3</td>\n",
       "      <td> 0</td>\n",
       "      <td> 0</td>\n",
       "      <td> 0</td>\n",
       "      <td> 1</td>\n",
       "      <td> 21.5</td>\n",
       "      <td>  7.2250</td>\n",
       "      <td> 0</td>\n",
       "      <td> 0</td>\n",
       "    </tr>\n",
       "  </tbody>\n",
       "</table>\n",
       "</div>"
      ],
      "text/plain": [
       "    PassengerId  Survived  Pclass  SibSp  Parch  Gender  Port  AgeFill  \\\n",
       "0             1         0       3      1      0       1     0     22.0   \n",
       "1             2         1       1      1      0       0     1     38.0   \n",
       "2             3         1       3      0      0       0     0     26.0   \n",
       "3             4         1       1      1      0       0     0     35.0   \n",
       "4             5         0       3      0      0       1     0     35.0   \n",
       "5             6         0       3      0      0       1     2     25.0   \n",
       "6             7         0       1      0      0       1     0     54.0   \n",
       "7             8         0       3      3      1       1     0      2.0   \n",
       "8             9         1       3      0      2       0     0     27.0   \n",
       "9            10         1       2      1      0       0     1     14.0   \n",
       "10           11         1       3      1      1       0     0      4.0   \n",
       "11           12         1       1      0      0       0     0     58.0   \n",
       "12           13         0       3      0      0       1     0     20.0   \n",
       "13           14         0       3      1      5       1     0     39.0   \n",
       "14           15         0       3      0      0       0     0     14.0   \n",
       "15           16         1       2      0      0       0     0     55.0   \n",
       "16           17         0       3      4      1       1     2      2.0   \n",
       "17           18         1       2      0      0       1     0     30.0   \n",
       "18           19         0       3      1      0       0     0     31.0   \n",
       "19           20         1       3      0      0       0     1     21.5   \n",
       "\n",
       "    FareFill  kidHighClass  momHighClass  \n",
       "0     7.2500             0             0  \n",
       "1    71.2833             0             0  \n",
       "2     7.9250             0             0  \n",
       "3    53.1000             0             0  \n",
       "4     8.0500             0             0  \n",
       "5     8.4583             0             0  \n",
       "6    51.8625             0             0  \n",
       "7    21.0750             0             0  \n",
       "8    11.1333             0             0  \n",
       "9    30.0708             1             0  \n",
       "10   16.7000             0             0  \n",
       "11   26.5500             0             0  \n",
       "12    8.0500             0             0  \n",
       "13   31.2750             0             0  \n",
       "14    7.8542             0             0  \n",
       "15   16.0000             0             0  \n",
       "16   29.1250             0             0  \n",
       "17   13.0000             0             0  \n",
       "18   18.0000             0             0  \n",
       "19    7.2250             0             0  "
      ]
     },
     "execution_count": 10,
     "metadata": {},
     "output_type": "execute_result"
    }
   ],
   "source": [
    "train[0:20]"
   ]
  },
  {
   "cell_type": "code",
   "execution_count": 11,
   "metadata": {
    "collapsed": true
   },
   "outputs": [],
   "source": [
    "# create hold-out set\n",
    "\n",
    "features = list(train.columns.values)[2::]\n",
    "X_train, X_test, y_train, y_test = train_test_split(train[features], train['Survived'])"
   ]
  },
  {
   "cell_type": "markdown",
   "metadata": {},
   "source": [
    "# Data exploration"
   ]
  },
  {
   "cell_type": "code",
   "execution_count": 12,
   "metadata": {
    "collapsed": false
   },
   "outputs": [
    {
     "data": {
      "text/html": [
       "<div style=\"max-height:1000px;max-width:1500px;overflow:auto;\">\n",
       "<table border=\"1\" class=\"dataframe\">\n",
       "  <thead>\n",
       "    <tr style=\"text-align: right;\">\n",
       "      <th></th>\n",
       "      <th>Pclass</th>\n",
       "      <th>SibSp</th>\n",
       "      <th>Parch</th>\n",
       "      <th>Gender</th>\n",
       "      <th>Port</th>\n",
       "      <th>AgeFill</th>\n",
       "      <th>FareFill</th>\n",
       "      <th>kidHighClass</th>\n",
       "      <th>momHighClass</th>\n",
       "    </tr>\n",
       "    <tr>\n",
       "      <th>Survived</th>\n",
       "      <th></th>\n",
       "      <th></th>\n",
       "      <th></th>\n",
       "      <th></th>\n",
       "      <th></th>\n",
       "      <th></th>\n",
       "      <th></th>\n",
       "      <th></th>\n",
       "      <th></th>\n",
       "    </tr>\n",
       "  </thead>\n",
       "  <tbody>\n",
       "    <tr>\n",
       "      <th>0</th>\n",
       "      <td> 2.537170</td>\n",
       "      <td> 0.515588</td>\n",
       "      <td> 0.311751</td>\n",
       "      <td> 0.860911</td>\n",
       "      <td> 0.297362</td>\n",
       "      <td> 29.761391</td>\n",
       "      <td> 20.789656</td>\n",
       "      <td> 0.007194</td>\n",
       "      <td> 0.002398</td>\n",
       "    </tr>\n",
       "    <tr>\n",
       "      <th>1</th>\n",
       "      <td> 1.987952</td>\n",
       "      <td> 0.481928</td>\n",
       "      <td> 0.481928</td>\n",
       "      <td> 0.341365</td>\n",
       "      <td> 0.449799</td>\n",
       "      <td> 27.668675</td>\n",
       "      <td> 45.437734</td>\n",
       "      <td> 0.108434</td>\n",
       "      <td> 0.076305</td>\n",
       "    </tr>\n",
       "  </tbody>\n",
       "</table>\n",
       "</div>"
      ],
      "text/plain": [
       "            Pclass     SibSp     Parch    Gender      Port    AgeFill  \\\n",
       "Survived                                                                \n",
       "0         2.537170  0.515588  0.311751  0.860911  0.297362  29.761391   \n",
       "1         1.987952  0.481928  0.481928  0.341365  0.449799  27.668675   \n",
       "\n",
       "           FareFill  kidHighClass  momHighClass  \n",
       "Survived                                         \n",
       "0         20.789656      0.007194      0.002398  \n",
       "1         45.437734      0.108434      0.076305  "
      ]
     },
     "execution_count": 12,
     "metadata": {},
     "output_type": "execute_result"
    }
   ],
   "source": [
    "X_train.groupby(y_train).mean()"
   ]
  },
  {
   "cell_type": "code",
   "execution_count": 13,
   "metadata": {
    "collapsed": false,
    "scrolled": true
   },
   "outputs": [
    {
     "data": {
      "text/html": [
       "<div style=\"max-height:1000px;max-width:1500px;overflow:auto;\">\n",
       "<table border=\"1\" class=\"dataframe\">\n",
       "  <thead>\n",
       "    <tr style=\"text-align: right;\">\n",
       "      <th></th>\n",
       "      <th>Pclass</th>\n",
       "      <th>SibSp</th>\n",
       "      <th>Parch</th>\n",
       "      <th>Gender</th>\n",
       "      <th>AgeFill</th>\n",
       "      <th>FareFill</th>\n",
       "      <th>kidHighClass</th>\n",
       "      <th>momHighClass</th>\n",
       "    </tr>\n",
       "    <tr>\n",
       "      <th>Port</th>\n",
       "      <th></th>\n",
       "      <th></th>\n",
       "      <th></th>\n",
       "      <th></th>\n",
       "      <th></th>\n",
       "      <th></th>\n",
       "      <th></th>\n",
       "      <th></th>\n",
       "    </tr>\n",
       "  </thead>\n",
       "  <tbody>\n",
       "    <tr>\n",
       "      <th>0</th>\n",
       "      <td> 2.354508</td>\n",
       "      <td> 0.547131</td>\n",
       "      <td> 0.393443</td>\n",
       "      <td> 0.702869</td>\n",
       "      <td> 29.297643</td>\n",
       "      <td> 25.908382</td>\n",
       "      <td> 0.051230</td>\n",
       "      <td> 0.032787</td>\n",
       "    </tr>\n",
       "    <tr>\n",
       "      <th>1</th>\n",
       "      <td> 1.950000</td>\n",
       "      <td> 0.366667</td>\n",
       "      <td> 0.400000</td>\n",
       "      <td> 0.583333</td>\n",
       "      <td> 29.985417</td>\n",
       "      <td> 55.106493</td>\n",
       "      <td> 0.041667</td>\n",
       "      <td> 0.033333</td>\n",
       "    </tr>\n",
       "    <tr>\n",
       "      <th>2</th>\n",
       "      <td> 2.931034</td>\n",
       "      <td> 0.413793</td>\n",
       "      <td> 0.172414</td>\n",
       "      <td> 0.534483</td>\n",
       "      <td> 24.215517</td>\n",
       "      <td> 12.538148</td>\n",
       "      <td> 0.000000</td>\n",
       "      <td> 0.000000</td>\n",
       "    </tr>\n",
       "  </tbody>\n",
       "</table>\n",
       "</div>"
      ],
      "text/plain": [
       "        Pclass     SibSp     Parch    Gender    AgeFill   FareFill  \\\n",
       "Port                                                                 \n",
       "0     2.354508  0.547131  0.393443  0.702869  29.297643  25.908382   \n",
       "1     1.950000  0.366667  0.400000  0.583333  29.985417  55.106493   \n",
       "2     2.931034  0.413793  0.172414  0.534483  24.215517  12.538148   \n",
       "\n",
       "      kidHighClass  momHighClass  \n",
       "Port                              \n",
       "0         0.051230      0.032787  \n",
       "1         0.041667      0.033333  \n",
       "2         0.000000      0.000000  "
      ]
     },
     "execution_count": 13,
     "metadata": {},
     "output_type": "execute_result"
    }
   ],
   "source": [
    "X_train.groupby('Port').mean()"
   ]
  },
  {
   "cell_type": "markdown",
   "metadata": {},
   "source": [
    "# Data visualization \n",
    "## for more visualizations see 'Visualization and exploration' notebook"
   ]
  },
  {
   "cell_type": "code",
   "execution_count": 14,
   "metadata": {
    "collapsed": false,
    "scrolled": true
   },
   "outputs": [
    {
     "data": {
      "text/plain": [
       "<matplotlib.text.Text at 0xaac6438>"
      ]
     },
     "execution_count": 14,
     "metadata": {},
     "output_type": "execute_result"
    },
    {
     "data": {
      "image/png": "[encoded data removed]",
      "text/plain": [
       "<matplotlib.figure.Figure at 0xaa6a2e8>"
      ]
     },
     "metadata": {},
     "output_type": "display_data"
    }
   ],
   "source": [
    "pd.crosstab(X_train.Gender, y_train.astype(bool)).plot(kind='bar')\n",
    "plt.title('Gender distribution by survival')\n",
    "plt.xlabel('Gender; 0 = female')\n",
    "plt.ylabel('Frequency')"
   ]
  },
  {
   "cell_type": "markdown",
   "metadata": {},
   "source": [
    "# Feature selection"
   ]
  },
  {
   "cell_type": "code",
   "execution_count": 15,
   "metadata": {
    "collapsed": false
   },
   "outputs": [
    {
     "data": {
      "text/plain": [
       "array([[  1.    ,   8.05  ,   0.    ,   0.    ],\n",
       "       [  0.    ,  93.5   ,   0.    ,   0.    ],\n",
       "       [  0.    ,  51.8625,   0.    ,   0.    ],\n",
       "       [  1.    ,   6.2375,   0.    ,   0.    ],\n",
       "       [  1.    ,  20.525 ,   0.    ,   0.    ],\n",
       "       [  1.    ,   8.6625,   0.    ,   0.    ],\n",
       "       [  1.    ,  35.5   ,   0.    ,   0.    ],\n",
       "       [  1.    ,   7.225 ,   0.    ,   0.    ],\n",
       "       [  1.    ,   7.7958,   0.    ,   0.    ],\n",
       "       [  0.    ,   7.225 ,   0.    ,   0.    ]])"
      ]
     },
     "execution_count": 15,
     "metadata": {},
     "output_type": "execute_result"
    }
   ],
   "source": [
    "from sklearn.feature_selection import SelectKBest, chi2\n",
    "\n",
    "ch2 = SelectKBest(chi2, k = 4)\n",
    "X_train2 = ch2.fit_transform(X_train, y_train)\n",
    "# ch2.get_feature_names()\n",
    "X_train2[0:10]\n"
   ]
  },
  {
   "cell_type": "code",
   "execution_count": 16,
   "metadata": {
    "collapsed": false
   },
   "outputs": [
    {
     "name": "stdout",
     "output_type": "stream",
     "text": [
      "['Gender', 'FareFill', 'kidHighClass', 'momHighClass']\n"
     ]
    }
   ],
   "source": [
    "predictors = list(X_train.columns.values[ch2.get_support()])\n",
    "print(predictors)"
   ]
  },
  {
   "cell_type": "markdown",
   "metadata": {},
   "source": [
    "# Find logistic regression hyperparameters"
   ]
  },
  {
   "cell_type": "code",
   "execution_count": 17,
   "metadata": {
    "collapsed": true
   },
   "outputs": [],
   "source": [
    "def searchHyperparameters(X, y, param_grid, alg, cval = 10, score = 'accuracy'):\n",
    "    \n",
    "    # instantiate the grid\n",
    "    grid = GridSearchCV(alg, param_grid, cv = cval, scoring = score)\n",
    "    \n",
    "    # fit the grid with data\n",
    "    grid.fit(X, y)\n",
    "    \n",
    "    # view the complete results\n",
    "    print(\"Best score:\", grid.best_score_)\n",
    "    print(\"Best parameters:\", grid.best_params_)\n",
    "    print(\"Best model:\", grid.best_estimator_)\n",
    "    \n",
    "    # note if SD high, cross-val estimates may not be reliable\n",
    "    results = grid.grid_scores_\n",
    "    return results, grid"
   ]
  },
  {
   "cell_type": "code",
   "execution_count": 18,
   "metadata": {
    "collapsed": true
   },
   "outputs": [],
   "source": [
    "# Initialize our algorithm\n",
    "alg = LogisticRegression()"
   ]
  },
  {
   "cell_type": "code",
   "execution_count": 19,
   "metadata": {
    "collapsed": false
   },
   "outputs": [
    {
     "name": "stdout",
     "output_type": "stream",
     "text": [
      "{'penalty': ['l1', 'l2'], 'C': [0.001, 0.01, 0.1, 1, 10, 100, 1000]}\n"
     ]
    }
   ],
   "source": [
    "# define parameter values to be searched\n",
    "c_range = [0.001, 0.01, 0.1, 1, 10, 100, 1000]\n",
    "p_range = ['l1', 'l2']\n",
    "param_grid = dict(C = c_range, penalty = p_range)\n",
    "print(param_grid)"
   ]
  },
  {
   "cell_type": "code",
   "execution_count": 20,
   "metadata": {
    "collapsed": false
   },
   "outputs": [
    {
     "name": "stdout",
     "output_type": "stream",
     "text": [
      "Best score: 0.837522587919\n",
      "Best parameters: {'penalty': 'l2', 'C': 10}\n",
      "Best model: LogisticRegression(C=10, class_weight=None, dual=False, fit_intercept=True,\n",
      "          intercept_scaling=1, max_iter=100, multi_class='ovr', n_jobs=1,\n",
      "          penalty='l2', random_state=None, solver='liblinear', tol=0.0001,\n",
      "          verbose=0, warm_start=False)\n"
     ]
    }
   ],
   "source": [
    "res, grid = searchHyperparameters(X_train[predictors], y_train, param_grid, alg, 10, 'roc_auc')"
   ]
  },
  {
   "cell_type": "code",
   "execution_count": 21,
   "metadata": {
    "collapsed": false
   },
   "outputs": [],
   "source": [
    "# Predict class for hold-out set.\n",
    "holdout_pred = grid.predict(X_test[predictors])"
   ]
  },
  {
   "cell_type": "markdown",
   "metadata": {},
   "source": [
    "# Model evaluation"
   ]
  },
  {
   "cell_type": "code",
   "execution_count": 22,
   "metadata": {
    "collapsed": true
   },
   "outputs": [],
   "source": [
    "def evaluation_metrics(ytest, ypred):\n",
    "    \n",
    "    # null accuracy\n",
    "    null_accuracy = round(ytest.value_counts().max()/len(ytest), 3)\n",
    "    print(\"Null accuracy:\", null_accuracy)\n",
    "\n",
    "    accuracy = round(accuracy_score(ytest, ypred), 3)\n",
    "    print(\"Accuracy:\", accuracy)\n",
    "    \n",
    "    confusion = confusion_matrix(ytest, ypred)\n",
    "    print(\"Confusion matrix: actual(0,1) x predicted(0,1)\\n\", confusion)\n",
    "    \n",
    "    sensitivity = round(recall_score(ytest, ypred), 3)\n",
    "    print(\"Sensitivity: when actual is positive, how often predicted positive\", sensitivity)\n",
    "    \n",
    "    specificity = round(confusion[0,0]/(confusion[0,0] + confusion[0,1]), 3)\n",
    "    print(\"Specificity: when actual is zero, how often predicted zero\", specificity)\n",
    "\n",
    "    precision = round(precision_score(ytest, ypred), 3)\n",
    "    print(\"Precision: when predicted is positive, how often actual positive\", precision)\n",
    "    \n",
    "    return accuracy, confusion, sensitivity, specificity, precision"
   ]
  },
  {
   "cell_type": "code",
   "execution_count": 23,
   "metadata": {
    "collapsed": false
   },
   "outputs": [],
   "source": [
    "def evaluate_prob(ytest, pred_prob):\n",
    "    \n",
    "    # histogram of probabilities\n",
    "    plt.subplot(1, 2, 1)\n",
    "    plt.hist(pred_prob, bins = 8)\n",
    "    plt.xlim(0, 1)\n",
    "    plt.title('Histogram of pred probabilities')\n",
    "    plt.xlabel('Predicted probability of positive')\n",
    "    plt.ylabel('Frequency')\n",
    "    \n",
    "    # ROC curve\n",
    "    fpr, tpr, thresholds = roc_curve(ytest, pred_prob)\n",
    "    plt.subplot(1, 2, 2)\n",
    "    plt.plot(fpr, tpr)\n",
    "    plt.xlim([0.0, 1.0])\n",
    "    plt.ylim([0.0, 1.0])\n",
    "    plt.title(\"ROC curve\")\n",
    "    plt.xlabel(\"False positive rate (1 - specificity)\")\n",
    "    plt.ylabel(\"True positive rate (sensitivity)\")\n",
    "    plt.grid(True)\n",
    "    \n",
    "    plt.tight_layout() # adds more space between plots\n",
    "    \n",
    "    auc = round(roc_auc_score(y_test, predict_prob), 3)\n",
    "    print(\"AUC score is:\", auc)\n",
    "    \n",
    "    return fpr, tpr, thresholds, auc"
   ]
  },
  {
   "cell_type": "code",
   "execution_count": 24,
   "metadata": {
    "collapsed": true
   },
   "outputs": [],
   "source": [
    "# Use ROC curve to determine sensitivity & specificity for a given threshold\n",
    "def evaluate_threshold(threshold):\n",
    "    print(\"Sensitivity:\", tpr[thresholds > threshold][-1])\n",
    "    print(\"Specificity:\", 1-fpr[thresholds > threshold][-1])"
   ]
  },
  {
   "cell_type": "code",
   "execution_count": 25,
   "metadata": {
    "collapsed": false
   },
   "outputs": [
    {
     "name": "stdout",
     "output_type": "stream",
     "text": [
      "Null accuracy: 0.592\n",
      "Accuracy: 0.78\n",
      "Confusion matrix: actual(0,1) x predicted(0,1)\n",
      " [[105  27]\n",
      " [ 22  69]]\n",
      "Sensitivity: when actual is positive, how often predicted positive 0.758\n",
      "Specificity: when actual is zero, how often predicted zero 0.795\n",
      "Precision: when predicted is positive, how often actual positive 0.719\n"
     ]
    }
   ],
   "source": [
    "# Retrieve evaluation metrics\n",
    "acc, conf, sens, spec, prec = evaluation_metrics(y_test, holdout_pred)"
   ]
  },
  {
   "cell_type": "code",
   "execution_count": 27,
   "metadata": {
    "collapsed": false
   },
   "outputs": [],
   "source": [
    "# Predict probabilities for hold-out set\n",
    "predict_prob = grid.predict_proba(X_test[predictors])[:,1]"
   ]
  },
  {
   "cell_type": "code",
   "execution_count": 28,
   "metadata": {
    "collapsed": false
   },
   "outputs": [
    {
     "name": "stdout",
     "output_type": "stream",
     "text": [
      "AUC score is: 0.827\n"
     ]
    },
    {
     "data": {
      "image/png": "[encoded data removed]",
      "text/plain": [
       "<matplotlib.figure.Figure at 0xb23a518>"
      ]
     },
     "metadata": {},
     "output_type": "display_data"
    }
   ],
   "source": [
    "# Retrieve probability metrics\n",
    "fpr, tpr, thresholds, auc = evaluate_prob(y_test, predict_prob)"
   ]
  },
  {
   "cell_type": "code",
   "execution_count": 29,
   "metadata": {
    "collapsed": false,
    "scrolled": true
   },
   "outputs": [
    {
     "name": "stdout",
     "output_type": "stream",
     "text": [
      "Sensitivity: 0.758241758242\n",
      "Specificity: 0.795454545455\n"
     ]
    }
   ],
   "source": [
    "# Determine class metrics for new threshold\n",
    "# Note uses thresholds from histogram of probabilities, and so 0.5 does not exist\n",
    "# Therefore, sensitivity is for thresholds > 0.5 (in this case 0.654)\n",
    "evaluate_threshold(0.5)"
   ]
  },
  {
   "cell_type": "code",
   "execution_count": 30,
   "metadata": {
    "collapsed": false
   },
   "outputs": [
    {
     "name": "stdout",
     "output_type": "stream",
     "text": [
      "Sensitivity: 0.78021978022\n",
      "Specificity: 0.787878787879\n"
     ]
    }
   ],
   "source": [
    "# Determine class metrics for new threshold\n",
    "evaluate_threshold(0.3)"
   ]
  },
  {
   "cell_type": "code",
   "execution_count": 31,
   "metadata": {
    "collapsed": false
   },
   "outputs": [
    {
     "name": "stderr",
     "output_type": "stream",
     "text": [
      "C:\\Users\\Erin\\Anaconda3\\lib\\site-packages\\sklearn\\utils\\validation.py:386: DeprecationWarning: Passing 1d arrays as data is deprecated in 0.17 and willraise ValueError in 0.19. Reshape your data either using X.reshape(-1, 1) if your data has a single feature or X.reshape(1, -1) if it contains a single sample.\n",
      "  DeprecationWarning)\n"
     ]
    }
   ],
   "source": [
    "# Change threshold for classification \n",
    "# One of the last steps in the model building process\n",
    "from sklearn.preprocessing import binarize\n",
    "y_pred_thresh = binarize(predict_prob, 0.3)[0]"
   ]
  },
  {
   "cell_type": "code",
   "execution_count": 32,
   "metadata": {
    "collapsed": false
   },
   "outputs": [
    {
     "name": "stdout",
     "output_type": "stream",
     "text": [
      "Null accuracy: 0.592\n",
      "Accuracy: 0.785\n",
      "Confusion matrix: actual(0,1) x predicted(0,1)\n",
      " [[104  28]\n",
      " [ 20  71]]\n",
      "Sensitivity: when actual is positive, how often predicted positive 0.78\n",
      "Specificity: when actual is zero, how often predicted zero 0.788\n",
      "Precision: when predicted is positive, how often actual positive 0.717\n"
     ]
    }
   ],
   "source": [
    "acc, conf, sens, spec, prec = evaluation_metrics(y_test, y_pred_thresh)"
   ]
  },
  {
   "cell_type": "code",
   "execution_count": 80,
   "metadata": {
    "collapsed": false
   },
   "outputs": [
    {
     "data": {
      "text/plain": [
       "array([ 1.,  0.,  1.,  1.,  0.,  0.,  0.,  0.,  0.,  1.])"
      ]
     },
     "execution_count": 80,
     "metadata": {},
     "output_type": "execute_result"
    }
   ],
   "source": [
    "y_pred_thresh[0:10]"
   ]
  },
  {
   "cell_type": "markdown",
   "metadata": {},
   "source": [
    "# Final step - submission"
   ]
  },
  {
   "cell_type": "code",
   "execution_count": 33,
   "metadata": {
    "collapsed": false
   },
   "outputs": [],
   "source": [
    "# Make predictions for test set.\n",
    "test_pred = grid.predict(test[predictors])"
   ]
  },
  {
   "cell_type": "code",
   "execution_count": 35,
   "metadata": {
    "collapsed": true
   },
   "outputs": [],
   "source": [
    "test_predprob = grid.predict_proba(test[predictors])"
   ]
  },
  {
   "cell_type": "code",
   "execution_count": 38,
   "metadata": {
    "collapsed": false
   },
   "outputs": [
    {
     "data": {
      "text/plain": [
       "array([ 0.14492423,  0.17284261,  0.80544165,  0.17284261,  0.76436193,\n",
       "        0.68780221,  0.15142493,  0.14396557,  0.63666921,  0.63479457])"
      ]
     },
     "execution_count": 38,
     "metadata": {},
     "output_type": "execute_result"
    }
   ],
   "source": [
    "test_predprob[10:20][:,1]"
   ]
  },
  {
   "cell_type": "code",
   "execution_count": 34,
   "metadata": {
    "collapsed": false
   },
   "outputs": [
    {
     "data": {
      "text/plain": [
       "array([0, 1, 0, 0, 1, 0, 1, 0, 1, 0], dtype=int64)"
      ]
     },
     "execution_count": 34,
     "metadata": {},
     "output_type": "execute_result"
    }
   ],
   "source": [
    "test_pred[0:10]"
   ]
  },
  {
   "cell_type": "code",
   "execution_count": 39,
   "metadata": {
    "collapsed": true
   },
   "outputs": [],
   "source": [
    "# Create a new dataframe with only the columns Kaggle wants from the dataset.\n",
    "submission = pd.DataFrame({\n",
    "        \"PassengerId\": test[\"PassengerId\"],\n",
    "        \"Survived\": test_pred\n",
    "    })\n",
    "\n",
    "# Any files you save will be available in the output tab below\n",
    "submission.to_csv('submission.csv', index=False)"
   ]
  },
  {
   "cell_type": "code",
   "execution_count": null,
   "metadata": {
    "collapsed": true
   },
   "outputs": [],
   "source": []
  }
 ],
 "metadata": {
  "kernelspec": {
   "display_name": "Python 3",
   "language": "python",
   "name": "python3"
  },
  "language_info": {
   "codemirror_mode": {
    "name": "ipython",
    "version": 3
   },
   "file_extension": ".py",
   "mimetype": "text/x-python",
   "name": "python",
   "nbconvert_exporter": "python",
   "pygments_lexer": "ipython3",
   "version": "3.4.3"
  }
 },
 "nbformat": 4,
 "nbformat_minor": 0
}

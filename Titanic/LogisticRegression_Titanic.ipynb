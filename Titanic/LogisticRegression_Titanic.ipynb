{
 "cells": [
  {
   "cell_type": "code",
   "execution_count": 1,
   "metadata": {
    "collapsed": true
   },
   "outputs": [],
   "source": [
    "# Standard Imports\n",
    "from pandas import Series, DataFrame\n",
    "import pandas as pd\n",
    "import numpy as np\n",
    "import matplotlib.pylab as plt\n",
    "import seaborn as sns\n",
    "%matplotlib inline"
   ]
  },
  {
   "cell_type": "code",
   "execution_count": 2,
   "metadata": {
    "collapsed": true
   },
   "outputs": [],
   "source": [
    "# Performance\n",
    "from time import time"
   ]
  },
  {
   "cell_type": "code",
   "execution_count": 3,
   "metadata": {
    "collapsed": true
   },
   "outputs": [],
   "source": [
    "# Machine Learning\n",
    "from sklearn.linear_model import LogisticRegression"
   ]
  },
  {
   "cell_type": "code",
   "execution_count": 4,
   "metadata": {
    "collapsed": true
   },
   "outputs": [],
   "source": [
    "# Helper\n",
    "from sklearn import cross_validation\n",
    "from sklearn.cross_validation import train_test_split, cross_val_predict\n",
    "from sklearn.metrics import accuracy_score"
   ]
  },
  {
   "cell_type": "markdown",
   "metadata": {},
   "source": [
    "# Preliminaries"
   ]
  },
  {
   "cell_type": "code",
   "execution_count": 5,
   "metadata": {
    "collapsed": true
   },
   "outputs": [],
   "source": [
    "# Load the Data\n",
    "train = pd.read_csv('input/train2.csv')\n",
    "test = pd.read_csv('input/test2.csv')"
   ]
  },
  {
   "cell_type": "code",
   "execution_count": 6,
   "metadata": {
    "collapsed": false
   },
   "outputs": [
    {
     "data": {
      "text/html": [
       "<div style=\"max-height:1000px;max-width:1500px;overflow:auto;\">\n",
       "<table border=\"1\" class=\"dataframe\">\n",
       "  <thead>\n",
       "    <tr style=\"text-align: right;\">\n",
       "      <th></th>\n",
       "      <th>PassengerId</th>\n",
       "      <th>Survived</th>\n",
       "      <th>Pclass</th>\n",
       "      <th>SibSp</th>\n",
       "      <th>Parch</th>\n",
       "      <th>Gender</th>\n",
       "      <th>Port</th>\n",
       "      <th>AgeFill</th>\n",
       "      <th>FareFill</th>\n",
       "    </tr>\n",
       "  </thead>\n",
       "  <tbody>\n",
       "    <tr>\n",
       "      <th>0</th>\n",
       "      <td> 1</td>\n",
       "      <td> 0</td>\n",
       "      <td> 3</td>\n",
       "      <td> 1</td>\n",
       "      <td> 0</td>\n",
       "      <td> 1</td>\n",
       "      <td> 0</td>\n",
       "      <td> 22</td>\n",
       "      <td>  7.2500</td>\n",
       "    </tr>\n",
       "    <tr>\n",
       "      <th>1</th>\n",
       "      <td> 2</td>\n",
       "      <td> 1</td>\n",
       "      <td> 1</td>\n",
       "      <td> 1</td>\n",
       "      <td> 0</td>\n",
       "      <td> 0</td>\n",
       "      <td> 1</td>\n",
       "      <td> 38</td>\n",
       "      <td> 71.2833</td>\n",
       "    </tr>\n",
       "    <tr>\n",
       "      <th>2</th>\n",
       "      <td> 3</td>\n",
       "      <td> 1</td>\n",
       "      <td> 3</td>\n",
       "      <td> 0</td>\n",
       "      <td> 0</td>\n",
       "      <td> 0</td>\n",
       "      <td> 0</td>\n",
       "      <td> 26</td>\n",
       "      <td>  7.9250</td>\n",
       "    </tr>\n",
       "    <tr>\n",
       "      <th>3</th>\n",
       "      <td> 4</td>\n",
       "      <td> 1</td>\n",
       "      <td> 1</td>\n",
       "      <td> 1</td>\n",
       "      <td> 0</td>\n",
       "      <td> 0</td>\n",
       "      <td> 0</td>\n",
       "      <td> 35</td>\n",
       "      <td> 53.1000</td>\n",
       "    </tr>\n",
       "    <tr>\n",
       "      <th>4</th>\n",
       "      <td> 5</td>\n",
       "      <td> 0</td>\n",
       "      <td> 3</td>\n",
       "      <td> 0</td>\n",
       "      <td> 0</td>\n",
       "      <td> 1</td>\n",
       "      <td> 0</td>\n",
       "      <td> 35</td>\n",
       "      <td>  8.0500</td>\n",
       "    </tr>\n",
       "  </tbody>\n",
       "</table>\n",
       "</div>"
      ],
      "text/plain": [
       "   PassengerId  Survived  Pclass  SibSp  Parch  Gender  Port  AgeFill  \\\n",
       "0            1         0       3      1      0       1     0       22   \n",
       "1            2         1       1      1      0       0     1       38   \n",
       "2            3         1       3      0      0       0     0       26   \n",
       "3            4         1       1      1      0       0     0       35   \n",
       "4            5         0       3      0      0       1     0       35   \n",
       "\n",
       "   FareFill  \n",
       "0    7.2500  \n",
       "1   71.2833  \n",
       "2    7.9250  \n",
       "3   53.1000  \n",
       "4    8.0500  "
      ]
     },
     "execution_count": 6,
     "metadata": {},
     "output_type": "execute_result"
    }
   ],
   "source": [
    "train.head()"
   ]
  },
  {
   "cell_type": "markdown",
   "metadata": {},
   "source": [
    "# Feature engineering\n",
    "Insights pulled from visualization and exploration notebook"
   ]
  },
  {
   "cell_type": "code",
   "execution_count": 7,
   "metadata": {
    "collapsed": true
   },
   "outputs": [],
   "source": [
    "def createNewCol(boolx):\n",
    "    featx = []\n",
    "    for i in range(len(boolx)):\n",
    "        if boolx[i]:\n",
    "            featx.append(1) \n",
    "        else:\n",
    "            featx.append(0) \n",
    "\n",
    "    return featx"
   ]
  },
  {
   "cell_type": "code",
   "execution_count": 33,
   "metadata": {
    "collapsed": false
   },
   "outputs": [
    {
     "name": "stdout",
     "output_type": "stream",
     "text": [
      "35\n"
     ]
    }
   ],
   "source": [
    "# (1) children younger than 18 in the first or second class predominantly survive\n",
    "bool1 = (train['AgeFill'] < 18) & (train['Pclass'] < 3)\n",
    "bool1t = (test['AgeFill'] < 18) & (test['Pclass'] < 3)\n",
    "print(sum(bool1))\n",
    "\n",
    "train[\"kidHighClass\"] = createNewCol(bool1)\n",
    "test[\"kidHighClass\"] = createNewCol(bool1t)"
   ]
  },
  {
   "cell_type": "code",
   "execution_count": 34,
   "metadata": {
    "collapsed": false
   },
   "outputs": [
    {
     "name": "stdout",
     "output_type": "stream",
     "text": [
      "26\n"
     ]
    }
   ],
   "source": [
    "# (2) mother's with one child in first or second class predominantly survive\n",
    "bool2 = (train['AgeFill'] > 18) & (train['Parch'] == 1) & (train['Pclass'] < 3) & (train['Gender'] == 0)\n",
    "bool2t = (test['AgeFill'] > 18) & (test['Parch'] == 1) & (test['Pclass'] < 3) & (test['Gender'] == 0)\n",
    "print(sum(bool2))\n",
    "\n",
    "train[\"momHighClass\"] = createNewCol(bool2)\n",
    "test[\"momHighClass\"] = createNewCol(bool2t)"
   ]
  },
  {
   "cell_type": "code",
   "execution_count": 10,
   "metadata": {
    "collapsed": false
   },
   "outputs": [
    {
     "data": {
      "text/html": [
       "<div style=\"max-height:1000px;max-width:1500px;overflow:auto;\">\n",
       "<table border=\"1\" class=\"dataframe\">\n",
       "  <thead>\n",
       "    <tr style=\"text-align: right;\">\n",
       "      <th></th>\n",
       "      <th>PassengerId</th>\n",
       "      <th>Survived</th>\n",
       "      <th>Pclass</th>\n",
       "      <th>SibSp</th>\n",
       "      <th>Parch</th>\n",
       "      <th>Gender</th>\n",
       "      <th>Port</th>\n",
       "      <th>AgeFill</th>\n",
       "      <th>FareFill</th>\n",
       "      <th>kidsHighClass</th>\n",
       "      <th>momsHighClass</th>\n",
       "    </tr>\n",
       "  </thead>\n",
       "  <tbody>\n",
       "    <tr>\n",
       "      <th>0 </th>\n",
       "      <td>  1</td>\n",
       "      <td> 0</td>\n",
       "      <td> 3</td>\n",
       "      <td> 1</td>\n",
       "      <td> 0</td>\n",
       "      <td> 1</td>\n",
       "      <td> 0</td>\n",
       "      <td> 22.0</td>\n",
       "      <td>  7.2500</td>\n",
       "      <td> 0</td>\n",
       "      <td> 0</td>\n",
       "    </tr>\n",
       "    <tr>\n",
       "      <th>1 </th>\n",
       "      <td>  2</td>\n",
       "      <td> 1</td>\n",
       "      <td> 1</td>\n",
       "      <td> 1</td>\n",
       "      <td> 0</td>\n",
       "      <td> 0</td>\n",
       "      <td> 1</td>\n",
       "      <td> 38.0</td>\n",
       "      <td> 71.2833</td>\n",
       "      <td> 0</td>\n",
       "      <td> 0</td>\n",
       "    </tr>\n",
       "    <tr>\n",
       "      <th>2 </th>\n",
       "      <td>  3</td>\n",
       "      <td> 1</td>\n",
       "      <td> 3</td>\n",
       "      <td> 0</td>\n",
       "      <td> 0</td>\n",
       "      <td> 0</td>\n",
       "      <td> 0</td>\n",
       "      <td> 26.0</td>\n",
       "      <td>  7.9250</td>\n",
       "      <td> 0</td>\n",
       "      <td> 0</td>\n",
       "    </tr>\n",
       "    <tr>\n",
       "      <th>3 </th>\n",
       "      <td>  4</td>\n",
       "      <td> 1</td>\n",
       "      <td> 1</td>\n",
       "      <td> 1</td>\n",
       "      <td> 0</td>\n",
       "      <td> 0</td>\n",
       "      <td> 0</td>\n",
       "      <td> 35.0</td>\n",
       "      <td> 53.1000</td>\n",
       "      <td> 0</td>\n",
       "      <td> 0</td>\n",
       "    </tr>\n",
       "    <tr>\n",
       "      <th>4 </th>\n",
       "      <td>  5</td>\n",
       "      <td> 0</td>\n",
       "      <td> 3</td>\n",
       "      <td> 0</td>\n",
       "      <td> 0</td>\n",
       "      <td> 1</td>\n",
       "      <td> 0</td>\n",
       "      <td> 35.0</td>\n",
       "      <td>  8.0500</td>\n",
       "      <td> 0</td>\n",
       "      <td> 0</td>\n",
       "    </tr>\n",
       "    <tr>\n",
       "      <th>5 </th>\n",
       "      <td>  6</td>\n",
       "      <td> 0</td>\n",
       "      <td> 3</td>\n",
       "      <td> 0</td>\n",
       "      <td> 0</td>\n",
       "      <td> 1</td>\n",
       "      <td> 2</td>\n",
       "      <td> 25.0</td>\n",
       "      <td>  8.4583</td>\n",
       "      <td> 0</td>\n",
       "      <td> 0</td>\n",
       "    </tr>\n",
       "    <tr>\n",
       "      <th>6 </th>\n",
       "      <td>  7</td>\n",
       "      <td> 0</td>\n",
       "      <td> 1</td>\n",
       "      <td> 0</td>\n",
       "      <td> 0</td>\n",
       "      <td> 1</td>\n",
       "      <td> 0</td>\n",
       "      <td> 54.0</td>\n",
       "      <td> 51.8625</td>\n",
       "      <td> 0</td>\n",
       "      <td> 0</td>\n",
       "    </tr>\n",
       "    <tr>\n",
       "      <th>7 </th>\n",
       "      <td>  8</td>\n",
       "      <td> 0</td>\n",
       "      <td> 3</td>\n",
       "      <td> 3</td>\n",
       "      <td> 1</td>\n",
       "      <td> 1</td>\n",
       "      <td> 0</td>\n",
       "      <td>  2.0</td>\n",
       "      <td> 21.0750</td>\n",
       "      <td> 0</td>\n",
       "      <td> 0</td>\n",
       "    </tr>\n",
       "    <tr>\n",
       "      <th>8 </th>\n",
       "      <td>  9</td>\n",
       "      <td> 1</td>\n",
       "      <td> 3</td>\n",
       "      <td> 0</td>\n",
       "      <td> 2</td>\n",
       "      <td> 0</td>\n",
       "      <td> 0</td>\n",
       "      <td> 27.0</td>\n",
       "      <td> 11.1333</td>\n",
       "      <td> 0</td>\n",
       "      <td> 0</td>\n",
       "    </tr>\n",
       "    <tr>\n",
       "      <th>9 </th>\n",
       "      <td> 10</td>\n",
       "      <td> 1</td>\n",
       "      <td> 2</td>\n",
       "      <td> 1</td>\n",
       "      <td> 0</td>\n",
       "      <td> 0</td>\n",
       "      <td> 1</td>\n",
       "      <td> 14.0</td>\n",
       "      <td> 30.0708</td>\n",
       "      <td> 1</td>\n",
       "      <td> 0</td>\n",
       "    </tr>\n",
       "    <tr>\n",
       "      <th>10</th>\n",
       "      <td> 11</td>\n",
       "      <td> 1</td>\n",
       "      <td> 3</td>\n",
       "      <td> 1</td>\n",
       "      <td> 1</td>\n",
       "      <td> 0</td>\n",
       "      <td> 0</td>\n",
       "      <td>  4.0</td>\n",
       "      <td> 16.7000</td>\n",
       "      <td> 0</td>\n",
       "      <td> 0</td>\n",
       "    </tr>\n",
       "    <tr>\n",
       "      <th>11</th>\n",
       "      <td> 12</td>\n",
       "      <td> 1</td>\n",
       "      <td> 1</td>\n",
       "      <td> 0</td>\n",
       "      <td> 0</td>\n",
       "      <td> 0</td>\n",
       "      <td> 0</td>\n",
       "      <td> 58.0</td>\n",
       "      <td> 26.5500</td>\n",
       "      <td> 0</td>\n",
       "      <td> 0</td>\n",
       "    </tr>\n",
       "    <tr>\n",
       "      <th>12</th>\n",
       "      <td> 13</td>\n",
       "      <td> 0</td>\n",
       "      <td> 3</td>\n",
       "      <td> 0</td>\n",
       "      <td> 0</td>\n",
       "      <td> 1</td>\n",
       "      <td> 0</td>\n",
       "      <td> 20.0</td>\n",
       "      <td>  8.0500</td>\n",
       "      <td> 0</td>\n",
       "      <td> 0</td>\n",
       "    </tr>\n",
       "    <tr>\n",
       "      <th>13</th>\n",
       "      <td> 14</td>\n",
       "      <td> 0</td>\n",
       "      <td> 3</td>\n",
       "      <td> 1</td>\n",
       "      <td> 5</td>\n",
       "      <td> 1</td>\n",
       "      <td> 0</td>\n",
       "      <td> 39.0</td>\n",
       "      <td> 31.2750</td>\n",
       "      <td> 0</td>\n",
       "      <td> 0</td>\n",
       "    </tr>\n",
       "    <tr>\n",
       "      <th>14</th>\n",
       "      <td> 15</td>\n",
       "      <td> 0</td>\n",
       "      <td> 3</td>\n",
       "      <td> 0</td>\n",
       "      <td> 0</td>\n",
       "      <td> 0</td>\n",
       "      <td> 0</td>\n",
       "      <td> 14.0</td>\n",
       "      <td>  7.8542</td>\n",
       "      <td> 0</td>\n",
       "      <td> 0</td>\n",
       "    </tr>\n",
       "    <tr>\n",
       "      <th>15</th>\n",
       "      <td> 16</td>\n",
       "      <td> 1</td>\n",
       "      <td> 2</td>\n",
       "      <td> 0</td>\n",
       "      <td> 0</td>\n",
       "      <td> 0</td>\n",
       "      <td> 0</td>\n",
       "      <td> 55.0</td>\n",
       "      <td> 16.0000</td>\n",
       "      <td> 0</td>\n",
       "      <td> 0</td>\n",
       "    </tr>\n",
       "    <tr>\n",
       "      <th>16</th>\n",
       "      <td> 17</td>\n",
       "      <td> 0</td>\n",
       "      <td> 3</td>\n",
       "      <td> 4</td>\n",
       "      <td> 1</td>\n",
       "      <td> 1</td>\n",
       "      <td> 2</td>\n",
       "      <td>  2.0</td>\n",
       "      <td> 29.1250</td>\n",
       "      <td> 0</td>\n",
       "      <td> 0</td>\n",
       "    </tr>\n",
       "    <tr>\n",
       "      <th>17</th>\n",
       "      <td> 18</td>\n",
       "      <td> 1</td>\n",
       "      <td> 2</td>\n",
       "      <td> 0</td>\n",
       "      <td> 0</td>\n",
       "      <td> 1</td>\n",
       "      <td> 0</td>\n",
       "      <td> 30.0</td>\n",
       "      <td> 13.0000</td>\n",
       "      <td> 0</td>\n",
       "      <td> 0</td>\n",
       "    </tr>\n",
       "    <tr>\n",
       "      <th>18</th>\n",
       "      <td> 19</td>\n",
       "      <td> 0</td>\n",
       "      <td> 3</td>\n",
       "      <td> 1</td>\n",
       "      <td> 0</td>\n",
       "      <td> 0</td>\n",
       "      <td> 0</td>\n",
       "      <td> 31.0</td>\n",
       "      <td> 18.0000</td>\n",
       "      <td> 0</td>\n",
       "      <td> 0</td>\n",
       "    </tr>\n",
       "    <tr>\n",
       "      <th>19</th>\n",
       "      <td> 20</td>\n",
       "      <td> 1</td>\n",
       "      <td> 3</td>\n",
       "      <td> 0</td>\n",
       "      <td> 0</td>\n",
       "      <td> 0</td>\n",
       "      <td> 1</td>\n",
       "      <td> 21.5</td>\n",
       "      <td>  7.2250</td>\n",
       "      <td> 0</td>\n",
       "      <td> 0</td>\n",
       "    </tr>\n",
       "  </tbody>\n",
       "</table>\n",
       "</div>"
      ],
      "text/plain": [
       "    PassengerId  Survived  Pclass  SibSp  Parch  Gender  Port  AgeFill  \\\n",
       "0             1         0       3      1      0       1     0     22.0   \n",
       "1             2         1       1      1      0       0     1     38.0   \n",
       "2             3         1       3      0      0       0     0     26.0   \n",
       "3             4         1       1      1      0       0     0     35.0   \n",
       "4             5         0       3      0      0       1     0     35.0   \n",
       "5             6         0       3      0      0       1     2     25.0   \n",
       "6             7         0       1      0      0       1     0     54.0   \n",
       "7             8         0       3      3      1       1     0      2.0   \n",
       "8             9         1       3      0      2       0     0     27.0   \n",
       "9            10         1       2      1      0       0     1     14.0   \n",
       "10           11         1       3      1      1       0     0      4.0   \n",
       "11           12         1       1      0      0       0     0     58.0   \n",
       "12           13         0       3      0      0       1     0     20.0   \n",
       "13           14         0       3      1      5       1     0     39.0   \n",
       "14           15         0       3      0      0       0     0     14.0   \n",
       "15           16         1       2      0      0       0     0     55.0   \n",
       "16           17         0       3      4      1       1     2      2.0   \n",
       "17           18         1       2      0      0       1     0     30.0   \n",
       "18           19         0       3      1      0       0     0     31.0   \n",
       "19           20         1       3      0      0       0     1     21.5   \n",
       "\n",
       "    FareFill  kidsHighClass  momsHighClass  \n",
       "0     7.2500              0              0  \n",
       "1    71.2833              0              0  \n",
       "2     7.9250              0              0  \n",
       "3    53.1000              0              0  \n",
       "4     8.0500              0              0  \n",
       "5     8.4583              0              0  \n",
       "6    51.8625              0              0  \n",
       "7    21.0750              0              0  \n",
       "8    11.1333              0              0  \n",
       "9    30.0708              1              0  \n",
       "10   16.7000              0              0  \n",
       "11   26.5500              0              0  \n",
       "12    8.0500              0              0  \n",
       "13   31.2750              0              0  \n",
       "14    7.8542              0              0  \n",
       "15   16.0000              0              0  \n",
       "16   29.1250              0              0  \n",
       "17   13.0000              0              0  \n",
       "18   18.0000              0              0  \n",
       "19    7.2250              0              0  "
      ]
     },
     "execution_count": 10,
     "metadata": {},
     "output_type": "execute_result"
    }
   ],
   "source": [
    "train[0:20]"
   ]
  },
  {
   "cell_type": "code",
   "execution_count": 11,
   "metadata": {
    "collapsed": true
   },
   "outputs": [],
   "source": [
    "# create hold-out set\n",
    "\n",
    "features = list(train.columns.values)[2::]\n",
    "X_train, X_test, y_train, y_test = train_test_split(train[features], train['Survived'])"
   ]
  },
  {
   "cell_type": "markdown",
   "metadata": {},
   "source": [
    "# Data exploration"
   ]
  },
  {
   "cell_type": "code",
   "execution_count": 12,
   "metadata": {
    "collapsed": false
   },
   "outputs": [
    {
     "data": {
      "text/html": [
       "<div style=\"max-height:1000px;max-width:1500px;overflow:auto;\">\n",
       "<table border=\"1\" class=\"dataframe\">\n",
       "  <thead>\n",
       "    <tr style=\"text-align: right;\">\n",
       "      <th></th>\n",
       "      <th>Pclass</th>\n",
       "      <th>SibSp</th>\n",
       "      <th>Parch</th>\n",
       "      <th>Gender</th>\n",
       "      <th>Port</th>\n",
       "      <th>AgeFill</th>\n",
       "      <th>FareFill</th>\n",
       "      <th>kidsHighClass</th>\n",
       "      <th>momsHighClass</th>\n",
       "    </tr>\n",
       "    <tr>\n",
       "      <th>Survived</th>\n",
       "      <th></th>\n",
       "      <th></th>\n",
       "      <th></th>\n",
       "      <th></th>\n",
       "      <th></th>\n",
       "      <th></th>\n",
       "      <th></th>\n",
       "      <th></th>\n",
       "      <th></th>\n",
       "    </tr>\n",
       "  </thead>\n",
       "  <tbody>\n",
       "    <tr>\n",
       "      <th>0</th>\n",
       "      <td> 2.524272</td>\n",
       "      <td> 0.567961</td>\n",
       "      <td> 0.315534</td>\n",
       "      <td> 0.861650</td>\n",
       "      <td> 0.300971</td>\n",
       "      <td> 29.832524</td>\n",
       "      <td> 22.205915</td>\n",
       "      <td> 0.004854</td>\n",
       "      <td> 0.002427</td>\n",
       "    </tr>\n",
       "    <tr>\n",
       "      <th>1</th>\n",
       "      <td> 1.976378</td>\n",
       "      <td> 0.460630</td>\n",
       "      <td> 0.452756</td>\n",
       "      <td> 0.334646</td>\n",
       "      <td> 0.437008</td>\n",
       "      <td> 27.381260</td>\n",
       "      <td> 48.353331</td>\n",
       "      <td> 0.094488</td>\n",
       "      <td> 0.062992</td>\n",
       "    </tr>\n",
       "  </tbody>\n",
       "</table>\n",
       "</div>"
      ],
      "text/plain": [
       "            Pclass     SibSp     Parch    Gender      Port    AgeFill  \\\n",
       "Survived                                                                \n",
       "0         2.524272  0.567961  0.315534  0.861650  0.300971  29.832524   \n",
       "1         1.976378  0.460630  0.452756  0.334646  0.437008  27.381260   \n",
       "\n",
       "           FareFill  kidsHighClass  momsHighClass  \n",
       "Survived                                           \n",
       "0         22.205915       0.004854       0.002427  \n",
       "1         48.353331       0.094488       0.062992  "
      ]
     },
     "execution_count": 12,
     "metadata": {},
     "output_type": "execute_result"
    }
   ],
   "source": [
    "X_train.groupby(y_train).mean()"
   ]
  },
  {
   "cell_type": "code",
   "execution_count": 13,
   "metadata": {
    "collapsed": false,
    "scrolled": true
   },
   "outputs": [
    {
     "data": {
      "text/html": [
       "<div style=\"max-height:1000px;max-width:1500px;overflow:auto;\">\n",
       "<table border=\"1\" class=\"dataframe\">\n",
       "  <thead>\n",
       "    <tr style=\"text-align: right;\">\n",
       "      <th></th>\n",
       "      <th>Pclass</th>\n",
       "      <th>SibSp</th>\n",
       "      <th>Parch</th>\n",
       "      <th>Gender</th>\n",
       "      <th>AgeFill</th>\n",
       "      <th>FareFill</th>\n",
       "      <th>kidsHighClass</th>\n",
       "      <th>momsHighClass</th>\n",
       "    </tr>\n",
       "    <tr>\n",
       "      <th>Port</th>\n",
       "      <th></th>\n",
       "      <th></th>\n",
       "      <th></th>\n",
       "      <th></th>\n",
       "      <th></th>\n",
       "      <th></th>\n",
       "      <th></th>\n",
       "      <th></th>\n",
       "    </tr>\n",
       "  </thead>\n",
       "  <tbody>\n",
       "    <tr>\n",
       "      <th>0</th>\n",
       "      <td> 2.359343</td>\n",
       "      <td> 0.583162</td>\n",
       "      <td> 0.404517</td>\n",
       "      <td> 0.691992</td>\n",
       "      <td> 28.939261</td>\n",
       "      <td> 26.129669</td>\n",
       "      <td> 0.043121</td>\n",
       "      <td> 0.026694</td>\n",
       "    </tr>\n",
       "    <tr>\n",
       "      <th>1</th>\n",
       "      <td> 1.878049</td>\n",
       "      <td> 0.390244</td>\n",
       "      <td> 0.349593</td>\n",
       "      <td> 0.569106</td>\n",
       "      <td> 30.056260</td>\n",
       "      <td> 64.742957</td>\n",
       "      <td> 0.040650</td>\n",
       "      <td> 0.032520</td>\n",
       "    </tr>\n",
       "    <tr>\n",
       "      <th>2</th>\n",
       "      <td> 2.892857</td>\n",
       "      <td> 0.339286</td>\n",
       "      <td> 0.089286</td>\n",
       "      <td> 0.589286</td>\n",
       "      <td> 25.991071</td>\n",
       "      <td> 13.250895</td>\n",
       "      <td> 0.000000</td>\n",
       "      <td> 0.000000</td>\n",
       "    </tr>\n",
       "  </tbody>\n",
       "</table>\n",
       "</div>"
      ],
      "text/plain": [
       "        Pclass     SibSp     Parch    Gender    AgeFill   FareFill  \\\n",
       "Port                                                                 \n",
       "0     2.359343  0.583162  0.404517  0.691992  28.939261  26.129669   \n",
       "1     1.878049  0.390244  0.349593  0.569106  30.056260  64.742957   \n",
       "2     2.892857  0.339286  0.089286  0.589286  25.991071  13.250895   \n",
       "\n",
       "      kidsHighClass  momsHighClass  \n",
       "Port                                \n",
       "0          0.043121       0.026694  \n",
       "1          0.040650       0.032520  \n",
       "2          0.000000       0.000000  "
      ]
     },
     "execution_count": 13,
     "metadata": {},
     "output_type": "execute_result"
    }
   ],
   "source": [
    "X_train.groupby('Port').mean()"
   ]
  },
  {
   "cell_type": "markdown",
   "metadata": {},
   "source": [
    "# Data visualization \n",
    "## for more visualizations see 'Visualization and exploration' notebook"
   ]
  },
  {
   "cell_type": "code",
   "execution_count": 14,
   "metadata": {
    "collapsed": false,
    "scrolled": true
   },
   "outputs": [
    {
     "data": {
      "text/plain": [
       "<matplotlib.text.Text at 0xab09400>"
      ]
     },
     "execution_count": 14,
     "metadata": {},
     "output_type": "execute_result"
    },
    {
     "data": {
      "image/png": "[encoded data removed]",
      "text/plain": [
       "<matplotlib.figure.Figure at 0xaacf5f8>"
      ]
     },
     "metadata": {},
     "output_type": "display_data"
    }
   ],
   "source": [
    "pd.crosstab(X_train.Gender, y_train.astype(bool)).plot(kind='bar')\n",
    "plt.title('Gender distribution by survival')\n",
    "plt.xlabel('Gender; 0 = female')\n",
    "plt.ylabel('Frequency')"
   ]
  },
  {
   "cell_type": "code",
   "execution_count": 15,
   "metadata": {
    "collapsed": false
   },
   "outputs": [
    {
     "name": "stdout",
     "output_type": "stream",
     "text": [
      "0.617547806524\n"
     ]
    }
   ],
   "source": [
    "# null accuracy\n",
    "null_accuracy = train.Survived.value_counts().max()/len(train.Survived)\n",
    "print(null_accuracy)"
   ]
  },
  {
   "cell_type": "markdown",
   "metadata": {},
   "source": [
    "# Feature selection"
   ]
  },
  {
   "cell_type": "code",
   "execution_count": 40,
   "metadata": {
    "collapsed": false
   },
   "outputs": [
    {
     "data": {
      "text/plain": [
       "array([[  0.    ,  21.    ,   7.65  ,   0.    ],\n",
       "       [  1.    ,  25.    ,   7.75  ,   0.    ],\n",
       "       [  1.    ,  33.    ,   8.6625,   0.    ],\n",
       "       [  0.    ,  33.    ,  15.85  ,   0.    ],\n",
       "       [  1.    ,  25.    ,   6.8583,   0.    ],\n",
       "       [  0.    ,  49.    ,  76.7292,   0.    ],\n",
       "       [  0.    ,   0.75  ,  19.2583,   0.    ],\n",
       "       [  1.    ,  58.    ,  29.7   ,   0.    ],\n",
       "       [  1.    ,  25.    ,   7.7333,   0.    ],\n",
       "       [  1.    ,  48.    ,  76.7292,   0.    ]])"
      ]
     },
     "execution_count": 40,
     "metadata": {},
     "output_type": "execute_result"
    }
   ],
   "source": [
    "from sklearn.feature_selection import SelectKBest, chi2\n",
    "\n",
    "ch2 = SelectKBest(chi2, k = 4)\n",
    "X_train2 = ch2.fit_transform(X_train, y_train)\n",
    "# ch2.get_feature_names()\n",
    "X_train2[0:10]\n"
   ]
  },
  {
   "cell_type": "code",
   "execution_count": 41,
   "metadata": {
    "collapsed": false
   },
   "outputs": [
    {
     "name": "stdout",
     "output_type": "stream",
     "text": [
      "['Gender', 'AgeFill', 'FareFill', 'kidsHighClass']\n"
     ]
    }
   ],
   "source": [
    "predictors = list(X_train.columns.values[ch2.get_support()])\n",
    "print(predictors)"
   ]
  },
  {
   "cell_type": "markdown",
   "metadata": {},
   "source": [
    "# Logistic regression\n",
    "\n",
    "*penalty* = 'l2' (specify the norm used in penalization)\n",
    "\n",
    "*C* = 1.0 (inverse of regularization strength; smaller values specify stronger regularization)\n",
    "\n",
    "*random_state* = None (seed of the pseudo random number generator to use when shuffling the data)"
   ]
  },
  {
   "cell_type": "code",
   "execution_count": 24,
   "metadata": {
    "collapsed": false,
    "scrolled": true
   },
   "outputs": [],
   "source": [
    "# Initialize our algorithm\n",
    "alg = LogisticRegression()\n",
    "\n",
    "# Train the algorithm using all the training data\n",
    "# start = time()\n",
    "# # alg.fit(train[predictors], train[\"Survived\"])\n",
    "# print(\"LogisticReg Training finished in %.2f s\" % (time() - start))"
   ]
  },
  {
   "cell_type": "code",
   "execution_count": 25,
   "metadata": {
    "collapsed": false
   },
   "outputs": [
    {
     "name": "stdout",
     "output_type": "stream",
     "text": [
      "LogisticReg Evaluation finished in 0.04 s\n"
     ]
    }
   ],
   "source": [
    "# Basic Evaluation on Training Set\n",
    "start = time()\n",
    "train_pred = cross_val_predict(alg, X_train[predictors], y_train, cv=10)\n",
    "print(\"LogisticReg Evaluation finished in %.2f s\" % (time() - start))"
   ]
  },
  {
   "cell_type": "code",
   "execution_count": 26,
   "metadata": {
    "collapsed": false
   },
   "outputs": [
    {
     "name": "stdout",
     "output_type": "stream",
     "text": [
      "Accuracy:  0.798798798799\n"
     ]
    }
   ],
   "source": [
    "# Display Accuracy\n",
    "print(\"Accuracy: \", accuracy_score(y_train, train_pred))"
   ]
  },
  {
   "cell_type": "code",
   "execution_count": 27,
   "metadata": {
    "collapsed": false
   },
   "outputs": [
    {
     "name": "stdout",
     "output_type": "stream",
     "text": [
      "Accuracy:  0.798798798799\n"
     ]
    }
   ],
   "source": [
    "# running fit method results in same accuracy as cross-val-predict\n",
    "alg.fit(X_train[predictors], y_train)\n",
    "print(\"Accuracy: \", accuracy_score(y_train, train_pred))"
   ]
  },
  {
   "cell_type": "markdown",
   "metadata": {},
   "source": [
    "# Model evaluation"
   ]
  },
  {
   "cell_type": "code",
   "execution_count": 28,
   "metadata": {
    "collapsed": false
   },
   "outputs": [
    {
     "name": "stdout",
     "output_type": "stream",
     "text": [
      "Accuracy:  0.789237668161\n"
     ]
    }
   ],
   "source": [
    "# Make predictions for hold-out set.\n",
    "holdout_pred = alg.predict(X_test[predictors])\n",
    "print(\"Accuracy: \", accuracy_score(y_test, holdout_pred))"
   ]
  },
  {
   "cell_type": "code",
   "execution_count": 29,
   "metadata": {
    "collapsed": false
   },
   "outputs": [
    {
     "name": "stdout",
     "output_type": "stream",
     "text": [
      "Accuracy:  0.811659192825\n"
     ]
    }
   ],
   "source": [
    "# Make predictions for hold-out set using cross-val.\n",
    "holdout_pred2 = cross_val_predict(alg, X_test[predictors], y_test, cv=10)\n",
    "print(\"Accuracy: \", accuracy_score(y_test, holdout_pred2))"
   ]
  },
  {
   "cell_type": "code",
   "execution_count": 30,
   "metadata": {
    "collapsed": false
   },
   "outputs": [
    {
     "data": {
      "text/plain": [
       "array([0, 0, 0, 0, 1, 0, 0, 0, 1, 1], dtype=int64)"
      ]
     },
     "execution_count": 30,
     "metadata": {},
     "output_type": "execute_result"
    }
   ],
   "source": [
    "holdout_pred[0:10]"
   ]
  },
  {
   "cell_type": "code",
   "execution_count": 31,
   "metadata": {
    "collapsed": false
   },
   "outputs": [
    {
     "data": {
      "text/plain": [
       "array([0, 0, 0, 1, 1, 0, 0, 0, 1, 1], dtype=int64)"
      ]
     },
     "execution_count": 31,
     "metadata": {},
     "output_type": "execute_result"
    }
   ],
   "source": [
    "holdout_pred2[0:10]"
   ]
  },
  {
   "cell_type": "code",
   "execution_count": 35,
   "metadata": {
    "collapsed": false
   },
   "outputs": [],
   "source": [
    "# Make predictions for test set.\n",
    "test_pred = alg.predict(test[predictors])"
   ]
  },
  {
   "cell_type": "code",
   "execution_count": 36,
   "metadata": {
    "collapsed": false
   },
   "outputs": [
    {
     "data": {
      "text/plain": [
       "array([0, 1, 0, 0, 1, 0, 1, 0, 1, 0], dtype=int64)"
      ]
     },
     "execution_count": 36,
     "metadata": {},
     "output_type": "execute_result"
    }
   ],
   "source": [
    "test_pred[0:10]"
   ]
  },
  {
   "cell_type": "code",
   "execution_count": 37,
   "metadata": {
    "collapsed": true
   },
   "outputs": [],
   "source": [
    "# Create a new dataframe with only the columns Kaggle wants from the dataset.\n",
    "submission = pd.DataFrame({\n",
    "        \"PassengerId\": test[\"PassengerId\"],\n",
    "        \"Survived\": test_pred\n",
    "    })\n",
    "\n",
    "# Any files you save will be available in the output tab below\n",
    "submission.to_csv('submission.csv', index=False)"
   ]
  }
 ],
 "metadata": {
  "kernelspec": {
   "display_name": "Python 3",
   "language": "python",
   "name": "python3"
  },
  "language_info": {
   "codemirror_mode": {
    "name": "ipython",
    "version": 3
   },
   "file_extension": ".py",
   "mimetype": "text/x-python",
   "name": "python",
   "nbconvert_exporter": "python",
   "pygments_lexer": "ipython3",
   "version": "3.4.3"
  }
 },
 "nbformat": 4,
 "nbformat_minor": 0
}
